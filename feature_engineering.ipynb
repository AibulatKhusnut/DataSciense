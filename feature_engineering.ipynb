{
 "cells": [
  {
   "cell_type": "markdown",
   "id": "20d02d60",
   "metadata": {
    "id": "20d02d60"
   },
   "source": [
    "# Feature Engineering. Практическая работа"
   ]
  },
  {
   "cell_type": "markdown",
   "id": "zy6qaMPhyAZd",
   "metadata": {
    "id": "zy6qaMPhyAZd"
   },
   "source": [
    "Сдаётся на проверку."
   ]
  },
  {
   "cell_type": "markdown",
   "id": "df9d0fa3",
   "metadata": {
    "id": "df9d0fa3"
   },
   "source": [
    "## Цели практической работы\n",
    "\n",
    "Научиться: \n",
    "\n",
    "*   генерировать новые признаки; \n",
    "*   нормализовать и кодировать данные с помощью lambda-функций и библиотеки scikit-learn.\n"
   ]
  },
  {
   "cell_type": "markdown",
   "id": "c4a1bdf2",
   "metadata": {
    "id": "c4a1bdf2"
   },
   "source": [
    "## Что входит в практическую работу\n",
    "\n",
    "1. Построить признаки из строк.\n",
    "2. Преобразовать категориальные переменные.\n",
    "3. Стандартизировать данные.\n",
    "4. Использовать MinMaxScaler для нормализации данных.\n",
    "5. Создать признаки на основе дат.\n",
    "6. Сохранить датафрейм для этапа моделирования."
   ]
  },
  {
   "cell_type": "markdown",
   "id": "cefde751",
   "metadata": {
    "id": "cefde751"
   },
   "source": [
    "## Что оценивается\n",
    "- Программа выдаёт верный ответ на заданном наборе данных.\n",
    "- Описаны причины выбранного решения, если требуется.\n",
    "- Код читабелен: переменным даны осмысленные названия, соблюдены отступы и правила расстановки пробелов.\n",
    "- При построении графиков название и оси подписаны, выведена легенда, если требуется. \n",
    "- Репозиторий проекта содержит осмысленные коммиты, содержащие конкретные реализованные фичи, ветки названы согласно назначению, лишние файлы не хранятся в репозитории.\n",
    "- В репозитории проекта соблюдена иерархия директорий согласно списку модулей и содержащихся в них тем.\n",
    "- Репозиторий проекта содержит файлы с данными, полученными в результате выполнения практической работы.\n"
   ]
  },
  {
   "cell_type": "markdown",
   "id": "d8cc2cfd",
   "metadata": {
    "id": "d8cc2cfd"
   },
   "source": [
    "## Как отправить работу на проверку\n",
    "Сдайте практическую работу этого модуля через систему контроля версий Git сервиса Skillbox GitLab. После загрузки работы на проверку напишите об этом в личном кабинете своему проверяющему куратору.\n"
   ]
  },
  {
   "cell_type": "markdown",
   "id": "3092d4ea",
   "metadata": {
    "id": "3092d4ea"
   },
   "source": [
    "## Задача\n",
    "\n",
    "Мы продолжим исследовать и готовить данные для этапа моделирования.\n",
    "\n",
    "Вам предстоит работать с небольшой выборкой из коллекции подержанных автомобилей, выставленных на продажу в Соединённых Штатах, представленной в файле `data/vehicles_dataset_upd.csv`. На этих данных вы построите первую модель классификации, определяющую категорию цены подержанного автомобиля в зависимости от характеристик транспортного средства.\n",
    "\n",
    "В этой практической работе вы продолжите генерировать дополнительные признаки и завершите подготовку датасета для этапа моделирования.\n",
    "\n",
    "## Описание датасета:\n",
    "- `id`— идентификатор записи;\n",
    "- `url`— URL-записи о продаже;\n",
    "- `region`— регион;\n",
    "- `region_url`— URL региона;\n",
    "- `price`— стоимость;\n",
    "- `year`— год выпуска;\n",
    "- `manufacturer`— производитель;\n",
    "- `model`— модель;\n",
    "- `condition`— состояние;\n",
    "- `cylinders`— количество цилиндров;\n",
    "- `fuel`— тип топлива;\n",
    "- `odometer`— количество пройденных миль;\n",
    "- `title_status`— статус;\n",
    "- `transmission`— коробка передач;\n",
    "- `VIN`— идентификационный номер;\n",
    "- `drive`— тип привода;\n",
    "- `size`— размер;\n",
    "- `type`— кузов;\n",
    "- `paint_color`— цвет;\n",
    "- `image_url`— URL изображения;\n",
    "- `description`— указанное описание;\n",
    "- `county`— страна;\n",
    "- `state`— штат;\n",
    "- `lat`— широта;\n",
    "- `long`— долгота;\n",
    "- `posting_date`— дата размещения объявления о продаже;\n",
    "- `price_category`— категория цены.\n"
   ]
  },
  {
   "cell_type": "code",
   "execution_count": 1,
   "id": "859c4d2b",
   "metadata": {
    "ExecuteTime": {
     "end_time": "2022-02-23T19:39:15.915860Z",
     "start_time": "2022-02-23T19:39:15.902436Z"
    },
    "id": "859c4d2b"
   },
   "outputs": [],
   "source": [
    "# Импортируйте необходимые библиотеки\n",
    "import pandas as pd\n",
    "import numpy as np\n",
    "from sklearn.preprocessing import OneHotEncoder"
   ]
  },
  {
   "cell_type": "markdown",
   "id": "a98b05f6",
   "metadata": {
    "id": "a98b05f6"
   },
   "source": [
    "### Задача 1. Построение признаков из строк\n",
    "\n",
    "1. Загрузите датасет из `data/vehicles_dataset_upd6.csv`, выведите первые пять записей и список колонок."
   ]
  },
  {
   "cell_type": "code",
   "execution_count": 2,
   "id": "d536ad11",
   "metadata": {
    "ExecuteTime": {
     "end_time": "2022-03-15T22:40:23.588946Z",
     "start_time": "2022-03-15T22:40:23.585461Z"
    },
    "id": "d536ad11"
   },
   "outputs": [
    {
     "data": {
      "text/html": [
       "<div>\n",
       "<style scoped>\n",
       "    .dataframe tbody tr th:only-of-type {\n",
       "        vertical-align: middle;\n",
       "    }\n",
       "\n",
       "    .dataframe tbody tr th {\n",
       "        vertical-align: top;\n",
       "    }\n",
       "\n",
       "    .dataframe thead th {\n",
       "        text-align: right;\n",
       "    }\n",
       "</style>\n",
       "<table border=\"1\" class=\"dataframe\">\n",
       "  <thead>\n",
       "    <tr style=\"text-align: right;\">\n",
       "      <th></th>\n",
       "      <th>id</th>\n",
       "      <th>url</th>\n",
       "      <th>region</th>\n",
       "      <th>region_url</th>\n",
       "      <th>price</th>\n",
       "      <th>year</th>\n",
       "      <th>manufacturer</th>\n",
       "      <th>model</th>\n",
       "      <th>fuel</th>\n",
       "      <th>odometer</th>\n",
       "      <th>...</th>\n",
       "      <th>is_jeep</th>\n",
       "      <th>is_honda</th>\n",
       "      <th>is_nissan</th>\n",
       "      <th>x0_diesel</th>\n",
       "      <th>x0_electric</th>\n",
       "      <th>x0_gas</th>\n",
       "      <th>x0_hybrid</th>\n",
       "      <th>x0_other</th>\n",
       "      <th>std_scaled_odometer</th>\n",
       "      <th>std_scaled_price</th>\n",
       "    </tr>\n",
       "  </thead>\n",
       "  <tbody>\n",
       "    <tr>\n",
       "      <th>0</th>\n",
       "      <td>7308295377</td>\n",
       "      <td>https://chattanooga.craigslist.org/ctd/d/chatt...</td>\n",
       "      <td>chattanooga</td>\n",
       "      <td>https://chattanooga.craigslist.org</td>\n",
       "      <td>54990</td>\n",
       "      <td>2020</td>\n",
       "      <td>ram</td>\n",
       "      <td>2500 crew cab big horn</td>\n",
       "      <td>diesel</td>\n",
       "      <td>27442</td>\n",
       "      <td>...</td>\n",
       "      <td>0</td>\n",
       "      <td>0</td>\n",
       "      <td>0</td>\n",
       "      <td>1.0</td>\n",
       "      <td>0.0</td>\n",
       "      <td>0.0</td>\n",
       "      <td>0.0</td>\n",
       "      <td>0.0</td>\n",
       "      <td>-1.079390</td>\n",
       "      <td>2.958509</td>\n",
       "    </tr>\n",
       "    <tr>\n",
       "      <th>1</th>\n",
       "      <td>7316380095</td>\n",
       "      <td>https://newjersey.craigslist.org/ctd/d/carlsta...</td>\n",
       "      <td>north jersey</td>\n",
       "      <td>https://newjersey.craigslist.org</td>\n",
       "      <td>16942</td>\n",
       "      <td>2016</td>\n",
       "      <td>ford</td>\n",
       "      <td>explorer 4wd 4dr xlt</td>\n",
       "      <td>other</td>\n",
       "      <td>60023</td>\n",
       "      <td>...</td>\n",
       "      <td>0</td>\n",
       "      <td>0</td>\n",
       "      <td>0</td>\n",
       "      <td>0.0</td>\n",
       "      <td>0.0</td>\n",
       "      <td>0.0</td>\n",
       "      <td>0.0</td>\n",
       "      <td>1.0</td>\n",
       "      <td>-0.560115</td>\n",
       "      <td>-0.085826</td>\n",
       "    </tr>\n",
       "    <tr>\n",
       "      <th>2</th>\n",
       "      <td>7313733749</td>\n",
       "      <td>https://reno.craigslist.org/ctd/d/atlanta-2017...</td>\n",
       "      <td>reno / tahoe</td>\n",
       "      <td>https://reno.craigslist.org</td>\n",
       "      <td>35590</td>\n",
       "      <td>2017</td>\n",
       "      <td>volkswagen</td>\n",
       "      <td>golf r hatchback</td>\n",
       "      <td>gas</td>\n",
       "      <td>14048</td>\n",
       "      <td>...</td>\n",
       "      <td>0</td>\n",
       "      <td>0</td>\n",
       "      <td>0</td>\n",
       "      <td>0.0</td>\n",
       "      <td>0.0</td>\n",
       "      <td>1.0</td>\n",
       "      <td>0.0</td>\n",
       "      <td>0.0</td>\n",
       "      <td>-1.292863</td>\n",
       "      <td>1.406256</td>\n",
       "    </tr>\n",
       "    <tr>\n",
       "      <th>3</th>\n",
       "      <td>7308210929</td>\n",
       "      <td>https://fayetteville.craigslist.org/ctd/d/rale...</td>\n",
       "      <td>fayetteville</td>\n",
       "      <td>https://fayetteville.craigslist.org</td>\n",
       "      <td>14500</td>\n",
       "      <td>2013</td>\n",
       "      <td>toyota</td>\n",
       "      <td>rav4</td>\n",
       "      <td>gas</td>\n",
       "      <td>117291</td>\n",
       "      <td>...</td>\n",
       "      <td>0</td>\n",
       "      <td>0</td>\n",
       "      <td>0</td>\n",
       "      <td>0.0</td>\n",
       "      <td>0.0</td>\n",
       "      <td>1.0</td>\n",
       "      <td>0.0</td>\n",
       "      <td>0.0</td>\n",
       "      <td>0.352621</td>\n",
       "      <td>-0.281218</td>\n",
       "    </tr>\n",
       "    <tr>\n",
       "      <th>4</th>\n",
       "      <td>7303797340</td>\n",
       "      <td>https://knoxville.craigslist.org/ctd/d/knoxvil...</td>\n",
       "      <td>knoxville</td>\n",
       "      <td>https://knoxville.craigslist.org</td>\n",
       "      <td>14590</td>\n",
       "      <td>2012</td>\n",
       "      <td>bmw</td>\n",
       "      <td>1 series 128i coupe 2d</td>\n",
       "      <td>other</td>\n",
       "      <td>80465</td>\n",
       "      <td>...</td>\n",
       "      <td>0</td>\n",
       "      <td>0</td>\n",
       "      <td>0</td>\n",
       "      <td>0.0</td>\n",
       "      <td>0.0</td>\n",
       "      <td>0.0</td>\n",
       "      <td>0.0</td>\n",
       "      <td>1.0</td>\n",
       "      <td>-0.234311</td>\n",
       "      <td>-0.274017</td>\n",
       "    </tr>\n",
       "  </tbody>\n",
       "</table>\n",
       "<p>5 rows × 45 columns</p>\n",
       "</div>"
      ],
      "text/plain": [
       "           id                                                url  \\\n",
       "0  7308295377  https://chattanooga.craigslist.org/ctd/d/chatt...   \n",
       "1  7316380095  https://newjersey.craigslist.org/ctd/d/carlsta...   \n",
       "2  7313733749  https://reno.craigslist.org/ctd/d/atlanta-2017...   \n",
       "3  7308210929  https://fayetteville.craigslist.org/ctd/d/rale...   \n",
       "4  7303797340  https://knoxville.craigslist.org/ctd/d/knoxvil...   \n",
       "\n",
       "         region                           region_url  price  year  \\\n",
       "0   chattanooga   https://chattanooga.craigslist.org  54990  2020   \n",
       "1  north jersey     https://newjersey.craigslist.org  16942  2016   \n",
       "2  reno / tahoe          https://reno.craigslist.org  35590  2017   \n",
       "3  fayetteville  https://fayetteville.craigslist.org  14500  2013   \n",
       "4     knoxville     https://knoxville.craigslist.org  14590  2012   \n",
       "\n",
       "  manufacturer                   model    fuel  odometer  ... is_jeep  \\\n",
       "0          ram  2500 crew cab big horn  diesel     27442  ...       0   \n",
       "1         ford    explorer 4wd 4dr xlt   other     60023  ...       0   \n",
       "2   volkswagen        golf r hatchback     gas     14048  ...       0   \n",
       "3       toyota                    rav4     gas    117291  ...       0   \n",
       "4          bmw  1 series 128i coupe 2d   other     80465  ...       0   \n",
       "\n",
       "  is_honda is_nissan x0_diesel x0_electric  x0_gas  x0_hybrid x0_other  \\\n",
       "0        0         0       1.0         0.0     0.0        0.0      0.0   \n",
       "1        0         0       0.0         0.0     0.0        0.0      1.0   \n",
       "2        0         0       0.0         0.0     1.0        0.0      0.0   \n",
       "3        0         0       0.0         0.0     1.0        0.0      0.0   \n",
       "4        0         0       0.0         0.0     0.0        0.0      1.0   \n",
       "\n",
       "  std_scaled_odometer std_scaled_price  \n",
       "0           -1.079390         2.958509  \n",
       "1           -0.560115        -0.085826  \n",
       "2           -1.292863         1.406256  \n",
       "3            0.352621        -0.281218  \n",
       "4           -0.234311        -0.274017  \n",
       "\n",
       "[5 rows x 45 columns]"
      ]
     },
     "execution_count": 2,
     "metadata": {},
     "output_type": "execute_result"
    }
   ],
   "source": [
    "# Ваш код здесь\n",
    "df=pd.read_csv(r'C:\\Users\\user\\vehicles_dataset_upd6.csv')\n",
    "df.head()"
   ]
  },
  {
   "cell_type": "markdown",
   "id": "c46630e3",
   "metadata": {
    "id": "c46630e3"
   },
   "source": [
    "2. Выведите список значений и количество уникальных значений для модели автомобиля."
   ]
  },
  {
   "cell_type": "code",
   "execution_count": 3,
   "id": "12c123d6",
   "metadata": {
    "ExecuteTime": {
     "end_time": "2022-03-15T22:40:29.330321Z",
     "start_time": "2022-03-15T22:40:29.326988Z"
    },
    "id": "12c123d6"
   },
   "outputs": [
    {
     "data": {
      "text/plain": [
       "(array(['2500 crew cab big horn', 'explorer 4wd 4dr xlt',\n",
       "        'golf r hatchback', ..., 'gs350', '1988 Nisan',\n",
       "        'a3 2.0t premium plus pzev'], dtype=object),\n",
       " 3341)"
      ]
     },
     "execution_count": 3,
     "metadata": {},
     "output_type": "execute_result"
    }
   ],
   "source": [
    "# Ваш код здесь\n",
    "df.model.unique(), len(df.model.unique())"
   ]
  },
  {
   "cell_type": "markdown",
   "id": "bcf1904b",
   "metadata": {
    "id": "bcf1904b"
   },
   "source": [
    "3. Количество уникальных значений велико. Попробуем их сократить, оставив только первое слово в наименовании модели. С помощью lambda-функции и преобразования над строками создайте новый признак `short_model`, содержащий только первое слово из наименования модели, выведите его и количество получившихся уникальных значений."
   ]
  },
  {
   "cell_type": "code",
   "execution_count": 4,
   "id": "6de1d535",
   "metadata": {
    "ExecuteTime": {
     "end_time": "2022-03-15T22:40:30.465505Z",
     "start_time": "2022-03-15T22:40:30.460032Z"
    },
    "id": "6de1d535"
   },
   "outputs": [
    {
     "data": {
      "text/plain": [
       "943"
      ]
     },
     "execution_count": 4,
     "metadata": {},
     "output_type": "execute_result"
    }
   ],
   "source": [
    "\n",
    "# Ваш код здесь\n",
    "df['short_model'] = df.model.apply(lambda x: x.split()[0])\n",
    "len(df.short_model.unique())"
   ]
  },
  {
   "cell_type": "markdown",
   "id": "f8266e27",
   "metadata": {
    "ExecuteTime": {
     "end_time": "2022-01-28T23:12:51.463454Z",
     "start_time": "2022-01-28T23:12:51.458075Z"
    },
    "id": "f8266e27"
   },
   "source": [
    "### Задача 2. Преобразование категориальных переменных\n",
    "\n",
    "1. Для категориальных переменных `short_model`, `transmission`, `region`, `manufacturer`, `state`, `title_status`, `age_category` распечатайте наименование категории и количество уникальных значений в ней.\n"
   ]
  },
  {
   "cell_type": "code",
   "execution_count": 5,
   "id": "a839bd7c",
   "metadata": {
    "ExecuteTime": {
     "end_time": "2022-03-15T22:40:31.559424Z",
     "start_time": "2022-03-15T22:40:31.552170Z"
    },
    "id": "a839bd7c"
   },
   "outputs": [
    {
     "data": {
      "text/plain": [
       "(943,\n",
       " array(['2500', 'explorer', 'golf', 'rav4', '1', 'fusion', 'accord',\n",
       "        'charger', 'altima', 'galant', '500', 'town', 'e-series', 'g.',\n",
       "        'silverado', 'mustang', 'maxima', 'civic', 'vue', 'tahoe', 'f-350',\n",
       "        'f150', 'clubman', 'xts', '3500', 'rogue', 'compass', 'camry',\n",
       "        'renegade', 'forte5', 'f-150', 'wrangler', 'mazda3', '535i',\n",
       "        'park', 'focus', 'gx', 'titan', 'corolla', 'colorado', 'tiguan',\n",
       "        'impreza', 'jetta', 'super', 'q5', 'es', 'lx450', 'pilot',\n",
       "        'Diahatsu', 'other', 'sequoia', '1500', 'tucson', 'sierra',\n",
       "        'grand', 'nautilus', 'elantra', 'x1', 'camaro', 'benz', 'tacoma',\n",
       "        'tsx', 'sebring', 'yukon', 'cooper', 'enclave', 'x4', 'sequioa',\n",
       "        'xc90', 'is300', 'f350', 'romeo', 'ranger', 'spark', '7',\n",
       "        'express', 'q7', 'tribute', 'xv', 'impala', 'c300', 'frontier',\n",
       "        'fit', 'cc', 'transit', 'outback', 'passat', '350z', 'optima',\n",
       "        'c10', 'expedition', 'pathfinder', 'challenger', '200', 'taurus',\n",
       "        'evoque', 'x3', 'arcadia', 'cr-v', 'xt6', 'sante', 'versa', 'e150',\n",
       "        'equinox', 'sonata', 'soul', 'regal', 'Scion', 'lucerne', 'f250',\n",
       "        'odyssey', 's60', 'cruze', 'mkx', 'sienna', '914', '300c',\n",
       "        'crosstrek', 'Voltswagon', 'a6', '550i', 'sport', 'mazda6',\n",
       "        'sorento', 'malibu', 'THOMAS', 'c-class', 'patriot', 'fj',\n",
       "        'trailblazer', 'c-max', '370z', 'mx-5', 'sl-class', 'e250',\n",
       "        'f-250', 'cc4500', '328i', 'm', 'nx', 'escape', 'Emergency',\n",
       "        'corvette', 'liberty', 'vibe', 'edge', 'model', 'chysler', 's5',\n",
       "        'legacy', 'v6', 'dts', 'navigator', 'crv', 'rdx', 'avalanche',\n",
       "        's10', 'Genesis', 'suzuki', 'neon', 'cougar', 'stinger', 'boxster',\n",
       "        'suburban', 'forte', 'verano', 'prius', 'ridgeline', 'promaster',\n",
       "        '5', 'xt4', 'wrx', 'mkz', 'cts-v', 'traverse', 'journey',\n",
       "        'caprice', 'rx', 'avenger', '2002', 'limousine', 'eurovan', 'srx',\n",
       "        'caravan', 'c70', 'cherokee', 'rivera', 'tl', '3.2', 'sentra',\n",
       "        'g37', 'k10', 'mdx', 'rx8', 'cayenne', 'x5', '3', 'tundra',\n",
       "        'highlander', 'santa', 'yaris', 'econoline', 'qx50', 'aura',\n",
       "        'outlander', 'dakota', 'isuzu', 'discovery', 'eos', 'pickup',\n",
       "        'gti', 'cadenza', 'genesis', 'a5', 'Chevey', '6', 'qx60', 'flex',\n",
       "        'mariner', 'durango', 'macan', 'cx-9', 'armada', 'lacrosse', 'Hot',\n",
       "        'Champion', 'a4', 'f450', 'gt-r', 'cvr', 'land', 'envision', 'g6',\n",
       "        '750xi', 'solara', 'f700', 'eqinox', 'g4500', 'continental',\n",
       "        'cx-5', 'eclipse', 'HINO', 'envoy', 'e-class', 'mazda2', 'q60',\n",
       "        'venza', 'trax', 'ss', 'f550', 'f-pace', 'terrain', 'quest',\n",
       "        'dump', 'fiesta', 'ats', 'rx7', 'scion', '2018', 'e350', 'hyndai',\n",
       "        'avalon', 'brz', '1954', 'accent', 'acadia', '4runner', 'all',\n",
       "        'xt5', 'a3', 'v60', '4500', '500l', 'bronco', 'Plymouth',\n",
       "        'Maserati', 'tlx', 'sts', '300zx', '86', '300', '4', 'cj5',\n",
       "        'eldorado', 'cj8', 'Hummer', 'hhr', 'g', 'panamera', 'lx', 'city',\n",
       "        'commander', 'e46', 'mercedes-amg', 'ram1500', 'sable', 'sonoma',\n",
       "        'certified', 'sedona', 'deville', 'sonic', 'five', 'dart', '1999',\n",
       "        'seirra', 'cobalt', 'e-250', 'm3', 'thunderbird', 'hardtop',\n",
       "        'GRAND', 'c', 'blue', 'veloster', 'm-class', 'e-pace', 'qx80',\n",
       "        'encore', 'cts', 'truck', 's90', 'f-250sd', '240', 'nv200', 'pt',\n",
       "        'forester', 'windstar', 'miata', 's320', 'FORD*', 'bel', 'rainier',\n",
       "        'i-miev', 'hse', 's-10', 'escalade', 'ion', 'deluxe',\n",
       "        'international', 'ls', 'aveo', '535xi', 'murano', 'pick', 'rl',\n",
       "        'gto', 'nv2500', 'clk-class', 'ct5', '3-series', 'Isuzu', 'b2200',\n",
       "        '3i', 'xe', 'caliber', '323i', 'rsx', '545i', 'pacifica',\n",
       "        'jeepster', 'svx', 'captiva', 'f', 's8', 'sprinter', 'plymouth',\n",
       "        'xterra', 'f650', 'lifted', 'Lotus', 'IC', 's7', 'Sea', 'SCION',\n",
       "        'atlas', 'srx~awesome', 'c-7500', 'lesabre', 'INTERNATIONAL',\n",
       "        'International', 'quattro', 'kicks', 'juke', 'savana', 's2000',\n",
       "        'beetle', 'gladiator', 'ilx', 'willys', 'new', 'g35x', 'q70',\n",
       "        '1978', 'c-hr', 'srx4', 'mpv', 'Flexible', 'bonanza', 'gle',\n",
       "        'c8500', 'cx9', 'is', 'utility', 'freestyle', '300-series',\n",
       "        'magnum', 'blazer', '325i', 'hummer', 'g37s', '280zx', 'q50',\n",
       "        'excursion', 'mountaineer', '2007', 'Janesville', 'gls', 'xk8',\n",
       "        'f-450', 'sportage', 'xj', 'FORD/RANGER', 'freightliner',\n",
       "        'uplander', '5500', 'passport', 'vandura', 'Isizu', 'metris',\n",
       "        'FordE350', 'cavalier', 'nv', 'coupe', 'mkc', 'b2300', 'pontaic',\n",
       "        'v90', 'gmc/chev', 'jouney', 'i3', 'countryman', 'E46',\n",
       "        'glk-class', 'Saab', 'x6', 'g35', 'rio', 'fiero', 'fuso', 'f-550',\n",
       "        'grumman', 'Suzuki', 'cx-7', 'fleetwood', 'a7', 'Comanche', '2',\n",
       "        'Xx', 'mirage', 'r32', 'ml350', 'canyon', 'Pierce', 'rebel', 'lr2',\n",
       "        's500', '350', 'roadster', 'aspen', 'nv2500hd', 'tudor', 'bus',\n",
       "        'GEHL', 'leaf', 'ml', 'gx470', 'ioniq', '750i', 'mazda5',\n",
       "        'PROGRAMS', 'a3,', '2500hd', '2009', 'qx70', 'triumph', '440xi',\n",
       "        'x-3', '330xi', 'milan', 'crew', 'q3', 'davidson', 'sedan',\n",
       "        'Acuarea', 'Frtlner', 'cabrio', 'astra', 'MERCUTY', 'f-450sd',\n",
       "        'Jayco', '944', '325ci', 'nitro', 'element', '540i', 's-class',\n",
       "        'Chevorlet', 'studebaker', 'colbalt', 'stratus', 'Jauguar', 's',\n",
       "        '328ci', 'mark', 'gs', 'arteon', 'S60', 'baja', 's4', 'Thomas',\n",
       "        'xf', 'xc40', 'glc', 'ASC', 'cl-class', 'cabellero', 'matrix',\n",
       "        'sl55', 'Sterling', '124', 'echo', 'thomas', 'range', 'jx35',\n",
       "        'BUY', 'm35', 'glc-class', 'tribeca', 'vtx1300c', 'xc60', 'is250',\n",
       "        'deisel', '328', 'azera', 'insight', 'm35s', 'chevelle',\n",
       "        '4-runner', '3500hd', 'century', '911', 'glk350', 'cc300', 'z',\n",
       "        's70', 'ecosport', 'g8', 'es300', 'hiace', 'niro', 'jimmy',\n",
       "        'panel', 'qx56', 'g30', 'Minin', 'isf', 'volt', 'i30', 'slc',\n",
       "        'ct6', 'defender', '525i', 'soul+', 'sc300', 'e-golf', '3100',\n",
       "        'cts4', '528i', 'mazda6i', 'e-150', 'sky', 'Nascar', 'sorrento',\n",
       "        'sierra1500', '430i', 'gl450', 'MITUSBISHI', 'xj8', 'tt', 'e-350',\n",
       "        'c4500', 'supra', 'e', 'x-type', 'saab', 'gl-class', 'nx300',\n",
       "        'Freightliner', 'e450', 'putback', 'riviera', 'venture',\n",
       "        'step-van', 'rat', 'gt', 's40', '530i', 'cj2a', 'mallinia',\n",
       "        'American', 'touareg', 'spectra', 'oldsmobile', 's3', 'classuc',\n",
       "        'sle', 'slk', 'maximum', '1972', 'belair', 'rouge', '5500hd',\n",
       "        '318i', 's430', 'astro', 'f100', 'HUMMER', 's6', 'phaeton', '320i',\n",
       "        'classic', 'trans', '530', 'Studebaker', 'tracker', 'AM', 'ascent',\n",
       "        'crown', 'veracruz', 'PLYMOUTH', 'lancer', 'ct4', 'van', '5th',\n",
       "        'gx460', 'gla-class', 'firebird', 'FRRV', 'mercades', 'tercel',\n",
       "        '2008', '210', 'rx350', 'fx35', 'allroad', 'g37x', 'cube', 'rondo',\n",
       "        'gla', 'gmt-400', 'k900', 'GULF', 'b-series', 'paceman', '928',\n",
       "        '650i', 'capri', '328xi', 'conquest', 'fj40', '1968', 'gs430',\n",
       "        'escort', 'cla', 'escape-se,', 'z4', 'Town', 'marineer,premier',\n",
       "        'xc', 'crosstour', 'routan', 'i35', '2000', 'oddyssey', 'monte',\n",
       "        'blackwood', 'freestar', 'f750', 'hr-v', 't-350', 'GMC,',\n",
       "        'montero', 'landcruiser', 'legend', '750', 'c/k', '4x4', '325xi',\n",
       "        'cx-3', 'high', 'MASERATI', 'aviator', 'denali', 'QX', 'seville',\n",
       "        'w350', 'zx2', 'amc', 'sl2', 'ACURA*', 'e-450', 'newport',\n",
       "        'falcon', 'f50', 'maserati', 'Comet', 'rabbit', 'c30', 'corsair',\n",
       "        '335xi', 'Triumph', 'Gx', 'reatta', 'avanger', 'kodiak', 'clarity',\n",
       "        'starcraft', 'caravan/grand', 'prizm', 'cmax', 'v50', 'z3',\n",
       "        'OLDSMOBILE', 'crz', 'f-type', 'convertible', 'solstice', 'velar',\n",
       "        'g5', '2016', 'c5500', 'f-350sd', 'cascada', 'rav', 'roadmaster',\n",
       "        '645ci', 'mg', 'cx7', 'c250', 'ml500', 'lightning', '335i', 'rx-8',\n",
       "        'shelby', 'ramcharger', 'lemans', 'MGB', 'nv1500', 'ct', 'sc',\n",
       "        '380sl', 'k20', 'f1', '3-window', 'k30', 'mks', 't', 'bolt',\n",
       "        'zephyr', 'country', '1928', 'f-100', 't-bucket', 'srx-v6',\n",
       "        '163869', 'autobiography', '500c', '-benz', 'rc', 'camary',\n",
       "        'Peterbilt', 'el', 'elcamino', '2012', 'a-class', 'smart', 'glk',\n",
       "        'Eagle', 'rx400h', 'xc70', '2017', 'F250', 'slk-class', 'comet',\n",
       "        'replica', 'clk350', 'Blue', 'es330', 'ux', 'e320', '528xi',\n",
       "        'concorde', '650xi', 'D7FH173552', '500x', 'F-250', 'suv', 'md-x',\n",
       "        'clk', 'Hobda', 'rs', 'GMX', 'fleetmaster', 'b-class', 'ssr',\n",
       "        'rx300', 'MV-1', 'protege', 'fx45', 'gr', 'duramax', 'gle-class',\n",
       "        'thing', 'k5', 'vnl', 'CLICK', 'vanagon', 'CHEVORLET', '135i',\n",
       "        'f600', 'thrift', 'tc5500', 'bug', 'GCM', 'cayman', '328d', 'cj-5',\n",
       "        'lr3', 's/w', 'es350', 'ALL', 'f-750', 'tarsus', 'allante', '1966',\n",
       "        '198.5', 'm5', 'c-10', 'Kaiser', '325is', 'JM1BK32F871604924',\n",
       "        'a8', 'endeavor', 'Buicks', 'MERDECES', 'crossfire', 'DODGE1500',\n",
       "        'dealer*', '330i', 'b2600i', 'voyager', 'gl', 'c60', 'l300',\n",
       "        'telluride', 'camero', '640', 'r-class', 'grandville', 'sl550',\n",
       "        'cla-class', 'mr2', 'foxbody', 'cls-class', 'am', '435i', 'fe',\n",
       "        'villager', 'd50', 'caddilac', 'f-650', 'rx330', 'prelude', 'c280',\n",
       "        'Bentley', 'tractor', '50', 'fords', 'c6500', 'cls550', 'sc2',\n",
       "        '1994', '5-series', 'diesel', 'ghia', '300s', 'skylark', 'chryler',\n",
       "        'hardbody', 'school', 'EASY', 'lr4', 'g-class', 'rlx', 'Hino',\n",
       "        'g20', 'sl500', 'f450sd', 'xj-series', '1960s', 'hearse', '1988',\n",
       "        'cj7', 'mkt', '1951', 'ltd', '2006', 'slt', 'aztek', 'x2', 'C',\n",
       "        'optimia', 'e500', 'outlook', 'cargo', '1977', 'torrent',\n",
       "        'ram2500', 'SL', '2015', '128i', 'long', 'nova', 'bonneville',\n",
       "        'AMC', 'gmce', '428', 'chevorlet', 'l', 'rendezvous',\n",
       "        'FREIGHTLINER', 'durangon', 'gs350'], dtype=object),\n",
       " array(['other', 'automatic', 'manual'], dtype=object),\n",
       " 393,\n",
       " array(['chattanooga', 'north jersey', 'reno / tahoe', 'fayetteville',\n",
       "        'knoxville', 'des moines', 'roanoke', 'grand rapids',\n",
       "        'omaha / council bluffs', 'rhode island', 'cincinnati',\n",
       "        'jacksonville', 'seattle-tacoma', 'redding', 'hawaii', 'salina',\n",
       "        'billings', 'fresno / madera', 'charleston', 'inland empire',\n",
       "        'modesto', 'south jersey', 'phoenix', 'new haven',\n",
       "        'ft myers / SW florida', 'tyler / east TX', 'charlotte',\n",
       "        'corpus christi', 'appleton-oshkosh-FDL', 'las vegas', 'eugene',\n",
       "        'syracuse', 'stockton', 'danville', 'greenville / upstate',\n",
       "        'philadelphia', 'anchorage / mat-su', 'maine', 'port huron',\n",
       "        'springfield', 'olympic peninsula', 'san angelo', 'richmond',\n",
       "        'albuquerque', 'dallas / fort worth', 'SF bay area', 'yakima',\n",
       "        'fort collins / north CO', 'boise', 'st cloud', 'albany',\n",
       "        'nashville', 'colorado springs', 'yuba-sutter', 'san luis obispo',\n",
       "        'cleveland', 'prescott', 'hudson valley', 'ventura county',\n",
       "        'holland', 'ocala', 'baton rouge', 'central NJ', 'pittsburgh',\n",
       "        'tucson', 'ames', 'erie', 'vermont', 'killeen / temple / ft hood',\n",
       "        'austin', 'jersey shore', 'kennewick-pasco-richland', 'western KY',\n",
       "        'kenai peninsula', 'detroit metro', 'bellingham', 'battle creek',\n",
       "        'chautauqua', 'st louis, MO', 'dayton / springfield',\n",
       "        'kansas city, MO', 'louisville', 'rapid city / west SD',\n",
       "        'indianapolis', 'orange county', 'baltimore', 'champaign urbana',\n",
       "        'show low', 'salem', 'mankato', 'sarasota-bradenton',\n",
       "        'tampa bay area', 'raleigh / durham / CH', 'new york city',\n",
       "        'gold country', 'montgomery', 'chico', 'fargo / moorhead', 'tulsa',\n",
       "        'south bend / michiana', 'harrisburg', 'chicago',\n",
       "        'duluth / superior', \"spokane / coeur d'alene\", 'kalispell',\n",
       "        'twin falls', 'worcester / central MA', 'columbus',\n",
       "        'lima / findlay', 'oklahoma city', 'binghamton', 'greensboro',\n",
       "        'denver', 'delaware', 'los angeles', 'rockford',\n",
       "        'columbia / jeff city', 'lancaster', 'san antonio', 'orlando',\n",
       "        'hartford', 'charlottesville', 'ithaca', 'memphis', 'elko',\n",
       "        'clarksville', 'lincoln', 'gainesville', 'monterey bay',\n",
       "        'south florida', 'lehigh valley', 'wenatchee', 'wilmington',\n",
       "        'macon / warner robins', 'new hampshire', 'treasure coast',\n",
       "        'akron / canton', 'lewiston / clarkston', 'mobile', 'topeka',\n",
       "        'rochester', 'bakersfield', 'kalamazoo', 'eastern NC',\n",
       "        'terre haute', 'reading', 'eastern CT', 'grand island',\n",
       "        'long island', 'toledo', 'sacramento', 'york', 'fort wayne',\n",
       "        'milwaukee', 'myrtle beach', 'scranton / wilkes-barre',\n",
       "        'daytona beach', 'frederick', 'amarillo', 'buffalo',\n",
       "        'savannah / hinesville', 'western massachusetts', 'portland',\n",
       "        'huntington-ashland', 'el paso', 'bismarck', 'winston-salem',\n",
       "        'western slope', 'st george', 'roseburg', 'tallahassee',\n",
       "        'minneapolis / st paul', 'columbia', 'decatur', 'wausau',\n",
       "        'morgantown', 'palm springs', 'annapolis', 'lawrence',\n",
       "        'williamsport', 'santa fe / taos', 'norfolk / hampton roads',\n",
       "        'northwest GA', 'bend', 'kokomo', 'missoula', 'washington, DC',\n",
       "        'glens falls', 'new river valley', 'oregon coast', 'south coast',\n",
       "        'san diego', 'las cruces', 'lakeland', 'boone', 'atlanta',\n",
       "        'joplin', 'saginaw-midland-baycity', 'muskegon', 'wichita falls',\n",
       "        'bozeman', 'parkersburg-marietta', 'florida keys', 'lansing',\n",
       "        'southwest michigan', 'janesville', 'jackson', 'little rock',\n",
       "        'quad cities, IA/IL', 'boston', 'visalia-tulare',\n",
       "        'plattsburgh-adirondacks', 'huntsville / decatur',\n",
       "        'southern maryland', 'sioux falls / SE SD', 'finger lakes',\n",
       "        'green bay', 'eau claire', 'shreveport', 'upper peninsula',\n",
       "        'cedar rapids', 'mcallen / edinburg', 'madison', 'birmingham',\n",
       "        'southwest MN', 'waco', 'pueblo', 'utica-rome-oneida', 'houston',\n",
       "        'pensacola', 'victoria', 'skagit / island / SJI',\n",
       "        'medford-ashland', 'watertown', 'salt lake city', 'moses lake',\n",
       "        'lexington', 'winchester', 'east idaho', 'wichita',\n",
       "        'cumberland valley', 'western maryland', 'butte', 'great falls',\n",
       "        'southern illinois', 'santa barbara', 'kenosha-racine',\n",
       "        'odessa / midland', 'zanesville / cambridge', 'athens',\n",
       "        'fredericksburg', 'yuma', 'mohave county', 'tri-cities',\n",
       "        'gadsden-anniston', 'sioux city', 'harrisonburg', 'northwest OK',\n",
       "        'pullman / moscow', 'fairbanks', 'new orleans', 'asheville',\n",
       "        'northwest CT', 'wyoming', 'jonesboro', 'mansfield', 'hilton head',\n",
       "        'manhattan', 'poconos', 'brainerd', 'central michigan',\n",
       "        'statesboro', 'siskiyou county', 'east oregon', 'space coast',\n",
       "        'ann arbor', 'hickory / lenoir', 'north central FL',\n",
       "        'twin tiers NY/PA', 'humboldt county', 'abilene',\n",
       "        'mattoon-charleston', 'monroe', 'susanville', 'ashtabula',\n",
       "        'la crosse', 'boulder', 'sandusky', 'scottsbluff / panhandle',\n",
       "        'tuscarawas co', 'heartland florida', 'stillwater', 'peoria',\n",
       "        'outer banks', 'the thumb', 'eastern shore', 'laredo',\n",
       "        'muncie / anderson', 'lynchburg', 'sierra vista', 'lubbock',\n",
       "        'youngstown', 'elmira-corning', 'bloomington-normal',\n",
       "        'hattiesburg', 'beaumont / port arthur', 'flint',\n",
       "        'hanford-corcoran', 'dothan', 'northern panhandle', 'brunswick',\n",
       "        'texoma', 'merced', 'southeast missouri', 'galveston',\n",
       "        'santa maria', 'lafayette', 'fort dodge',\n",
       "        'lafayette / west lafayette', 'altoona-johnstown',\n",
       "        'potsdam-canton-massena', 'sheboygan', 'augusta', 'iowa city',\n",
       "        'southwest KS', 'flagstaff / sedona', 'northwest KS',\n",
       "        'southeast alaska', 'cape cod / islands', 'college station',\n",
       "        'state college', 'corvallis/albany', 'florence', 'valdosta',\n",
       "        'bowling green', 'eastern kentucky', 'clovis / portales',\n",
       "        'north mississippi', 'lake of the ozarks', 'mason city',\n",
       "        'okaloosa / walton', 'san marcos', 'evansville', 'brownsville',\n",
       "        'meadville', 'southeast IA', 'bemidji', 'texarkana',\n",
       "        'eastern montana', 'central louisiana', 'lake charles',\n",
       "        'bloomington', 'northern WI', 'mendocino county',\n",
       "        'imperial county', 'north platte', 'southwest VA',\n",
       "        'northern michigan', 'la salle co', 'southern WV',\n",
       "        'ogden-clearfield', 'florence / muscle shoals', 'southwest MS',\n",
       "        'south dakota', 'dubuque', 'st joseph', 'del rio / eagle pass',\n",
       "        'tuscaloosa', 'fort smith', 'panama city', 'roswell / carlsbad',\n",
       "        'chillicothe', 'farmington', 'eastern panhandle', 'houma', 'logan',\n",
       "        'north dakota', 'waterloo / cedar falls', 'eastern CO',\n",
       "        'grand forks', 'pierre / central SD', 'oneonta', 'lawton',\n",
       "        'helena', 'klamath falls', 'owensboro', 'catskills',\n",
       "        'gulfport / biloxi', 'kirksville', 'high rockies', 'northeast SD',\n",
       "        'st augustine', 'auburn'], dtype=object),\n",
       " 40,\n",
       " array(['ram', 'ford', 'volkswagen', 'toyota', 'bmw', 'honda', 'dodge',\n",
       "        'nissan', 'mitsubishi', 'fiat', 'lincoln', 'chevrolet', 'saturn',\n",
       "        'mini', 'cadillac', 'jeep', 'kia', 'mazda', 'buick', 'lexus',\n",
       "        'subaru', 'audi', 'other', 'rover', 'hyundai', 'gmc',\n",
       "        'mercedes-benz', 'acura', 'chrysler', 'volvo', 'alfa-romeo',\n",
       "        'porsche', 'pontiac', 'tesla', 'mercury', 'infiniti', 'jaguar',\n",
       "        'datsun', 'harley-davidson', 'ferrari'], dtype=object),\n",
       " 51,\n",
       " array(['tn', 'nj', 'ca', 'nc', 'ia', 'va', 'mi', 'ri', 'oh', 'fl', 'wa',\n",
       "        'hi', 'ks', 'mt', 'sc', 'az', 'ct', 'tx', 'wi', 'nv', 'or', 'ny',\n",
       "        'pa', 'ak', 'me', 'mo', 'nm', 'co', 'id', 'mn', 'la', 'vt', 'ky',\n",
       "        'il', 'sd', 'in', 'md', 'al', 'ok', 'ma', 'de', 'ar', 'ne', 'ga',\n",
       "        'nh', 'nd', 'ut', 'wv', 'dc', 'wy', 'ms'], dtype=object),\n",
       " 6,\n",
       " array(['clean', 'rebuilt', 'salvage', 'lien', 'missing', 'parts only'],\n",
       "       dtype=object),\n",
       " 3,\n",
       " array(['new', 'average', 'old'], dtype=object))"
      ]
     },
     "execution_count": 5,
     "metadata": {},
     "output_type": "execute_result"
    }
   ],
   "source": [
    "# Ваш код здесь\n",
    "len(df.short_model.unique()),df.short_model.unique(), df.transmission.unique(),len(df.region.unique()),df.region.unique(), len(df.manufacturer.unique()),df.manufacturer.unique(), len(df.state.unique()),df.state.unique(), len(df.title_status.unique()),df.title_status.unique(),df.age_category.nunique(), df.age_category.unique()"
   ]
  },
  {
   "cell_type": "markdown",
   "id": "6d22ddcd",
   "metadata": {
    "id": "6d22ddcd"
   },
   "source": [
    "2. Создайте датафрейм `data`, содержащий только выбранные категориальные переменные."
   ]
  },
  {
   "cell_type": "code",
   "execution_count": 6,
   "id": "c6fb4d53",
   "metadata": {
    "ExecuteTime": {
     "end_time": "2022-03-15T22:40:32.233510Z",
     "start_time": "2022-03-15T22:40:32.226777Z"
    },
    "id": "c6fb4d53"
   },
   "outputs": [
    {
     "data": {
      "text/html": [
       "<div>\n",
       "<style scoped>\n",
       "    .dataframe tbody tr th:only-of-type {\n",
       "        vertical-align: middle;\n",
       "    }\n",
       "\n",
       "    .dataframe tbody tr th {\n",
       "        vertical-align: top;\n",
       "    }\n",
       "\n",
       "    .dataframe thead th {\n",
       "        text-align: right;\n",
       "    }\n",
       "</style>\n",
       "<table border=\"1\" class=\"dataframe\">\n",
       "  <thead>\n",
       "    <tr style=\"text-align: right;\">\n",
       "      <th></th>\n",
       "      <th>model_uni</th>\n",
       "      <th>age_category_uni</th>\n",
       "      <th>transmoss_uni</th>\n",
       "      <th>region_uni</th>\n",
       "      <th>manuf_uni</th>\n",
       "      <th>state_uni</th>\n",
       "      <th>title_status_uni</th>\n",
       "    </tr>\n",
       "  </thead>\n",
       "  <tbody>\n",
       "    <tr>\n",
       "      <th>0</th>\n",
       "      <td>2500</td>\n",
       "      <td>new</td>\n",
       "      <td>other</td>\n",
       "      <td>chattanooga</td>\n",
       "      <td>ram</td>\n",
       "      <td>tn</td>\n",
       "      <td>clean</td>\n",
       "    </tr>\n",
       "    <tr>\n",
       "      <th>1</th>\n",
       "      <td>explorer</td>\n",
       "      <td>average</td>\n",
       "      <td>automatic</td>\n",
       "      <td>north jersey</td>\n",
       "      <td>ford</td>\n",
       "      <td>nj</td>\n",
       "      <td>rebuilt</td>\n",
       "    </tr>\n",
       "    <tr>\n",
       "      <th>2</th>\n",
       "      <td>golf</td>\n",
       "      <td>old</td>\n",
       "      <td>manual</td>\n",
       "      <td>reno / tahoe</td>\n",
       "      <td>volkswagen</td>\n",
       "      <td>ca</td>\n",
       "      <td>salvage</td>\n",
       "    </tr>\n",
       "    <tr>\n",
       "      <th>3</th>\n",
       "      <td>rav4</td>\n",
       "      <td>None</td>\n",
       "      <td>None</td>\n",
       "      <td>fayetteville</td>\n",
       "      <td>toyota</td>\n",
       "      <td>nc</td>\n",
       "      <td>lien</td>\n",
       "    </tr>\n",
       "    <tr>\n",
       "      <th>4</th>\n",
       "      <td>1</td>\n",
       "      <td>None</td>\n",
       "      <td>None</td>\n",
       "      <td>knoxville</td>\n",
       "      <td>bmw</td>\n",
       "      <td>ia</td>\n",
       "      <td>missing</td>\n",
       "    </tr>\n",
       "    <tr>\n",
       "      <th>...</th>\n",
       "      <td>...</td>\n",
       "      <td>...</td>\n",
       "      <td>...</td>\n",
       "      <td>...</td>\n",
       "      <td>...</td>\n",
       "      <td>...</td>\n",
       "      <td>...</td>\n",
       "    </tr>\n",
       "    <tr>\n",
       "      <th>938</th>\n",
       "      <td>l</td>\n",
       "      <td>None</td>\n",
       "      <td>None</td>\n",
       "      <td>None</td>\n",
       "      <td>None</td>\n",
       "      <td>None</td>\n",
       "      <td>None</td>\n",
       "    </tr>\n",
       "    <tr>\n",
       "      <th>939</th>\n",
       "      <td>rendezvous</td>\n",
       "      <td>None</td>\n",
       "      <td>None</td>\n",
       "      <td>None</td>\n",
       "      <td>None</td>\n",
       "      <td>None</td>\n",
       "      <td>None</td>\n",
       "    </tr>\n",
       "    <tr>\n",
       "      <th>940</th>\n",
       "      <td>FREIGHTLINER</td>\n",
       "      <td>None</td>\n",
       "      <td>None</td>\n",
       "      <td>None</td>\n",
       "      <td>None</td>\n",
       "      <td>None</td>\n",
       "      <td>None</td>\n",
       "    </tr>\n",
       "    <tr>\n",
       "      <th>941</th>\n",
       "      <td>durangon</td>\n",
       "      <td>None</td>\n",
       "      <td>None</td>\n",
       "      <td>None</td>\n",
       "      <td>None</td>\n",
       "      <td>None</td>\n",
       "      <td>None</td>\n",
       "    </tr>\n",
       "    <tr>\n",
       "      <th>942</th>\n",
       "      <td>gs350</td>\n",
       "      <td>None</td>\n",
       "      <td>None</td>\n",
       "      <td>None</td>\n",
       "      <td>None</td>\n",
       "      <td>None</td>\n",
       "      <td>None</td>\n",
       "    </tr>\n",
       "  </tbody>\n",
       "</table>\n",
       "<p>943 rows × 7 columns</p>\n",
       "</div>"
      ],
      "text/plain": [
       "        model_uni age_category_uni transmoss_uni    region_uni   manuf_uni  \\\n",
       "0            2500              new         other   chattanooga         ram   \n",
       "1        explorer          average     automatic  north jersey        ford   \n",
       "2            golf              old        manual  reno / tahoe  volkswagen   \n",
       "3            rav4             None          None  fayetteville      toyota   \n",
       "4               1             None          None     knoxville         bmw   \n",
       "..            ...              ...           ...           ...         ...   \n",
       "938             l             None          None          None        None   \n",
       "939    rendezvous             None          None          None        None   \n",
       "940  FREIGHTLINER             None          None          None        None   \n",
       "941      durangon             None          None          None        None   \n",
       "942         gs350             None          None          None        None   \n",
       "\n",
       "    state_uni title_status_uni  \n",
       "0          tn            clean  \n",
       "1          nj          rebuilt  \n",
       "2          ca          salvage  \n",
       "3          nc             lien  \n",
       "4          ia          missing  \n",
       "..        ...              ...  \n",
       "938      None             None  \n",
       "939      None             None  \n",
       "940      None             None  \n",
       "941      None             None  \n",
       "942      None             None  \n",
       "\n",
       "[943 rows x 7 columns]"
      ]
     },
     "execution_count": 6,
     "metadata": {},
     "output_type": "execute_result"
    }
   ],
   "source": [
    "# Ваш код здесь\n",
    "data = [df.short_model.unique(),df.age_category.unique(), df.transmission.unique(), df.region.unique(), df.manufacturer.unique(), df.state.unique(), df.title_status.unique()]\n",
    "data = pd.DataFrame(data)\n",
    "data = data.T\n",
    "data.columns = (['model_uni','age_category_uni', 'transmoss_uni', 'region_uni', 'manuf_uni', 'state_uni', 'title_status_uni'])\n",
    "data"
   ]
  },
  {
   "cell_type": "markdown",
   "id": "cac34814",
   "metadata": {
    "id": "cac34814"
   },
   "source": [
    "3. Создайте объект класса OneHotEncoder, который будет отвечать за преобразование. Уточните, что на выходе должна быть неразреженная матрица."
   ]
  },
  {
   "cell_type": "code",
   "execution_count": 7,
   "id": "5c64ca58",
   "metadata": {
    "ExecuteTime": {
     "end_time": "2022-03-15T22:40:33.034009Z",
     "start_time": "2022-03-15T22:40:33.028764Z"
    },
    "id": "5c64ca58"
   },
   "outputs": [
    {
     "data": {
      "text/plain": [
       "OneHotEncoder(sparse=False)"
      ]
     },
     "execution_count": 7,
     "metadata": {},
     "output_type": "execute_result"
    }
   ],
   "source": [
    "# Ваш код здесь\n",
    "ohe = OneHotEncoder(sparse=False)\n",
    "ohe"
   ]
  },
  {
   "cell_type": "markdown",
   "id": "26a44ecc",
   "metadata": {
    "id": "26a44ecc"
   },
   "source": [
    "4. Идентифицируйте параметры преобразования на датафрейме с категориальными переменными."
   ]
  },
  {
   "cell_type": "code",
   "execution_count": 8,
   "id": "295f2ffc",
   "metadata": {
    "ExecuteTime": {
     "end_time": "2022-03-15T22:40:33.874311Z",
     "start_time": "2022-03-15T22:40:33.871463Z"
    },
    "id": "295f2ffc"
   },
   "outputs": [
    {
     "data": {
      "text/plain": [
       "OneHotEncoder(sparse=False)"
      ]
     },
     "execution_count": 8,
     "metadata": {},
     "output_type": "execute_result"
    }
   ],
   "source": [
    "# Ваш код здесь\n",
    "ohe.fit(data)"
   ]
  },
  {
   "cell_type": "markdown",
   "id": "e5504b8d",
   "metadata": {
    "id": "e5504b8d"
   },
   "source": [
    "5. Примените преобразование для датафрейма с категориальными переменными и сохраните в новую переменную, распечатайте получившуюся матрицу и её размерность."
   ]
  },
  {
   "cell_type": "code",
   "execution_count": 9,
   "id": "10d8356c",
   "metadata": {
    "ExecuteTime": {
     "end_time": "2022-03-15T22:40:34.519702Z",
     "start_time": "2022-03-15T22:40:34.516796Z"
    },
    "id": "10d8356c",
    "scrolled": true
   },
   "outputs": [
    {
     "data": {
      "text/plain": [
       "array([[0., 0., 0., ..., 0., 0., 0.],\n",
       "       [0., 0., 0., ..., 1., 0., 0.],\n",
       "       [0., 0., 0., ..., 0., 1., 0.],\n",
       "       ...,\n",
       "       [0., 0., 0., ..., 0., 0., 1.],\n",
       "       [0., 0., 0., ..., 0., 0., 1.],\n",
       "       [0., 0., 0., ..., 0., 0., 1.]])"
      ]
     },
     "execution_count": 9,
     "metadata": {},
     "output_type": "execute_result"
    }
   ],
   "source": [
    "# Ваш код здесь\n",
    "one_data = ohe.transform(data)\n",
    "one_data"
   ]
  },
  {
   "cell_type": "markdown",
   "id": "490cf3fa",
   "metadata": {
    "id": "490cf3fa"
   },
   "source": [
    "6. Выведите новые наименования признаков с помощью метода `get_feature_names_out`."
   ]
  },
  {
   "cell_type": "code",
   "execution_count": 10,
   "id": "a5ee48ea",
   "metadata": {
    "ExecuteTime": {
     "end_time": "2022-03-15T22:40:35.296004Z",
     "start_time": "2022-03-15T22:40:35.291879Z"
    },
    "id": "a5ee48ea"
   },
   "outputs": [
    {
     "data": {
      "text/plain": [
       "array(['model_uni_-benz', 'model_uni_1', 'model_uni_124', ...,\n",
       "       'title_status_uni_rebuilt', 'title_status_uni_salvage',\n",
       "       'title_status_uni_None'], dtype=object)"
      ]
     },
     "execution_count": 10,
     "metadata": {},
     "output_type": "execute_result"
    }
   ],
   "source": [
    "# Ваш код здесь\n",
    "ohe.get_feature_names_out()"
   ]
  },
  {
   "cell_type": "markdown",
   "id": "115aed73",
   "metadata": {
    "id": "115aed73"
   },
   "source": [
    "7. Добавьте в исходный датафрейм получившиеся новые признаки, выведите первые пять записей датафрейма и список колонок."
   ]
  },
  {
   "cell_type": "code",
   "execution_count": 11,
   "id": "0062ac07",
   "metadata": {
    "ExecuteTime": {
     "end_time": "2022-03-15T22:40:35.978083Z",
     "start_time": "2022-03-15T22:40:35.970249Z"
    },
    "id": "0062ac07"
   },
   "outputs": [],
   "source": [
    "# Ваш код здесь\n",
    "import pandas as pd\n",
    "from sklearn.preprocessing import OneHotEncoder\n",
    "\n",
    "ohe = OneHotEncoder()\n",
    "one_data = ohe.fit_transform(data)\n",
    "\n",
    "new_feature_names = ohe.get_feature_names_out()\n",
    "\n"
   ]
  },
  {
   "cell_type": "code",
   "execution_count": 12,
   "id": "29ae903a",
   "metadata": {
    "scrolled": true
   },
   "outputs": [
    {
     "data": {
      "text/html": [
       "<div>\n",
       "<style scoped>\n",
       "    .dataframe tbody tr th:only-of-type {\n",
       "        vertical-align: middle;\n",
       "    }\n",
       "\n",
       "    .dataframe tbody tr th {\n",
       "        vertical-align: top;\n",
       "    }\n",
       "\n",
       "    .dataframe thead th {\n",
       "        text-align: right;\n",
       "    }\n",
       "</style>\n",
       "<table border=\"1\" class=\"dataframe\">\n",
       "  <thead>\n",
       "    <tr style=\"text-align: right;\">\n",
       "      <th></th>\n",
       "      <th>model_uni_-benz</th>\n",
       "      <th>model_uni_1</th>\n",
       "      <th>model_uni_124</th>\n",
       "      <th>model_uni_128i</th>\n",
       "      <th>model_uni_135i</th>\n",
       "      <th>model_uni_1500</th>\n",
       "      <th>model_uni_163869</th>\n",
       "      <th>model_uni_1928</th>\n",
       "      <th>model_uni_1951</th>\n",
       "      <th>model_uni_1954</th>\n",
       "      <th>...</th>\n",
       "      <th>state_uni_wv</th>\n",
       "      <th>state_uni_wy</th>\n",
       "      <th>state_uni_None</th>\n",
       "      <th>title_status_uni_clean</th>\n",
       "      <th>title_status_uni_lien</th>\n",
       "      <th>title_status_uni_missing</th>\n",
       "      <th>title_status_uni_parts only</th>\n",
       "      <th>title_status_uni_rebuilt</th>\n",
       "      <th>title_status_uni_salvage</th>\n",
       "      <th>title_status_uni_None</th>\n",
       "    </tr>\n",
       "  </thead>\n",
       "  <tbody>\n",
       "    <tr>\n",
       "      <th>0</th>\n",
       "      <td>0.0</td>\n",
       "      <td>0.0</td>\n",
       "      <td>0.0</td>\n",
       "      <td>0.0</td>\n",
       "      <td>0.0</td>\n",
       "      <td>0.0</td>\n",
       "      <td>0.0</td>\n",
       "      <td>0.0</td>\n",
       "      <td>0.0</td>\n",
       "      <td>0.0</td>\n",
       "      <td>...</td>\n",
       "      <td>0.0</td>\n",
       "      <td>0.0</td>\n",
       "      <td>0.0</td>\n",
       "      <td>1.0</td>\n",
       "      <td>0.0</td>\n",
       "      <td>0.0</td>\n",
       "      <td>0.0</td>\n",
       "      <td>0.0</td>\n",
       "      <td>0.0</td>\n",
       "      <td>0.0</td>\n",
       "    </tr>\n",
       "    <tr>\n",
       "      <th>1</th>\n",
       "      <td>0.0</td>\n",
       "      <td>0.0</td>\n",
       "      <td>0.0</td>\n",
       "      <td>0.0</td>\n",
       "      <td>0.0</td>\n",
       "      <td>0.0</td>\n",
       "      <td>0.0</td>\n",
       "      <td>0.0</td>\n",
       "      <td>0.0</td>\n",
       "      <td>0.0</td>\n",
       "      <td>...</td>\n",
       "      <td>0.0</td>\n",
       "      <td>0.0</td>\n",
       "      <td>0.0</td>\n",
       "      <td>0.0</td>\n",
       "      <td>0.0</td>\n",
       "      <td>0.0</td>\n",
       "      <td>0.0</td>\n",
       "      <td>1.0</td>\n",
       "      <td>0.0</td>\n",
       "      <td>0.0</td>\n",
       "    </tr>\n",
       "    <tr>\n",
       "      <th>2</th>\n",
       "      <td>0.0</td>\n",
       "      <td>0.0</td>\n",
       "      <td>0.0</td>\n",
       "      <td>0.0</td>\n",
       "      <td>0.0</td>\n",
       "      <td>0.0</td>\n",
       "      <td>0.0</td>\n",
       "      <td>0.0</td>\n",
       "      <td>0.0</td>\n",
       "      <td>0.0</td>\n",
       "      <td>...</td>\n",
       "      <td>0.0</td>\n",
       "      <td>0.0</td>\n",
       "      <td>0.0</td>\n",
       "      <td>0.0</td>\n",
       "      <td>0.0</td>\n",
       "      <td>0.0</td>\n",
       "      <td>0.0</td>\n",
       "      <td>0.0</td>\n",
       "      <td>1.0</td>\n",
       "      <td>0.0</td>\n",
       "    </tr>\n",
       "    <tr>\n",
       "      <th>3</th>\n",
       "      <td>0.0</td>\n",
       "      <td>0.0</td>\n",
       "      <td>0.0</td>\n",
       "      <td>0.0</td>\n",
       "      <td>0.0</td>\n",
       "      <td>0.0</td>\n",
       "      <td>0.0</td>\n",
       "      <td>0.0</td>\n",
       "      <td>0.0</td>\n",
       "      <td>0.0</td>\n",
       "      <td>...</td>\n",
       "      <td>0.0</td>\n",
       "      <td>0.0</td>\n",
       "      <td>0.0</td>\n",
       "      <td>0.0</td>\n",
       "      <td>1.0</td>\n",
       "      <td>0.0</td>\n",
       "      <td>0.0</td>\n",
       "      <td>0.0</td>\n",
       "      <td>0.0</td>\n",
       "      <td>0.0</td>\n",
       "    </tr>\n",
       "    <tr>\n",
       "      <th>4</th>\n",
       "      <td>0.0</td>\n",
       "      <td>1.0</td>\n",
       "      <td>0.0</td>\n",
       "      <td>0.0</td>\n",
       "      <td>0.0</td>\n",
       "      <td>0.0</td>\n",
       "      <td>0.0</td>\n",
       "      <td>0.0</td>\n",
       "      <td>0.0</td>\n",
       "      <td>0.0</td>\n",
       "      <td>...</td>\n",
       "      <td>0.0</td>\n",
       "      <td>0.0</td>\n",
       "      <td>0.0</td>\n",
       "      <td>0.0</td>\n",
       "      <td>0.0</td>\n",
       "      <td>1.0</td>\n",
       "      <td>0.0</td>\n",
       "      <td>0.0</td>\n",
       "      <td>0.0</td>\n",
       "      <td>0.0</td>\n",
       "    </tr>\n",
       "    <tr>\n",
       "      <th>...</th>\n",
       "      <td>...</td>\n",
       "      <td>...</td>\n",
       "      <td>...</td>\n",
       "      <td>...</td>\n",
       "      <td>...</td>\n",
       "      <td>...</td>\n",
       "      <td>...</td>\n",
       "      <td>...</td>\n",
       "      <td>...</td>\n",
       "      <td>...</td>\n",
       "      <td>...</td>\n",
       "      <td>...</td>\n",
       "      <td>...</td>\n",
       "      <td>...</td>\n",
       "      <td>...</td>\n",
       "      <td>...</td>\n",
       "      <td>...</td>\n",
       "      <td>...</td>\n",
       "      <td>...</td>\n",
       "      <td>...</td>\n",
       "      <td>...</td>\n",
       "    </tr>\n",
       "    <tr>\n",
       "      <th>938</th>\n",
       "      <td>0.0</td>\n",
       "      <td>0.0</td>\n",
       "      <td>0.0</td>\n",
       "      <td>0.0</td>\n",
       "      <td>0.0</td>\n",
       "      <td>0.0</td>\n",
       "      <td>0.0</td>\n",
       "      <td>0.0</td>\n",
       "      <td>0.0</td>\n",
       "      <td>0.0</td>\n",
       "      <td>...</td>\n",
       "      <td>0.0</td>\n",
       "      <td>0.0</td>\n",
       "      <td>1.0</td>\n",
       "      <td>0.0</td>\n",
       "      <td>0.0</td>\n",
       "      <td>0.0</td>\n",
       "      <td>0.0</td>\n",
       "      <td>0.0</td>\n",
       "      <td>0.0</td>\n",
       "      <td>1.0</td>\n",
       "    </tr>\n",
       "    <tr>\n",
       "      <th>939</th>\n",
       "      <td>0.0</td>\n",
       "      <td>0.0</td>\n",
       "      <td>0.0</td>\n",
       "      <td>0.0</td>\n",
       "      <td>0.0</td>\n",
       "      <td>0.0</td>\n",
       "      <td>0.0</td>\n",
       "      <td>0.0</td>\n",
       "      <td>0.0</td>\n",
       "      <td>0.0</td>\n",
       "      <td>...</td>\n",
       "      <td>0.0</td>\n",
       "      <td>0.0</td>\n",
       "      <td>1.0</td>\n",
       "      <td>0.0</td>\n",
       "      <td>0.0</td>\n",
       "      <td>0.0</td>\n",
       "      <td>0.0</td>\n",
       "      <td>0.0</td>\n",
       "      <td>0.0</td>\n",
       "      <td>1.0</td>\n",
       "    </tr>\n",
       "    <tr>\n",
       "      <th>940</th>\n",
       "      <td>0.0</td>\n",
       "      <td>0.0</td>\n",
       "      <td>0.0</td>\n",
       "      <td>0.0</td>\n",
       "      <td>0.0</td>\n",
       "      <td>0.0</td>\n",
       "      <td>0.0</td>\n",
       "      <td>0.0</td>\n",
       "      <td>0.0</td>\n",
       "      <td>0.0</td>\n",
       "      <td>...</td>\n",
       "      <td>0.0</td>\n",
       "      <td>0.0</td>\n",
       "      <td>1.0</td>\n",
       "      <td>0.0</td>\n",
       "      <td>0.0</td>\n",
       "      <td>0.0</td>\n",
       "      <td>0.0</td>\n",
       "      <td>0.0</td>\n",
       "      <td>0.0</td>\n",
       "      <td>1.0</td>\n",
       "    </tr>\n",
       "    <tr>\n",
       "      <th>941</th>\n",
       "      <td>0.0</td>\n",
       "      <td>0.0</td>\n",
       "      <td>0.0</td>\n",
       "      <td>0.0</td>\n",
       "      <td>0.0</td>\n",
       "      <td>0.0</td>\n",
       "      <td>0.0</td>\n",
       "      <td>0.0</td>\n",
       "      <td>0.0</td>\n",
       "      <td>0.0</td>\n",
       "      <td>...</td>\n",
       "      <td>0.0</td>\n",
       "      <td>0.0</td>\n",
       "      <td>1.0</td>\n",
       "      <td>0.0</td>\n",
       "      <td>0.0</td>\n",
       "      <td>0.0</td>\n",
       "      <td>0.0</td>\n",
       "      <td>0.0</td>\n",
       "      <td>0.0</td>\n",
       "      <td>1.0</td>\n",
       "    </tr>\n",
       "    <tr>\n",
       "      <th>942</th>\n",
       "      <td>0.0</td>\n",
       "      <td>0.0</td>\n",
       "      <td>0.0</td>\n",
       "      <td>0.0</td>\n",
       "      <td>0.0</td>\n",
       "      <td>0.0</td>\n",
       "      <td>0.0</td>\n",
       "      <td>0.0</td>\n",
       "      <td>0.0</td>\n",
       "      <td>0.0</td>\n",
       "      <td>...</td>\n",
       "      <td>0.0</td>\n",
       "      <td>0.0</td>\n",
       "      <td>1.0</td>\n",
       "      <td>0.0</td>\n",
       "      <td>0.0</td>\n",
       "      <td>0.0</td>\n",
       "      <td>0.0</td>\n",
       "      <td>0.0</td>\n",
       "      <td>0.0</td>\n",
       "      <td>1.0</td>\n",
       "    </tr>\n",
       "  </tbody>\n",
       "</table>\n",
       "<p>943 rows × 1445 columns</p>\n",
       "</div>"
      ],
      "text/plain": [
       "     model_uni_-benz  model_uni_1  model_uni_124  model_uni_128i  \\\n",
       "0                0.0          0.0            0.0             0.0   \n",
       "1                0.0          0.0            0.0             0.0   \n",
       "2                0.0          0.0            0.0             0.0   \n",
       "3                0.0          0.0            0.0             0.0   \n",
       "4                0.0          1.0            0.0             0.0   \n",
       "..               ...          ...            ...             ...   \n",
       "938              0.0          0.0            0.0             0.0   \n",
       "939              0.0          0.0            0.0             0.0   \n",
       "940              0.0          0.0            0.0             0.0   \n",
       "941              0.0          0.0            0.0             0.0   \n",
       "942              0.0          0.0            0.0             0.0   \n",
       "\n",
       "     model_uni_135i  model_uni_1500  model_uni_163869  model_uni_1928  \\\n",
       "0               0.0             0.0               0.0             0.0   \n",
       "1               0.0             0.0               0.0             0.0   \n",
       "2               0.0             0.0               0.0             0.0   \n",
       "3               0.0             0.0               0.0             0.0   \n",
       "4               0.0             0.0               0.0             0.0   \n",
       "..              ...             ...               ...             ...   \n",
       "938             0.0             0.0               0.0             0.0   \n",
       "939             0.0             0.0               0.0             0.0   \n",
       "940             0.0             0.0               0.0             0.0   \n",
       "941             0.0             0.0               0.0             0.0   \n",
       "942             0.0             0.0               0.0             0.0   \n",
       "\n",
       "     model_uni_1951  model_uni_1954  ...  state_uni_wv  state_uni_wy  \\\n",
       "0               0.0             0.0  ...           0.0           0.0   \n",
       "1               0.0             0.0  ...           0.0           0.0   \n",
       "2               0.0             0.0  ...           0.0           0.0   \n",
       "3               0.0             0.0  ...           0.0           0.0   \n",
       "4               0.0             0.0  ...           0.0           0.0   \n",
       "..              ...             ...  ...           ...           ...   \n",
       "938             0.0             0.0  ...           0.0           0.0   \n",
       "939             0.0             0.0  ...           0.0           0.0   \n",
       "940             0.0             0.0  ...           0.0           0.0   \n",
       "941             0.0             0.0  ...           0.0           0.0   \n",
       "942             0.0             0.0  ...           0.0           0.0   \n",
       "\n",
       "     state_uni_None  title_status_uni_clean  title_status_uni_lien  \\\n",
       "0               0.0                     1.0                    0.0   \n",
       "1               0.0                     0.0                    0.0   \n",
       "2               0.0                     0.0                    0.0   \n",
       "3               0.0                     0.0                    1.0   \n",
       "4               0.0                     0.0                    0.0   \n",
       "..              ...                     ...                    ...   \n",
       "938             1.0                     0.0                    0.0   \n",
       "939             1.0                     0.0                    0.0   \n",
       "940             1.0                     0.0                    0.0   \n",
       "941             1.0                     0.0                    0.0   \n",
       "942             1.0                     0.0                    0.0   \n",
       "\n",
       "     title_status_uni_missing  title_status_uni_parts only  \\\n",
       "0                         0.0                          0.0   \n",
       "1                         0.0                          0.0   \n",
       "2                         0.0                          0.0   \n",
       "3                         0.0                          0.0   \n",
       "4                         1.0                          0.0   \n",
       "..                        ...                          ...   \n",
       "938                       0.0                          0.0   \n",
       "939                       0.0                          0.0   \n",
       "940                       0.0                          0.0   \n",
       "941                       0.0                          0.0   \n",
       "942                       0.0                          0.0   \n",
       "\n",
       "     title_status_uni_rebuilt  title_status_uni_salvage  title_status_uni_None  \n",
       "0                         0.0                       0.0                    0.0  \n",
       "1                         1.0                       0.0                    0.0  \n",
       "2                         0.0                       1.0                    0.0  \n",
       "3                         0.0                       0.0                    0.0  \n",
       "4                         0.0                       0.0                    0.0  \n",
       "..                        ...                       ...                    ...  \n",
       "938                       0.0                       0.0                    1.0  \n",
       "939                       0.0                       0.0                    1.0  \n",
       "940                       0.0                       0.0                    1.0  \n",
       "941                       0.0                       0.0                    1.0  \n",
       "942                       0.0                       0.0                    1.0  \n",
       "\n",
       "[943 rows x 1445 columns]"
      ]
     },
     "execution_count": 12,
     "metadata": {},
     "output_type": "execute_result"
    }
   ],
   "source": [
    "new_df = pd.DataFrame(one_data.toarray(), columns=new_feature_names)\n",
    "new_df"
   ]
  },
  {
   "cell_type": "code",
   "execution_count": 13,
   "id": "71e25799",
   "metadata": {},
   "outputs": [],
   "source": [
    "df = df.join(new_df)"
   ]
  },
  {
   "cell_type": "markdown",
   "id": "4eddeddb",
   "metadata": {
    "id": "4eddeddb"
   },
   "source": [
    "8. Посмотрите на результат обратного преобразования получившейся матрицы в исходные признаки, используйте `inverse_transform`."
   ]
  },
  {
   "cell_type": "code",
   "execution_count": 14,
   "id": "0f2613e6",
   "metadata": {
    "ExecuteTime": {
     "end_time": "2022-03-15T22:40:45.647004Z",
     "start_time": "2022-03-15T22:40:45.641686Z"
    },
    "id": "0f2613e6"
   },
   "outputs": [
    {
     "data": {
      "text/plain": [
       "array([['2500', 'new', 'other', ..., 'ram', 'tn', 'clean'],\n",
       "       ['explorer', 'average', 'automatic', ..., 'ford', 'nj', 'rebuilt'],\n",
       "       ['golf', 'old', 'manual', ..., 'volkswagen', 'ca', 'salvage'],\n",
       "       ...,\n",
       "       ['FREIGHTLINER', None, None, ..., None, None, None],\n",
       "       ['durangon', None, None, ..., None, None, None],\n",
       "       ['gs350', None, None, ..., None, None, None]], dtype=object)"
      ]
     },
     "execution_count": 14,
     "metadata": {},
     "output_type": "execute_result"
    }
   ],
   "source": [
    "# Ваш код здесь\n",
    "ohe.inverse_transform(one_data)"
   ]
  },
  {
   "cell_type": "markdown",
   "id": "29bad2c6",
   "metadata": {
    "id": "29bad2c6"
   },
   "source": [
    "### Задача 3. Стандартизация данных\n",
    "\n",
    "1. Создайте переменную под количественные переменные `lat`, `long`, `year`, `odometer/price`, `desc_len`, `model_in_desc`, `model_len`, `model_word_count` и создайте датафрейм `data`, содержащий только выбранные количественные переменные.\n"
   ]
  },
  {
   "cell_type": "code",
   "execution_count": 15,
   "id": "ad704812",
   "metadata": {
    "ExecuteTime": {
     "end_time": "2022-03-15T22:40:45.881773Z",
     "start_time": "2022-03-15T22:40:45.875957Z"
    },
    "id": "ad704812"
   },
   "outputs": [
    {
     "data": {
      "text/html": [
       "<div>\n",
       "<style scoped>\n",
       "    .dataframe tbody tr th:only-of-type {\n",
       "        vertical-align: middle;\n",
       "    }\n",
       "\n",
       "    .dataframe tbody tr th {\n",
       "        vertical-align: top;\n",
       "    }\n",
       "\n",
       "    .dataframe thead th {\n",
       "        text-align: right;\n",
       "    }\n",
       "</style>\n",
       "<table border=\"1\" class=\"dataframe\">\n",
       "  <thead>\n",
       "    <tr style=\"text-align: right;\">\n",
       "      <th></th>\n",
       "      <th>lat</th>\n",
       "      <th>long</th>\n",
       "      <th>year</th>\n",
       "      <th>Unnamed 0</th>\n",
       "      <th>desc_len</th>\n",
       "      <th>model_in_desc</th>\n",
       "      <th>model_len</th>\n",
       "      <th>model_word_count</th>\n",
       "    </tr>\n",
       "  </thead>\n",
       "  <tbody>\n",
       "    <tr>\n",
       "      <th>0</th>\n",
       "      <td>35.060000</td>\n",
       "      <td>-85.250000</td>\n",
       "      <td>2020.0</td>\n",
       "      <td>0.499036</td>\n",
       "      <td>4482.0</td>\n",
       "      <td>0.0</td>\n",
       "      <td>22.0</td>\n",
       "      <td>5.0</td>\n",
       "    </tr>\n",
       "    <tr>\n",
       "      <th>1</th>\n",
       "      <td>40.821805</td>\n",
       "      <td>-74.061962</td>\n",
       "      <td>2016.0</td>\n",
       "      <td>3.542852</td>\n",
       "      <td>968.0</td>\n",
       "      <td>0.0</td>\n",
       "      <td>20.0</td>\n",
       "      <td>4.0</td>\n",
       "    </tr>\n",
       "    <tr>\n",
       "      <th>2</th>\n",
       "      <td>33.779214</td>\n",
       "      <td>-84.411811</td>\n",
       "      <td>2017.0</td>\n",
       "      <td>0.394718</td>\n",
       "      <td>4286.0</td>\n",
       "      <td>0.0</td>\n",
       "      <td>16.0</td>\n",
       "      <td>3.0</td>\n",
       "    </tr>\n",
       "    <tr>\n",
       "      <th>3</th>\n",
       "      <td>35.715954</td>\n",
       "      <td>-78.655304</td>\n",
       "      <td>2013.0</td>\n",
       "      <td>8.089034</td>\n",
       "      <td>3241.0</td>\n",
       "      <td>0.0</td>\n",
       "      <td>4.0</td>\n",
       "      <td>1.0</td>\n",
       "    </tr>\n",
       "    <tr>\n",
       "      <th>4</th>\n",
       "      <td>35.970000</td>\n",
       "      <td>-83.940000</td>\n",
       "      <td>2012.0</td>\n",
       "      <td>5.515079</td>\n",
       "      <td>4851.0</td>\n",
       "      <td>0.0</td>\n",
       "      <td>22.0</td>\n",
       "      <td>5.0</td>\n",
       "    </tr>\n",
       "    <tr>\n",
       "      <th>...</th>\n",
       "      <td>...</td>\n",
       "      <td>...</td>\n",
       "      <td>...</td>\n",
       "      <td>...</td>\n",
       "      <td>...</td>\n",
       "      <td>...</td>\n",
       "      <td>...</td>\n",
       "      <td>...</td>\n",
       "    </tr>\n",
       "    <tr>\n",
       "      <th>9614</th>\n",
       "      <td>42.123900</td>\n",
       "      <td>-79.189500</td>\n",
       "      <td>2002.0</td>\n",
       "      <td>33.370412</td>\n",
       "      <td>1710.0</td>\n",
       "      <td>0.0</td>\n",
       "      <td>4.0</td>\n",
       "      <td>1.0</td>\n",
       "    </tr>\n",
       "    <tr>\n",
       "      <th>9615</th>\n",
       "      <td>43.216990</td>\n",
       "      <td>-77.755610</td>\n",
       "      <td>2008.0</td>\n",
       "      <td>7.835323</td>\n",
       "      <td>948.0</td>\n",
       "      <td>0.0</td>\n",
       "      <td>8.0</td>\n",
       "      <td>1.0</td>\n",
       "    </tr>\n",
       "    <tr>\n",
       "      <th>9616</th>\n",
       "      <td>44.925908</td>\n",
       "      <td>-122.982753</td>\n",
       "      <td>2011.0</td>\n",
       "      <td>16.696387</td>\n",
       "      <td>909.0</td>\n",
       "      <td>0.0</td>\n",
       "      <td>25.0</td>\n",
       "      <td>5.0</td>\n",
       "    </tr>\n",
       "    <tr>\n",
       "      <th>9617</th>\n",
       "      <td>43.029559</td>\n",
       "      <td>-89.397796</td>\n",
       "      <td>2015.0</td>\n",
       "      <td>1.941787</td>\n",
       "      <td>3644.0</td>\n",
       "      <td>0.0</td>\n",
       "      <td>7.0</td>\n",
       "      <td>1.0</td>\n",
       "    </tr>\n",
       "    <tr>\n",
       "      <th>9618</th>\n",
       "      <td>36.670000</td>\n",
       "      <td>-76.300000</td>\n",
       "      <td>2017.0</td>\n",
       "      <td>1.122882</td>\n",
       "      <td>4483.0</td>\n",
       "      <td>0.0</td>\n",
       "      <td>22.0</td>\n",
       "      <td>5.0</td>\n",
       "    </tr>\n",
       "  </tbody>\n",
       "</table>\n",
       "<p>9619 rows × 8 columns</p>\n",
       "</div>"
      ],
      "text/plain": [
       "            lat        long    year  Unnamed 0  desc_len  model_in_desc  \\\n",
       "0     35.060000  -85.250000  2020.0   0.499036    4482.0            0.0   \n",
       "1     40.821805  -74.061962  2016.0   3.542852     968.0            0.0   \n",
       "2     33.779214  -84.411811  2017.0   0.394718    4286.0            0.0   \n",
       "3     35.715954  -78.655304  2013.0   8.089034    3241.0            0.0   \n",
       "4     35.970000  -83.940000  2012.0   5.515079    4851.0            0.0   \n",
       "...         ...         ...     ...        ...       ...            ...   \n",
       "9614  42.123900  -79.189500  2002.0  33.370412    1710.0            0.0   \n",
       "9615  43.216990  -77.755610  2008.0   7.835323     948.0            0.0   \n",
       "9616  44.925908 -122.982753  2011.0  16.696387     909.0            0.0   \n",
       "9617  43.029559  -89.397796  2015.0   1.941787    3644.0            0.0   \n",
       "9618  36.670000  -76.300000  2017.0   1.122882    4483.0            0.0   \n",
       "\n",
       "      model_len  model_word_count  \n",
       "0          22.0               5.0  \n",
       "1          20.0               4.0  \n",
       "2          16.0               3.0  \n",
       "3           4.0               1.0  \n",
       "4          22.0               5.0  \n",
       "...         ...               ...  \n",
       "9614        4.0               1.0  \n",
       "9615        8.0               1.0  \n",
       "9616       25.0               5.0  \n",
       "9617        7.0               1.0  \n",
       "9618       22.0               5.0  \n",
       "\n",
       "[9619 rows x 8 columns]"
      ]
     },
     "execution_count": 15,
     "metadata": {},
     "output_type": "execute_result"
    }
   ],
   "source": [
    "# Ваш код здесь\n",
    "data1 = df.lat,df.long,df.year,df.odometer/df.price, df.desc_len, df.model_in_desc,df.model_len, df.model_word_count\n",
    "data1 = pd.DataFrame(data1)\n",
    "data1=data1.T\n",
    "data1"
   ]
  },
  {
   "cell_type": "markdown",
   "id": "3e3704a7",
   "metadata": {
    "id": "3e3704a7"
   },
   "source": [
    "2. Создайте объект `std_scaler` класса StandardScaler с параметрами по умолчанию, который будет отвечать за стандартизацию."
   ]
  },
  {
   "cell_type": "code",
   "execution_count": 16,
   "id": "7b8ab72c",
   "metadata": {
    "ExecuteTime": {
     "end_time": "2022-03-15T22:40:46.294618Z",
     "start_time": "2022-03-15T22:40:46.288462Z"
    },
    "id": "7b8ab72c"
   },
   "outputs": [],
   "source": [
    "# Ваш код здесь\n",
    "from sklearn.preprocessing import StandardScaler\n",
    "std_scaler = StandardScaler()"
   ]
  },
  {
   "cell_type": "markdown",
   "id": "1630cfa2",
   "metadata": {
    "id": "1630cfa2"
   },
   "source": [
    "3. Идентифицируйте параметры преобразования на датафрейме с количественными переменными."
   ]
  },
  {
   "cell_type": "code",
   "execution_count": 17,
   "id": "0cc2c08b",
   "metadata": {
    "ExecuteTime": {
     "end_time": "2022-03-15T22:40:46.338630Z",
     "start_time": "2022-03-15T22:40:46.333793Z"
    },
    "id": "0cc2c08b"
   },
   "outputs": [
    {
     "data": {
      "text/plain": [
       "StandardScaler()"
      ]
     },
     "execution_count": 17,
     "metadata": {},
     "output_type": "execute_result"
    }
   ],
   "source": [
    "# Ваш код здесь\n",
    "std_scaler.fit(data1)"
   ]
  },
  {
   "cell_type": "markdown",
   "id": "9ef7ff55",
   "metadata": {
    "id": "9ef7ff55"
   },
   "source": [
    "4. Примените преобразование для датафрейма с количественными переменными и сохраните в новую переменную, распечатайте получившуюся матрицу и её размерность."
   ]
  },
  {
   "cell_type": "code",
   "execution_count": 18,
   "id": "cd141505",
   "metadata": {
    "ExecuteTime": {
     "end_time": "2022-03-15T22:40:46.389565Z",
     "start_time": "2022-03-15T22:40:46.380037Z"
    },
    "id": "cd141505"
   },
   "outputs": [
    {
     "data": {
      "text/plain": [
       "array([[-0.61917248,  0.48424452,  1.32239376, ..., -0.15578836,\n",
       "         1.16303238,  1.91066901],\n",
       "       [ 0.38801429,  1.11079989,  0.69597272, ..., -0.15578836,\n",
       "         0.93208734,  1.23579936],\n",
       "       [-0.84305905,  0.531185  ,  0.85257798, ..., -0.15578836,\n",
       "         0.47019727,  0.56092971],\n",
       "       ...,\n",
       "       [ 1.10542805, -1.62887477, -0.08705357, ..., -0.15578836,\n",
       "         1.50944993,  1.91066901],\n",
       "       [ 0.7739386 ,  0.25195859,  0.53936746, ..., -0.15578836,\n",
       "        -0.56905538, -0.78880959],\n",
       "       [-0.33773799,  0.98546471,  0.85257798, ..., -0.15578836,\n",
       "         1.16303238,  1.91066901]])"
      ]
     },
     "execution_count": 18,
     "metadata": {},
     "output_type": "execute_result"
    }
   ],
   "source": [
    "# Ваш код здесь\n",
    "std_scaler_data1 = std_scaler.transform(data1)\n",
    "std_scaler_data1"
   ]
  },
  {
   "cell_type": "markdown",
   "id": "68d44f88",
   "metadata": {
    "ExecuteTime": {
     "end_time": "2022-03-13T11:12:57.421096Z",
     "start_time": "2022-03-13T11:12:57.414865Z"
    },
    "id": "68d44f88"
   },
   "source": [
    "5. Создайте наименования новых признаков по шаблону: `lat_std` для `lat` и так далее."
   ]
  },
  {
   "cell_type": "code",
   "execution_count": 19,
   "id": "013e66f2",
   "metadata": {
    "ExecuteTime": {
     "end_time": "2022-03-15T22:40:46.483299Z",
     "start_time": "2022-03-15T22:40:46.475050Z"
    },
    "id": "013e66f2"
   },
   "outputs": [
    {
     "data": {
      "text/html": [
       "<div>\n",
       "<style scoped>\n",
       "    .dataframe tbody tr th:only-of-type {\n",
       "        vertical-align: middle;\n",
       "    }\n",
       "\n",
       "    .dataframe tbody tr th {\n",
       "        vertical-align: top;\n",
       "    }\n",
       "\n",
       "    .dataframe thead th {\n",
       "        text-align: right;\n",
       "    }\n",
       "</style>\n",
       "<table border=\"1\" class=\"dataframe\">\n",
       "  <thead>\n",
       "    <tr style=\"text-align: right;\">\n",
       "      <th></th>\n",
       "      <th>0_std</th>\n",
       "      <th>1_std</th>\n",
       "      <th>2_std</th>\n",
       "      <th>3_std</th>\n",
       "      <th>4_std</th>\n",
       "      <th>5_std</th>\n",
       "      <th>6_std</th>\n",
       "      <th>7_std</th>\n",
       "    </tr>\n",
       "  </thead>\n",
       "  <tbody>\n",
       "    <tr>\n",
       "      <th>0</th>\n",
       "      <td>-0.619172</td>\n",
       "      <td>0.484245</td>\n",
       "      <td>1.322394</td>\n",
       "      <td>-0.510784</td>\n",
       "      <td>0.632075</td>\n",
       "      <td>-0.155788</td>\n",
       "      <td>1.163032</td>\n",
       "      <td>1.910669</td>\n",
       "    </tr>\n",
       "    <tr>\n",
       "      <th>1</th>\n",
       "      <td>0.388014</td>\n",
       "      <td>1.110800</td>\n",
       "      <td>0.695973</td>\n",
       "      <td>-0.402947</td>\n",
       "      <td>-0.646781</td>\n",
       "      <td>-0.155788</td>\n",
       "      <td>0.932087</td>\n",
       "      <td>1.235799</td>\n",
       "    </tr>\n",
       "    <tr>\n",
       "      <th>2</th>\n",
       "      <td>-0.843059</td>\n",
       "      <td>0.531185</td>\n",
       "      <td>0.852578</td>\n",
       "      <td>-0.514480</td>\n",
       "      <td>0.560744</td>\n",
       "      <td>-0.155788</td>\n",
       "      <td>0.470197</td>\n",
       "      <td>0.560930</td>\n",
       "    </tr>\n",
       "    <tr>\n",
       "      <th>3</th>\n",
       "      <td>-0.504509</td>\n",
       "      <td>0.853562</td>\n",
       "      <td>0.226157</td>\n",
       "      <td>-0.241883</td>\n",
       "      <td>0.180435</td>\n",
       "      <td>-0.155788</td>\n",
       "      <td>-0.915473</td>\n",
       "      <td>-0.788810</td>\n",
       "    </tr>\n",
       "    <tr>\n",
       "      <th>4</th>\n",
       "      <td>-0.460101</td>\n",
       "      <td>0.557607</td>\n",
       "      <td>0.069552</td>\n",
       "      <td>-0.333074</td>\n",
       "      <td>0.766366</td>\n",
       "      <td>-0.155788</td>\n",
       "      <td>1.163032</td>\n",
       "      <td>1.910669</td>\n",
       "    </tr>\n",
       "    <tr>\n",
       "      <th>...</th>\n",
       "      <td>...</td>\n",
       "      <td>...</td>\n",
       "      <td>...</td>\n",
       "      <td>...</td>\n",
       "      <td>...</td>\n",
       "      <td>...</td>\n",
       "      <td>...</td>\n",
       "      <td>...</td>\n",
       "    </tr>\n",
       "    <tr>\n",
       "      <th>9614</th>\n",
       "      <td>0.615626</td>\n",
       "      <td>0.823646</td>\n",
       "      <td>-1.496501</td>\n",
       "      <td>0.653795</td>\n",
       "      <td>-0.376744</td>\n",
       "      <td>-0.155788</td>\n",
       "      <td>-0.915473</td>\n",
       "      <td>-0.788810</td>\n",
       "    </tr>\n",
       "    <tr>\n",
       "      <th>9615</th>\n",
       "      <td>0.806702</td>\n",
       "      <td>0.903947</td>\n",
       "      <td>-0.556869</td>\n",
       "      <td>-0.250872</td>\n",
       "      <td>-0.654060</td>\n",
       "      <td>-0.155788</td>\n",
       "      <td>-0.453583</td>\n",
       "      <td>-0.788810</td>\n",
       "    </tr>\n",
       "    <tr>\n",
       "      <th>9616</th>\n",
       "      <td>1.105428</td>\n",
       "      <td>-1.628875</td>\n",
       "      <td>-0.087054</td>\n",
       "      <td>0.063061</td>\n",
       "      <td>-0.668253</td>\n",
       "      <td>-0.155788</td>\n",
       "      <td>1.509450</td>\n",
       "      <td>1.910669</td>\n",
       "    </tr>\n",
       "    <tr>\n",
       "      <th>9617</th>\n",
       "      <td>0.773939</td>\n",
       "      <td>0.251959</td>\n",
       "      <td>0.539367</td>\n",
       "      <td>-0.459670</td>\n",
       "      <td>0.327100</td>\n",
       "      <td>-0.155788</td>\n",
       "      <td>-0.569055</td>\n",
       "      <td>-0.788810</td>\n",
       "    </tr>\n",
       "    <tr>\n",
       "      <th>9618</th>\n",
       "      <td>-0.337738</td>\n",
       "      <td>0.985465</td>\n",
       "      <td>0.852578</td>\n",
       "      <td>-0.488682</td>\n",
       "      <td>0.632439</td>\n",
       "      <td>-0.155788</td>\n",
       "      <td>1.163032</td>\n",
       "      <td>1.910669</td>\n",
       "    </tr>\n",
       "  </tbody>\n",
       "</table>\n",
       "<p>9619 rows × 8 columns</p>\n",
       "</div>"
      ],
      "text/plain": [
       "         0_std     1_std     2_std     3_std     4_std     5_std     6_std  \\\n",
       "0    -0.619172  0.484245  1.322394 -0.510784  0.632075 -0.155788  1.163032   \n",
       "1     0.388014  1.110800  0.695973 -0.402947 -0.646781 -0.155788  0.932087   \n",
       "2    -0.843059  0.531185  0.852578 -0.514480  0.560744 -0.155788  0.470197   \n",
       "3    -0.504509  0.853562  0.226157 -0.241883  0.180435 -0.155788 -0.915473   \n",
       "4    -0.460101  0.557607  0.069552 -0.333074  0.766366 -0.155788  1.163032   \n",
       "...        ...       ...       ...       ...       ...       ...       ...   \n",
       "9614  0.615626  0.823646 -1.496501  0.653795 -0.376744 -0.155788 -0.915473   \n",
       "9615  0.806702  0.903947 -0.556869 -0.250872 -0.654060 -0.155788 -0.453583   \n",
       "9616  1.105428 -1.628875 -0.087054  0.063061 -0.668253 -0.155788  1.509450   \n",
       "9617  0.773939  0.251959  0.539367 -0.459670  0.327100 -0.155788 -0.569055   \n",
       "9618 -0.337738  0.985465  0.852578 -0.488682  0.632439 -0.155788  1.163032   \n",
       "\n",
       "         7_std  \n",
       "0     1.910669  \n",
       "1     1.235799  \n",
       "2     0.560930  \n",
       "3    -0.788810  \n",
       "4     1.910669  \n",
       "...        ...  \n",
       "9614 -0.788810  \n",
       "9615 -0.788810  \n",
       "9616  1.910669  \n",
       "9617 -0.788810  \n",
       "9618  1.910669  \n",
       "\n",
       "[9619 rows x 8 columns]"
      ]
     },
     "execution_count": 19,
     "metadata": {},
     "output_type": "execute_result"
    }
   ],
   "source": [
    "# Ваш код здесь\n",
    "std_scaler_data1 = pd.DataFrame(std_scaler_data1)\n",
    "new_columns= [f\"{column}_std\" for column in std_scaler_data1.columns]\n",
    "std_scaler_data1.columns = new_columns\n",
    "std_scaler_data1"
   ]
  },
  {
   "cell_type": "markdown",
   "id": "490925bb",
   "metadata": {
    "ExecuteTime": {
     "end_time": "2022-03-13T11:13:15.167251Z",
     "start_time": "2022-03-13T11:13:15.161293Z"
    },
    "id": "490925bb"
   },
   "source": [
    "6. Добавьте в исходный датафрейм получившиеся новые признаки, выведите первые пять записей датафрейма и список колонок."
   ]
  },
  {
   "cell_type": "code",
   "execution_count": 30,
   "id": "6eb7c0dd",
   "metadata": {
    "ExecuteTime": {
     "end_time": "2022-03-15T22:40:46.528674Z",
     "start_time": "2022-03-15T22:40:46.520688Z"
    },
    "id": "6eb7c0dd"
   },
   "outputs": [
    {
     "data": {
      "text/html": [
       "<div>\n",
       "<style scoped>\n",
       "    .dataframe tbody tr th:only-of-type {\n",
       "        vertical-align: middle;\n",
       "    }\n",
       "\n",
       "    .dataframe tbody tr th {\n",
       "        vertical-align: top;\n",
       "    }\n",
       "\n",
       "    .dataframe thead th {\n",
       "        text-align: right;\n",
       "    }\n",
       "</style>\n",
       "<table border=\"1\" class=\"dataframe\">\n",
       "  <thead>\n",
       "    <tr style=\"text-align: right;\">\n",
       "      <th></th>\n",
       "      <th>id</th>\n",
       "      <th>url</th>\n",
       "      <th>region</th>\n",
       "      <th>region_url</th>\n",
       "      <th>price</th>\n",
       "      <th>year</th>\n",
       "      <th>manufacturer</th>\n",
       "      <th>model</th>\n",
       "      <th>fuel</th>\n",
       "      <th>odometer</th>\n",
       "      <th>...</th>\n",
       "      <th>lat_std</th>\n",
       "      <th>long_std</th>\n",
       "      <th>year_std</th>\n",
       "      <th>odometer/price_std</th>\n",
       "      <th>desc_len_std</th>\n",
       "      <th>model_in_desc_std</th>\n",
       "      <th>model_len_std</th>\n",
       "      <th>model_word_count_std</th>\n",
       "      <th>lat_mm</th>\n",
       "      <th>long_mm</th>\n",
       "    </tr>\n",
       "  </thead>\n",
       "  <tbody>\n",
       "    <tr>\n",
       "      <th>0</th>\n",
       "      <td>7308295377</td>\n",
       "      <td>https://chattanooga.craigslist.org/ctd/d/chatt...</td>\n",
       "      <td>chattanooga</td>\n",
       "      <td>https://chattanooga.craigslist.org</td>\n",
       "      <td>54990</td>\n",
       "      <td>2020</td>\n",
       "      <td>ram</td>\n",
       "      <td>2500 crew cab big horn</td>\n",
       "      <td>diesel</td>\n",
       "      <td>27442</td>\n",
       "      <td>...</td>\n",
       "      <td>-0.619172</td>\n",
       "      <td>0.484245</td>\n",
       "      <td>1.322394</td>\n",
       "      <td>-0.510784</td>\n",
       "      <td>0.632075</td>\n",
       "      <td>-0.155788</td>\n",
       "      <td>1.163032</td>\n",
       "      <td>1.910669</td>\n",
       "      <td>0.341769</td>\n",
       "      <td>0.288699</td>\n",
       "    </tr>\n",
       "    <tr>\n",
       "      <th>1</th>\n",
       "      <td>7316380095</td>\n",
       "      <td>https://newjersey.craigslist.org/ctd/d/carlsta...</td>\n",
       "      <td>north jersey</td>\n",
       "      <td>https://newjersey.craigslist.org</td>\n",
       "      <td>16942</td>\n",
       "      <td>2016</td>\n",
       "      <td>ford</td>\n",
       "      <td>explorer 4wd 4dr xlt</td>\n",
       "      <td>other</td>\n",
       "      <td>60023</td>\n",
       "      <td>...</td>\n",
       "      <td>0.388014</td>\n",
       "      <td>1.110800</td>\n",
       "      <td>0.695973</td>\n",
       "      <td>-0.402947</td>\n",
       "      <td>-0.646781</td>\n",
       "      <td>-0.155788</td>\n",
       "      <td>0.932087</td>\n",
       "      <td>1.235799</td>\n",
       "      <td>0.468665</td>\n",
       "      <td>0.333055</td>\n",
       "    </tr>\n",
       "    <tr>\n",
       "      <th>2</th>\n",
       "      <td>7313733749</td>\n",
       "      <td>https://reno.craigslist.org/ctd/d/atlanta-2017...</td>\n",
       "      <td>reno / tahoe</td>\n",
       "      <td>https://reno.craigslist.org</td>\n",
       "      <td>35590</td>\n",
       "      <td>2017</td>\n",
       "      <td>volkswagen</td>\n",
       "      <td>golf r hatchback</td>\n",
       "      <td>gas</td>\n",
       "      <td>14048</td>\n",
       "      <td>...</td>\n",
       "      <td>-0.843059</td>\n",
       "      <td>0.531185</td>\n",
       "      <td>0.852578</td>\n",
       "      <td>-0.514480</td>\n",
       "      <td>0.560744</td>\n",
       "      <td>-0.155788</td>\n",
       "      <td>0.470197</td>\n",
       "      <td>0.560930</td>\n",
       "      <td>0.313561</td>\n",
       "      <td>0.292022</td>\n",
       "    </tr>\n",
       "    <tr>\n",
       "      <th>3</th>\n",
       "      <td>7308210929</td>\n",
       "      <td>https://fayetteville.craigslist.org/ctd/d/rale...</td>\n",
       "      <td>fayetteville</td>\n",
       "      <td>https://fayetteville.craigslist.org</td>\n",
       "      <td>14500</td>\n",
       "      <td>2013</td>\n",
       "      <td>toyota</td>\n",
       "      <td>rav4</td>\n",
       "      <td>gas</td>\n",
       "      <td>117291</td>\n",
       "      <td>...</td>\n",
       "      <td>-0.504509</td>\n",
       "      <td>0.853562</td>\n",
       "      <td>0.226157</td>\n",
       "      <td>-0.241883</td>\n",
       "      <td>0.180435</td>\n",
       "      <td>-0.155788</td>\n",
       "      <td>-0.915473</td>\n",
       "      <td>-0.788810</td>\n",
       "      <td>0.356215</td>\n",
       "      <td>0.314844</td>\n",
       "    </tr>\n",
       "    <tr>\n",
       "      <th>4</th>\n",
       "      <td>7303797340</td>\n",
       "      <td>https://knoxville.craigslist.org/ctd/d/knoxvil...</td>\n",
       "      <td>knoxville</td>\n",
       "      <td>https://knoxville.craigslist.org</td>\n",
       "      <td>14590</td>\n",
       "      <td>2012</td>\n",
       "      <td>bmw</td>\n",
       "      <td>1 series 128i coupe 2d</td>\n",
       "      <td>other</td>\n",
       "      <td>80465</td>\n",
       "      <td>...</td>\n",
       "      <td>-0.460101</td>\n",
       "      <td>0.557607</td>\n",
       "      <td>0.069552</td>\n",
       "      <td>-0.333074</td>\n",
       "      <td>0.766366</td>\n",
       "      <td>-0.155788</td>\n",
       "      <td>1.163032</td>\n",
       "      <td>1.910669</td>\n",
       "      <td>0.361810</td>\n",
       "      <td>0.293893</td>\n",
       "    </tr>\n",
       "  </tbody>\n",
       "</table>\n",
       "<p>5 rows × 1501 columns</p>\n",
       "</div>"
      ],
      "text/plain": [
       "           id                                                url  \\\n",
       "0  7308295377  https://chattanooga.craigslist.org/ctd/d/chatt...   \n",
       "1  7316380095  https://newjersey.craigslist.org/ctd/d/carlsta...   \n",
       "2  7313733749  https://reno.craigslist.org/ctd/d/atlanta-2017...   \n",
       "3  7308210929  https://fayetteville.craigslist.org/ctd/d/rale...   \n",
       "4  7303797340  https://knoxville.craigslist.org/ctd/d/knoxvil...   \n",
       "\n",
       "         region                           region_url  price  year  \\\n",
       "0   chattanooga   https://chattanooga.craigslist.org  54990  2020   \n",
       "1  north jersey     https://newjersey.craigslist.org  16942  2016   \n",
       "2  reno / tahoe          https://reno.craigslist.org  35590  2017   \n",
       "3  fayetteville  https://fayetteville.craigslist.org  14500  2013   \n",
       "4     knoxville     https://knoxville.craigslist.org  14590  2012   \n",
       "\n",
       "  manufacturer                   model    fuel  odometer  ...   lat_std  \\\n",
       "0          ram  2500 crew cab big horn  diesel     27442  ... -0.619172   \n",
       "1         ford    explorer 4wd 4dr xlt   other     60023  ...  0.388014   \n",
       "2   volkswagen        golf r hatchback     gas     14048  ... -0.843059   \n",
       "3       toyota                    rav4     gas    117291  ... -0.504509   \n",
       "4          bmw  1 series 128i coupe 2d   other     80465  ... -0.460101   \n",
       "\n",
       "   long_std  year_std odometer/price_std desc_len_std  model_in_desc_std  \\\n",
       "0  0.484245  1.322394          -0.510784     0.632075          -0.155788   \n",
       "1  1.110800  0.695973          -0.402947    -0.646781          -0.155788   \n",
       "2  0.531185  0.852578          -0.514480     0.560744          -0.155788   \n",
       "3  0.853562  0.226157          -0.241883     0.180435          -0.155788   \n",
       "4  0.557607  0.069552          -0.333074     0.766366          -0.155788   \n",
       "\n",
       "   model_len_std model_word_count_std    lat_mm   long_mm  \n",
       "0       1.163032             1.910669  0.341769  0.288699  \n",
       "1       0.932087             1.235799  0.468665  0.333055  \n",
       "2       0.470197             0.560930  0.313561  0.292022  \n",
       "3      -0.915473            -0.788810  0.356215  0.314844  \n",
       "4       1.163032             1.910669  0.361810  0.293893  \n",
       "\n",
       "[5 rows x 1501 columns]"
      ]
     },
     "execution_count": 30,
     "metadata": {},
     "output_type": "execute_result"
    }
   ],
   "source": [
    "# Ваш код здесь\n",
    "df[new_columns]= std_scaler_data1\n",
    "df=df.rename(columns={'0_std':'lat_std', '1_std':'long_std', '2_std':'year_std', '3_std':'odometer/price_std', '4_std':'desc_len_std',\n",
    "       '5_std':'model_in_desc_std', '6_std':'model_len_std', '7_std':'model_word_count_std'})\n",
    "df.head()"
   ]
  },
  {
   "cell_type": "markdown",
   "id": "0a3146dd",
   "metadata": {
    "ExecuteTime": {
     "end_time": "2022-03-13T11:16:52.292837Z",
     "start_time": "2022-03-13T11:16:52.286868Z"
    },
    "id": "0a3146dd"
   },
   "source": [
    "### Задача 4. MinMax-нормализация данных\n",
    "\n",
    "1. Импортируйте MinMaxScaler из `sklearn.preprocessing`."
   ]
  },
  {
   "cell_type": "code",
   "execution_count": 31,
   "id": "3db8afba",
   "metadata": {
    "ExecuteTime": {
     "end_time": "2022-03-15T22:40:46.701361Z",
     "start_time": "2022-03-15T22:40:46.695192Z"
    },
    "id": "3db8afba"
   },
   "outputs": [],
   "source": [
    "# Ваш код здесь\n",
    "from sklearn.preprocessing import MinMaxScaler"
   ]
  },
  {
   "cell_type": "markdown",
   "id": "d471557f",
   "metadata": {
    "id": "d471557f"
   },
   "source": [
    "2. Создайте датафрейм, содержащий переменные `lat` и `long`."
   ]
  },
  {
   "cell_type": "code",
   "execution_count": 32,
   "id": "13859501",
   "metadata": {
    "ExecuteTime": {
     "end_time": "2022-03-15T22:40:46.732137Z",
     "start_time": "2022-03-15T22:40:46.725228Z"
    },
    "id": "13859501"
   },
   "outputs": [
    {
     "data": {
      "text/html": [
       "<div>\n",
       "<style scoped>\n",
       "    .dataframe tbody tr th:only-of-type {\n",
       "        vertical-align: middle;\n",
       "    }\n",
       "\n",
       "    .dataframe tbody tr th {\n",
       "        vertical-align: top;\n",
       "    }\n",
       "\n",
       "    .dataframe thead th {\n",
       "        text-align: right;\n",
       "    }\n",
       "</style>\n",
       "<table border=\"1\" class=\"dataframe\">\n",
       "  <thead>\n",
       "    <tr style=\"text-align: right;\">\n",
       "      <th></th>\n",
       "      <th>lat</th>\n",
       "      <th>long</th>\n",
       "    </tr>\n",
       "  </thead>\n",
       "  <tbody>\n",
       "    <tr>\n",
       "      <th>0</th>\n",
       "      <td>35.060000</td>\n",
       "      <td>-85.250000</td>\n",
       "    </tr>\n",
       "    <tr>\n",
       "      <th>1</th>\n",
       "      <td>40.821805</td>\n",
       "      <td>-74.061962</td>\n",
       "    </tr>\n",
       "    <tr>\n",
       "      <th>2</th>\n",
       "      <td>33.779214</td>\n",
       "      <td>-84.411811</td>\n",
       "    </tr>\n",
       "    <tr>\n",
       "      <th>3</th>\n",
       "      <td>35.715954</td>\n",
       "      <td>-78.655304</td>\n",
       "    </tr>\n",
       "    <tr>\n",
       "      <th>4</th>\n",
       "      <td>35.970000</td>\n",
       "      <td>-83.940000</td>\n",
       "    </tr>\n",
       "  </tbody>\n",
       "</table>\n",
       "</div>"
      ],
      "text/plain": [
       "         lat       long\n",
       "0  35.060000 -85.250000\n",
       "1  40.821805 -74.061962\n",
       "2  33.779214 -84.411811\n",
       "3  35.715954 -78.655304\n",
       "4  35.970000 -83.940000"
      ]
     },
     "execution_count": 32,
     "metadata": {},
     "output_type": "execute_result"
    }
   ],
   "source": [
    "# Ваш код здесь\n",
    "df_l = df[['lat','long']]\n",
    "df_l.head()"
   ]
  },
  {
   "cell_type": "markdown",
   "id": "0599fc35",
   "metadata": {
    "id": "0599fc35"
   },
   "source": [
    "3. Повторите действия пунктов 2–6 из задачи 3 для добавления в исходный датафрейм признаков `lat_mm` и `long_mm`. Выведите получившийся датафрейм."
   ]
  },
  {
   "cell_type": "code",
   "execution_count": 37,
   "id": "26f2c546",
   "metadata": {
    "ExecuteTime": {
     "end_time": "2022-03-15T22:40:47.159782Z",
     "start_time": "2022-03-15T22:40:47.148971Z"
    },
    "id": "26f2c546"
   },
   "outputs": [
    {
     "data": {
      "text/html": [
       "<div>\n",
       "<style scoped>\n",
       "    .dataframe tbody tr th:only-of-type {\n",
       "        vertical-align: middle;\n",
       "    }\n",
       "\n",
       "    .dataframe tbody tr th {\n",
       "        vertical-align: top;\n",
       "    }\n",
       "\n",
       "    .dataframe thead th {\n",
       "        text-align: right;\n",
       "    }\n",
       "</style>\n",
       "<table border=\"1\" class=\"dataframe\">\n",
       "  <thead>\n",
       "    <tr style=\"text-align: right;\">\n",
       "      <th></th>\n",
       "      <th>id</th>\n",
       "      <th>url</th>\n",
       "      <th>region</th>\n",
       "      <th>region_url</th>\n",
       "      <th>price</th>\n",
       "      <th>year</th>\n",
       "      <th>manufacturer</th>\n",
       "      <th>model</th>\n",
       "      <th>fuel</th>\n",
       "      <th>odometer</th>\n",
       "      <th>...</th>\n",
       "      <th>long_std</th>\n",
       "      <th>year_std</th>\n",
       "      <th>odometer/price_std</th>\n",
       "      <th>desc_len_std</th>\n",
       "      <th>model_in_desc_std</th>\n",
       "      <th>model_len_std</th>\n",
       "      <th>model_word_count_std</th>\n",
       "      <th>lat_mm</th>\n",
       "      <th>long_mm</th>\n",
       "      <th>log_mm</th>\n",
       "    </tr>\n",
       "  </thead>\n",
       "  <tbody>\n",
       "    <tr>\n",
       "      <th>0</th>\n",
       "      <td>7308295377</td>\n",
       "      <td>https://chattanooga.craigslist.org/ctd/d/chatt...</td>\n",
       "      <td>chattanooga</td>\n",
       "      <td>https://chattanooga.craigslist.org</td>\n",
       "      <td>54990</td>\n",
       "      <td>2020</td>\n",
       "      <td>ram</td>\n",
       "      <td>2500 crew cab big horn</td>\n",
       "      <td>diesel</td>\n",
       "      <td>27442</td>\n",
       "      <td>...</td>\n",
       "      <td>0.484245</td>\n",
       "      <td>1.322394</td>\n",
       "      <td>-0.510784</td>\n",
       "      <td>0.632075</td>\n",
       "      <td>-0.155788</td>\n",
       "      <td>1.163032</td>\n",
       "      <td>1.910669</td>\n",
       "      <td>-0.619172</td>\n",
       "      <td>0.288699</td>\n",
       "      <td>0.484245</td>\n",
       "    </tr>\n",
       "    <tr>\n",
       "      <th>1</th>\n",
       "      <td>7316380095</td>\n",
       "      <td>https://newjersey.craigslist.org/ctd/d/carlsta...</td>\n",
       "      <td>north jersey</td>\n",
       "      <td>https://newjersey.craigslist.org</td>\n",
       "      <td>16942</td>\n",
       "      <td>2016</td>\n",
       "      <td>ford</td>\n",
       "      <td>explorer 4wd 4dr xlt</td>\n",
       "      <td>other</td>\n",
       "      <td>60023</td>\n",
       "      <td>...</td>\n",
       "      <td>1.110800</td>\n",
       "      <td>0.695973</td>\n",
       "      <td>-0.402947</td>\n",
       "      <td>-0.646781</td>\n",
       "      <td>-0.155788</td>\n",
       "      <td>0.932087</td>\n",
       "      <td>1.235799</td>\n",
       "      <td>0.388014</td>\n",
       "      <td>0.333055</td>\n",
       "      <td>1.110800</td>\n",
       "    </tr>\n",
       "    <tr>\n",
       "      <th>2</th>\n",
       "      <td>7313733749</td>\n",
       "      <td>https://reno.craigslist.org/ctd/d/atlanta-2017...</td>\n",
       "      <td>reno / tahoe</td>\n",
       "      <td>https://reno.craigslist.org</td>\n",
       "      <td>35590</td>\n",
       "      <td>2017</td>\n",
       "      <td>volkswagen</td>\n",
       "      <td>golf r hatchback</td>\n",
       "      <td>gas</td>\n",
       "      <td>14048</td>\n",
       "      <td>...</td>\n",
       "      <td>0.531185</td>\n",
       "      <td>0.852578</td>\n",
       "      <td>-0.514480</td>\n",
       "      <td>0.560744</td>\n",
       "      <td>-0.155788</td>\n",
       "      <td>0.470197</td>\n",
       "      <td>0.560930</td>\n",
       "      <td>-0.843059</td>\n",
       "      <td>0.292022</td>\n",
       "      <td>0.531185</td>\n",
       "    </tr>\n",
       "    <tr>\n",
       "      <th>3</th>\n",
       "      <td>7308210929</td>\n",
       "      <td>https://fayetteville.craigslist.org/ctd/d/rale...</td>\n",
       "      <td>fayetteville</td>\n",
       "      <td>https://fayetteville.craigslist.org</td>\n",
       "      <td>14500</td>\n",
       "      <td>2013</td>\n",
       "      <td>toyota</td>\n",
       "      <td>rav4</td>\n",
       "      <td>gas</td>\n",
       "      <td>117291</td>\n",
       "      <td>...</td>\n",
       "      <td>0.853562</td>\n",
       "      <td>0.226157</td>\n",
       "      <td>-0.241883</td>\n",
       "      <td>0.180435</td>\n",
       "      <td>-0.155788</td>\n",
       "      <td>-0.915473</td>\n",
       "      <td>-0.788810</td>\n",
       "      <td>-0.504509</td>\n",
       "      <td>0.314844</td>\n",
       "      <td>0.853562</td>\n",
       "    </tr>\n",
       "    <tr>\n",
       "      <th>4</th>\n",
       "      <td>7303797340</td>\n",
       "      <td>https://knoxville.craigslist.org/ctd/d/knoxvil...</td>\n",
       "      <td>knoxville</td>\n",
       "      <td>https://knoxville.craigslist.org</td>\n",
       "      <td>14590</td>\n",
       "      <td>2012</td>\n",
       "      <td>bmw</td>\n",
       "      <td>1 series 128i coupe 2d</td>\n",
       "      <td>other</td>\n",
       "      <td>80465</td>\n",
       "      <td>...</td>\n",
       "      <td>0.557607</td>\n",
       "      <td>0.069552</td>\n",
       "      <td>-0.333074</td>\n",
       "      <td>0.766366</td>\n",
       "      <td>-0.155788</td>\n",
       "      <td>1.163032</td>\n",
       "      <td>1.910669</td>\n",
       "      <td>-0.460101</td>\n",
       "      <td>0.293893</td>\n",
       "      <td>0.557607</td>\n",
       "    </tr>\n",
       "  </tbody>\n",
       "</table>\n",
       "<p>5 rows × 1502 columns</p>\n",
       "</div>"
      ],
      "text/plain": [
       "           id                                                url  \\\n",
       "0  7308295377  https://chattanooga.craigslist.org/ctd/d/chatt...   \n",
       "1  7316380095  https://newjersey.craigslist.org/ctd/d/carlsta...   \n",
       "2  7313733749  https://reno.craigslist.org/ctd/d/atlanta-2017...   \n",
       "3  7308210929  https://fayetteville.craigslist.org/ctd/d/rale...   \n",
       "4  7303797340  https://knoxville.craigslist.org/ctd/d/knoxvil...   \n",
       "\n",
       "         region                           region_url  price  year  \\\n",
       "0   chattanooga   https://chattanooga.craigslist.org  54990  2020   \n",
       "1  north jersey     https://newjersey.craigslist.org  16942  2016   \n",
       "2  reno / tahoe          https://reno.craigslist.org  35590  2017   \n",
       "3  fayetteville  https://fayetteville.craigslist.org  14500  2013   \n",
       "4     knoxville     https://knoxville.craigslist.org  14590  2012   \n",
       "\n",
       "  manufacturer                   model    fuel  odometer  ...  long_std  \\\n",
       "0          ram  2500 crew cab big horn  diesel     27442  ...  0.484245   \n",
       "1         ford    explorer 4wd 4dr xlt   other     60023  ...  1.110800   \n",
       "2   volkswagen        golf r hatchback     gas     14048  ...  0.531185   \n",
       "3       toyota                    rav4     gas    117291  ...  0.853562   \n",
       "4          bmw  1 series 128i coupe 2d   other     80465  ...  0.557607   \n",
       "\n",
       "   year_std odometer/price_std desc_len_std model_in_desc_std  model_len_std  \\\n",
       "0  1.322394          -0.510784     0.632075         -0.155788       1.163032   \n",
       "1  0.695973          -0.402947    -0.646781         -0.155788       0.932087   \n",
       "2  0.852578          -0.514480     0.560744         -0.155788       0.470197   \n",
       "3  0.226157          -0.241883     0.180435         -0.155788      -0.915473   \n",
       "4  0.069552          -0.333074     0.766366         -0.155788       1.163032   \n",
       "\n",
       "   model_word_count_std    lat_mm   long_mm    log_mm  \n",
       "0              1.910669 -0.619172  0.288699  0.484245  \n",
       "1              1.235799  0.388014  0.333055  1.110800  \n",
       "2              0.560930 -0.843059  0.292022  0.531185  \n",
       "3             -0.788810 -0.504509  0.314844  0.853562  \n",
       "4              1.910669 -0.460101  0.293893  0.557607  \n",
       "\n",
       "[5 rows x 1502 columns]"
      ]
     },
     "execution_count": 37,
     "metadata": {},
     "output_type": "execute_result"
    }
   ],
   "source": [
    "# Ваш код здесь\n",
    "from sklearn.preprocessing import StandardScaler\n",
    "std_scaler = StandardScaler()\n",
    "std_scaler.fit(df_l)\n",
    "std_scaler_data1 = std_scaler.transform(df_l)\n",
    "std_scaler_data1\n",
    "new_columns=['lat_mm', 'log_mm']\n",
    "df[new_columns]= std_scaler_data1\n",
    "df.head()"
   ]
  },
  {
   "cell_type": "markdown",
   "id": "71044c34",
   "metadata": {
    "id": "71044c34"
   },
   "source": [
    "4. Создайте переменную под географические признаки `lat`, `lat_std`, `lat_mm`, `long`, `long_std`, `long_mm` и выведите их. Посмотрите на различия в значениях для исходных признаков и нормализованных с помощью стандартизации и MinMax-преобразования. "
   ]
  },
  {
   "cell_type": "code",
   "execution_count": 38,
   "id": "27642284",
   "metadata": {
    "ExecuteTime": {
     "end_time": "2022-03-15T22:40:47.408669Z",
     "start_time": "2022-03-15T22:40:47.402057Z"
    },
    "id": "27642284"
   },
   "outputs": [],
   "source": [
    "# Ваш код здесь\n",
    "df_lat=df[['lat', 'lat_std', 'lat_mm', 'long', 'long_std', 'long_mm']]"
   ]
  },
  {
   "cell_type": "markdown",
   "id": "ef219d5f",
   "metadata": {
    "id": "ef219d5f"
   },
   "source": [
    "5. Выведите описательные статистики для всех географических признаков. Посмотрите на различия в статистиках для исходных признаков и нормализованных с помощью стандартизации и MinMax-преобразования."
   ]
  },
  {
   "cell_type": "code",
   "execution_count": 39,
   "id": "453b92ff",
   "metadata": {
    "ExecuteTime": {
     "end_time": "2022-03-15T22:40:47.738681Z",
     "start_time": "2022-03-15T22:40:47.730698Z"
    },
    "id": "453b92ff"
   },
   "outputs": [
    {
     "data": {
      "text/html": [
       "<div>\n",
       "<style scoped>\n",
       "    .dataframe tbody tr th:only-of-type {\n",
       "        vertical-align: middle;\n",
       "    }\n",
       "\n",
       "    .dataframe tbody tr th {\n",
       "        vertical-align: top;\n",
       "    }\n",
       "\n",
       "    .dataframe thead th {\n",
       "        text-align: right;\n",
       "    }\n",
       "</style>\n",
       "<table border=\"1\" class=\"dataframe\">\n",
       "  <thead>\n",
       "    <tr style=\"text-align: right;\">\n",
       "      <th></th>\n",
       "      <th>lat</th>\n",
       "      <th>lat_std</th>\n",
       "      <th>lat_mm</th>\n",
       "      <th>long</th>\n",
       "      <th>long_std</th>\n",
       "      <th>long_mm</th>\n",
       "    </tr>\n",
       "  </thead>\n",
       "  <tbody>\n",
       "    <tr>\n",
       "      <th>count</th>\n",
       "      <td>9619.000000</td>\n",
       "      <td>9.619000e+03</td>\n",
       "      <td>9.619000e+03</td>\n",
       "      <td>9619.000000</td>\n",
       "      <td>9.619000e+03</td>\n",
       "      <td>9619.000000</td>\n",
       "    </tr>\n",
       "    <tr>\n",
       "      <th>mean</th>\n",
       "      <td>38.602095</td>\n",
       "      <td>3.250754e-14</td>\n",
       "      <td>2.108662e-16</td>\n",
       "      <td>-93.896875</td>\n",
       "      <td>-1.265151e-15</td>\n",
       "      <td>0.254418</td>\n",
       "    </tr>\n",
       "    <tr>\n",
       "      <th>std</th>\n",
       "      <td>5.720989</td>\n",
       "      <td>1.000052e+00</td>\n",
       "      <td>1.000052e+00</td>\n",
       "      <td>17.857352</td>\n",
       "      <td>1.000052e+00</td>\n",
       "      <td>0.070797</td>\n",
       "    </tr>\n",
       "    <tr>\n",
       "      <th>min</th>\n",
       "      <td>19.541726</td>\n",
       "      <td>-3.331829e+00</td>\n",
       "      <td>-3.331829e+00</td>\n",
       "      <td>-158.069300</td>\n",
       "      <td>-3.593801e+00</td>\n",
       "      <td>0.000000</td>\n",
       "    </tr>\n",
       "    <tr>\n",
       "      <th>25%</th>\n",
       "      <td>34.920000</td>\n",
       "      <td>-6.436450e-01</td>\n",
       "      <td>-6.436450e-01</td>\n",
       "      <td>-106.944340</td>\n",
       "      <td>-7.306875e-01</td>\n",
       "      <td>0.202690</td>\n",
       "    </tr>\n",
       "    <tr>\n",
       "      <th>50%</th>\n",
       "      <td>39.300000</td>\n",
       "      <td>1.219966e-01</td>\n",
       "      <td>1.219966e-01</td>\n",
       "      <td>-87.845800</td>\n",
       "      <td>3.388739e-01</td>\n",
       "      <td>0.278408</td>\n",
       "    </tr>\n",
       "    <tr>\n",
       "      <th>75%</th>\n",
       "      <td>42.382100</td>\n",
       "      <td>6.607601e-01</td>\n",
       "      <td>6.607601e-01</td>\n",
       "      <td>-80.678711</td>\n",
       "      <td>7.402470e-01</td>\n",
       "      <td>0.306822</td>\n",
       "    </tr>\n",
       "    <tr>\n",
       "      <th>max</th>\n",
       "      <td>64.947500</td>\n",
       "      <td>4.605283e+00</td>\n",
       "      <td>4.605283e+00</td>\n",
       "      <td>94.163200</td>\n",
       "      <td>1.053179e+01</td>\n",
       "      <td>1.000000</td>\n",
       "    </tr>\n",
       "  </tbody>\n",
       "</table>\n",
       "</div>"
      ],
      "text/plain": [
       "               lat       lat_std        lat_mm         long      long_std  \\\n",
       "count  9619.000000  9.619000e+03  9.619000e+03  9619.000000  9.619000e+03   \n",
       "mean     38.602095  3.250754e-14  2.108662e-16   -93.896875 -1.265151e-15   \n",
       "std       5.720989  1.000052e+00  1.000052e+00    17.857352  1.000052e+00   \n",
       "min      19.541726 -3.331829e+00 -3.331829e+00  -158.069300 -3.593801e+00   \n",
       "25%      34.920000 -6.436450e-01 -6.436450e-01  -106.944340 -7.306875e-01   \n",
       "50%      39.300000  1.219966e-01  1.219966e-01   -87.845800  3.388739e-01   \n",
       "75%      42.382100  6.607601e-01  6.607601e-01   -80.678711  7.402470e-01   \n",
       "max      64.947500  4.605283e+00  4.605283e+00    94.163200  1.053179e+01   \n",
       "\n",
       "           long_mm  \n",
       "count  9619.000000  \n",
       "mean      0.254418  \n",
       "std       0.070797  \n",
       "min       0.000000  \n",
       "25%       0.202690  \n",
       "50%       0.278408  \n",
       "75%       0.306822  \n",
       "max       1.000000  "
      ]
     },
     "execution_count": 39,
     "metadata": {},
     "output_type": "execute_result"
    }
   ],
   "source": [
    "# Ваш код здесь\n",
    "df_lat.describe()"
   ]
  },
  {
   "cell_type": "markdown",
   "id": "efac5751",
   "metadata": {
    "id": "efac5751"
   },
   "source": [
    "6. Выведите матрицу корреляций для всех географических признаков, чтобы убедиться, что нормализация признаков сохранила свойства исходных признаков."
   ]
  },
  {
   "cell_type": "code",
   "execution_count": 40,
   "id": "10bcd5c8",
   "metadata": {
    "ExecuteTime": {
     "end_time": "2022-03-15T22:40:47.841822Z",
     "start_time": "2022-03-15T22:40:47.835737Z"
    },
    "id": "10bcd5c8"
   },
   "outputs": [
    {
     "data": {
      "text/html": [
       "<div>\n",
       "<style scoped>\n",
       "    .dataframe tbody tr th:only-of-type {\n",
       "        vertical-align: middle;\n",
       "    }\n",
       "\n",
       "    .dataframe tbody tr th {\n",
       "        vertical-align: top;\n",
       "    }\n",
       "\n",
       "    .dataframe thead th {\n",
       "        text-align: right;\n",
       "    }\n",
       "</style>\n",
       "<table border=\"1\" class=\"dataframe\">\n",
       "  <thead>\n",
       "    <tr style=\"text-align: right;\">\n",
       "      <th></th>\n",
       "      <th>lat</th>\n",
       "      <th>lat_std</th>\n",
       "      <th>lat_mm</th>\n",
       "      <th>long</th>\n",
       "      <th>long_std</th>\n",
       "      <th>long_mm</th>\n",
       "    </tr>\n",
       "  </thead>\n",
       "  <tbody>\n",
       "    <tr>\n",
       "      <th>lat</th>\n",
       "      <td>1.000000</td>\n",
       "      <td>1.000000</td>\n",
       "      <td>1.000000</td>\n",
       "      <td>-0.134596</td>\n",
       "      <td>-0.134596</td>\n",
       "      <td>-0.134596</td>\n",
       "    </tr>\n",
       "    <tr>\n",
       "      <th>lat_std</th>\n",
       "      <td>1.000000</td>\n",
       "      <td>1.000000</td>\n",
       "      <td>1.000000</td>\n",
       "      <td>-0.134596</td>\n",
       "      <td>-0.134596</td>\n",
       "      <td>-0.134596</td>\n",
       "    </tr>\n",
       "    <tr>\n",
       "      <th>lat_mm</th>\n",
       "      <td>1.000000</td>\n",
       "      <td>1.000000</td>\n",
       "      <td>1.000000</td>\n",
       "      <td>-0.134596</td>\n",
       "      <td>-0.134596</td>\n",
       "      <td>-0.134596</td>\n",
       "    </tr>\n",
       "    <tr>\n",
       "      <th>long</th>\n",
       "      <td>-0.134596</td>\n",
       "      <td>-0.134596</td>\n",
       "      <td>-0.134596</td>\n",
       "      <td>1.000000</td>\n",
       "      <td>1.000000</td>\n",
       "      <td>1.000000</td>\n",
       "    </tr>\n",
       "    <tr>\n",
       "      <th>long_std</th>\n",
       "      <td>-0.134596</td>\n",
       "      <td>-0.134596</td>\n",
       "      <td>-0.134596</td>\n",
       "      <td>1.000000</td>\n",
       "      <td>1.000000</td>\n",
       "      <td>1.000000</td>\n",
       "    </tr>\n",
       "    <tr>\n",
       "      <th>long_mm</th>\n",
       "      <td>-0.134596</td>\n",
       "      <td>-0.134596</td>\n",
       "      <td>-0.134596</td>\n",
       "      <td>1.000000</td>\n",
       "      <td>1.000000</td>\n",
       "      <td>1.000000</td>\n",
       "    </tr>\n",
       "  </tbody>\n",
       "</table>\n",
       "</div>"
      ],
      "text/plain": [
       "               lat   lat_std    lat_mm      long  long_std   long_mm\n",
       "lat       1.000000  1.000000  1.000000 -0.134596 -0.134596 -0.134596\n",
       "lat_std   1.000000  1.000000  1.000000 -0.134596 -0.134596 -0.134596\n",
       "lat_mm    1.000000  1.000000  1.000000 -0.134596 -0.134596 -0.134596\n",
       "long     -0.134596 -0.134596 -0.134596  1.000000  1.000000  1.000000\n",
       "long_std -0.134596 -0.134596 -0.134596  1.000000  1.000000  1.000000\n",
       "long_mm  -0.134596 -0.134596 -0.134596  1.000000  1.000000  1.000000"
      ]
     },
     "execution_count": 40,
     "metadata": {},
     "output_type": "execute_result"
    }
   ],
   "source": [
    "# Ваш код здесь\n",
    "df_lat.corr()"
   ]
  },
  {
   "cell_type": "markdown",
   "id": "f87792e8",
   "metadata": {
    "ExecuteTime": {
     "end_time": "2022-03-13T12:00:09.641795Z",
     "start_time": "2022-03-13T12:00:09.636474Z"
    },
    "id": "f87792e8"
   },
   "source": [
    "### Задача 5. Признаки на основе дат\n",
    "\n",
    "1. Выведите по отдельности колонки `posting_date` и `date`. "
   ]
  },
  {
   "cell_type": "code",
   "execution_count": 42,
   "id": "1cf0cc30",
   "metadata": {
    "ExecuteTime": {
     "end_time": "2022-03-15T22:40:48.879395Z",
     "start_time": "2022-03-15T22:40:48.875098Z"
    },
    "id": "1cf0cc30"
   },
   "outputs": [
    {
     "name": "stdout",
     "output_type": "stream",
     "text": [
      "0       2021-04-17T12:30:50-0400\n",
      "1       2021-05-03T15:40:21-0400\n",
      "2       2021-04-28T03:52:20-0700\n",
      "3       2021-04-17T10:08:57-0400\n",
      "4       2021-04-08T15:10:56-0400\n",
      "                  ...           \n",
      "9614    2021-04-10T16:33:57-0400\n",
      "9615    2021-05-03T09:36:30-0400\n",
      "9616    2021-04-22T12:14:01-0700\n",
      "9617    2021-04-14T09:14:42-0500\n",
      "9618    2021-04-24T13:50:49-0400\n",
      "Name: posting_date, Length: 9619, dtype: object 0       2021-04-17 16:30:50+00:00\n",
      "1       2021-05-03 19:40:21+00:00\n",
      "2       2021-04-28 10:52:20+00:00\n",
      "3       2021-04-17 14:08:57+00:00\n",
      "4       2021-04-08 19:10:56+00:00\n",
      "                  ...            \n",
      "9614    2021-04-10 20:33:57+00:00\n",
      "9615    2021-05-03 13:36:30+00:00\n",
      "9616    2021-04-22 19:14:01+00:00\n",
      "9617    2021-04-14 14:14:42+00:00\n",
      "9618    2021-04-24 17:50:49+00:00\n",
      "Name: date, Length: 9619, dtype: object\n"
     ]
    }
   ],
   "source": [
    "# Ваш код здесь\n",
    "print(df['posting_date'],df.date)"
   ]
  },
  {
   "cell_type": "markdown",
   "id": "a154545f",
   "metadata": {
    "id": "a154545f"
   },
   "source": [
    "2. Ранее преобразованная колонка `date` после сохранения в файл и загрузки из него содержит данные в строковом формате, поэтому измените её тип c помощью `pd.to_datetime`."
   ]
  },
  {
   "cell_type": "code",
   "execution_count": 44,
   "id": "a196635b",
   "metadata": {
    "ExecuteTime": {
     "end_time": "2022-03-15T22:49:02.356258Z",
     "start_time": "2022-03-15T22:49:02.315893Z"
    },
    "id": "a196635b"
   },
   "outputs": [],
   "source": [
    "# Ваш код здесь\n",
    "df.date=pd.to_datetime(df.date)"
   ]
  },
  {
   "cell_type": "markdown",
   "id": "c9b3e6f1",
   "metadata": {
    "id": "c9b3e6f1"
   },
   "source": [
    "3. Несколькими способами извлеките номер месяца продажи автомобиля.\n",
    "\n",
    "3.1. Из переменной `posting_date` с помощью lambda-функции и операций над строками."
   ]
  },
  {
   "cell_type": "code",
   "execution_count": 46,
   "id": "7fb35f85",
   "metadata": {
    "ExecuteTime": {
     "end_time": "2022-03-15T22:40:51.380851Z",
     "start_time": "2022-03-15T22:40:51.369103Z"
    },
    "id": "7fb35f85"
   },
   "outputs": [
    {
     "data": {
      "text/plain": [
       "0       04\n",
       "1       05\n",
       "2       04\n",
       "3       04\n",
       "4       04\n",
       "        ..\n",
       "9614    04\n",
       "9615    05\n",
       "9616    04\n",
       "9617    04\n",
       "9618    04\n",
       "Name: posting_date, Length: 9619, dtype: object"
      ]
     },
     "execution_count": 46,
     "metadata": {},
     "output_type": "execute_result"
    }
   ],
   "source": [
    "# Ваш код здесь\n",
    "df['posting_date'].apply(lambda x: x[5:7])\n"
   ]
  },
  {
   "cell_type": "code",
   "execution_count": 51,
   "id": "bd1b1b6c",
   "metadata": {},
   "outputs": [
    {
     "data": {
      "text/plain": [
       "0       04\n",
       "1       05\n",
       "2       04\n",
       "3       04\n",
       "4       04\n",
       "        ..\n",
       "9614    04\n",
       "9615    05\n",
       "9616    04\n",
       "9617    04\n",
       "9618    04\n",
       "Name: posting_date, Length: 9619, dtype: object"
      ]
     },
     "execution_count": 51,
     "metadata": {},
     "output_type": "execute_result"
    }
   ],
   "source": [
    "df.posting_date.apply(lambda x : x.split('-')[1])"
   ]
  },
  {
   "cell_type": "markdown",
   "id": "3218fd7e",
   "metadata": {
    "id": "3218fd7e"
   },
   "source": [
    "3.2. Из переменной `date` с помощью lambda-функции и метода `month`."
   ]
  },
  {
   "cell_type": "code",
   "execution_count": 52,
   "id": "4fd839cb",
   "metadata": {
    "ExecuteTime": {
     "end_time": "2022-03-15T22:40:54.064285Z",
     "start_time": "2022-03-15T22:40:54.057551Z"
    },
    "id": "4fd839cb"
   },
   "outputs": [
    {
     "data": {
      "text/plain": [
       "0       4\n",
       "1       5\n",
       "2       4\n",
       "3       4\n",
       "4       4\n",
       "       ..\n",
       "9614    4\n",
       "9615    5\n",
       "9616    4\n",
       "9617    4\n",
       "9618    4\n",
       "Name: date, Length: 9619, dtype: int64"
      ]
     },
     "execution_count": 52,
     "metadata": {},
     "output_type": "execute_result"
    }
   ],
   "source": [
    "# Ваш код зде\n",
    "df['date'].apply(lambda x: x.month)"
   ]
  },
  {
   "cell_type": "markdown",
   "id": "4000edd6",
   "metadata": {
    "ExecuteTime": {
     "end_time": "2022-03-13T12:25:21.228094Z",
     "start_time": "2022-03-13T12:25:21.223060Z"
    },
    "id": "4000edd6"
   },
   "source": [
    "3.3. Из переменной `date` с помощью `dt` и метода `month`."
   ]
  },
  {
   "cell_type": "code",
   "execution_count": 53,
   "id": "b4112009",
   "metadata": {
    "ExecuteTime": {
     "end_time": "2022-03-15T22:40:55.768506Z",
     "start_time": "2022-03-15T22:40:55.764567Z"
    },
    "id": "b4112009"
   },
   "outputs": [
    {
     "data": {
      "text/plain": [
       "0       4\n",
       "1       5\n",
       "2       4\n",
       "3       4\n",
       "4       4\n",
       "       ..\n",
       "9614    4\n",
       "9615    5\n",
       "9616    4\n",
       "9617    4\n",
       "9618    4\n",
       "Name: date, Length: 9619, dtype: int64"
      ]
     },
     "execution_count": 53,
     "metadata": {},
     "output_type": "execute_result"
    }
   ],
   "source": [
    "# Ваш код здесь\n",
    "df['date'].dt.month"
   ]
  },
  {
   "cell_type": "markdown",
   "id": "4c79c093",
   "metadata": {
    "id": "4c79c093"
   },
   "source": [
    "4. Создайте любым из способов (3.2 или 3.3) признак `month`, обозначающий номер месяца размещения объявления о продаже автомобиля, и распечатайте его."
   ]
  },
  {
   "cell_type": "code",
   "execution_count": 55,
   "id": "a6f217a1",
   "metadata": {
    "ExecuteTime": {
     "end_time": "2022-03-15T22:40:55.808808Z",
     "start_time": "2022-03-15T22:40:55.801804Z"
    },
    "id": "a6f217a1"
   },
   "outputs": [
    {
     "data": {
      "text/plain": [
       "0       4\n",
       "1       5\n",
       "2       4\n",
       "3       4\n",
       "4       4\n",
       "       ..\n",
       "9614    4\n",
       "9615    5\n",
       "9616    4\n",
       "9617    4\n",
       "9618    4\n",
       "Name: month, Length: 9619, dtype: int64"
      ]
     },
     "execution_count": 55,
     "metadata": {},
     "output_type": "execute_result"
    }
   ],
   "source": [
    "# Ваш код здесь\n",
    "df['month']= df['date'].apply(lambda x: x.month)\n",
    "df.month"
   ]
  },
  {
   "cell_type": "markdown",
   "id": "c855e481",
   "metadata": {
    "id": "c855e481"
   },
   "source": [
    "5. Создайте признак `dayofweek`, обозначающий день недели размещения объявления о продаже автомобиля, и распечатайте его."
   ]
  },
  {
   "cell_type": "code",
   "execution_count": 56,
   "id": "ceda59b0",
   "metadata": {
    "ExecuteTime": {
     "end_time": "2022-03-15T22:40:55.838752Z",
     "start_time": "2022-03-15T22:40:55.833582Z"
    },
    "id": "ceda59b0"
   },
   "outputs": [
    {
     "data": {
      "text/plain": [
       "0       17\n",
       "1        3\n",
       "2       28\n",
       "3       17\n",
       "4        8\n",
       "        ..\n",
       "9614    10\n",
       "9615     3\n",
       "9616    22\n",
       "9617    14\n",
       "9618    24\n",
       "Name: dayofweek, Length: 9619, dtype: int64"
      ]
     },
     "execution_count": 56,
     "metadata": {},
     "output_type": "execute_result"
    }
   ],
   "source": [
    "# Ваш код здесь\n",
    "df['dayofweek']=df['date'].apply(lambda x: x.day)\n",
    "df.dayofweek"
   ]
  },
  {
   "cell_type": "markdown",
   "id": "53253b00",
   "metadata": {
    "id": "53253b00"
   },
   "source": [
    "6. Создайте признак `diff_years`, обозначающий количество лет между годом производства автомобиля и годом размещения объявления о продаже автомобиля, и распечатайте его. Дополнительные корректировки не применяйте."
   ]
  },
  {
   "cell_type": "code",
   "execution_count": 58,
   "id": "c5b0ec88",
   "metadata": {
    "ExecuteTime": {
     "end_time": "2022-03-15T22:40:56.791095Z",
     "start_time": "2022-03-15T22:40:56.787550Z"
    },
    "id": "c5b0ec88",
    "scrolled": true
   },
   "outputs": [
    {
     "data": {
      "text/plain": [
       "0        1\n",
       "1        5\n",
       "2        4\n",
       "3        8\n",
       "4        9\n",
       "        ..\n",
       "9614    19\n",
       "9615    13\n",
       "9616    10\n",
       "9617     6\n",
       "9618     4\n",
       "Name: diff_years, Length: 9619, dtype: int64"
      ]
     },
     "execution_count": 58,
     "metadata": {},
     "output_type": "execute_result"
    }
   ],
   "source": [
    "# Ваш код здесь\n",
    "df['diff_years'] = df['posting_date'].apply(lambda x: x[:4]).astype(str).astype(int) - df.year\n",
    "df['diff_years'] "
   ]
  },
  {
   "cell_type": "markdown",
   "id": "d3a54316",
   "metadata": {
    "id": "d3a54316"
   },
   "source": [
    "7. Примените стандартизацию к новым признаками и сохраните результат в новые признаки вида `month_std`."
   ]
  },
  {
   "cell_type": "code",
   "execution_count": 60,
   "id": "8b2c2e19",
   "metadata": {
    "ExecuteTime": {
     "end_time": "2022-03-15T22:40:57.928930Z",
     "start_time": "2022-03-15T22:40:57.925925Z"
    },
    "id": "8b2c2e19"
   },
   "outputs": [
    {
     "data": {
      "text/html": [
       "<div>\n",
       "<style scoped>\n",
       "    .dataframe tbody tr th:only-of-type {\n",
       "        vertical-align: middle;\n",
       "    }\n",
       "\n",
       "    .dataframe tbody tr th {\n",
       "        vertical-align: top;\n",
       "    }\n",
       "\n",
       "    .dataframe thead th {\n",
       "        text-align: right;\n",
       "    }\n",
       "</style>\n",
       "<table border=\"1\" class=\"dataframe\">\n",
       "  <thead>\n",
       "    <tr style=\"text-align: right;\">\n",
       "      <th></th>\n",
       "      <th>month_std</th>\n",
       "      <th>diff_years_std</th>\n",
       "    </tr>\n",
       "  </thead>\n",
       "  <tbody>\n",
       "    <tr>\n",
       "      <th>0</th>\n",
       "      <td>-0.615846</td>\n",
       "      <td>-1.322394</td>\n",
       "    </tr>\n",
       "    <tr>\n",
       "      <th>1</th>\n",
       "      <td>1.623784</td>\n",
       "      <td>-0.695973</td>\n",
       "    </tr>\n",
       "    <tr>\n",
       "      <th>2</th>\n",
       "      <td>-0.615846</td>\n",
       "      <td>-0.852578</td>\n",
       "    </tr>\n",
       "    <tr>\n",
       "      <th>3</th>\n",
       "      <td>-0.615846</td>\n",
       "      <td>-0.226157</td>\n",
       "    </tr>\n",
       "    <tr>\n",
       "      <th>4</th>\n",
       "      <td>-0.615846</td>\n",
       "      <td>-0.069552</td>\n",
       "    </tr>\n",
       "    <tr>\n",
       "      <th>...</th>\n",
       "      <td>...</td>\n",
       "      <td>...</td>\n",
       "    </tr>\n",
       "    <tr>\n",
       "      <th>9614</th>\n",
       "      <td>-0.615846</td>\n",
       "      <td>1.496501</td>\n",
       "    </tr>\n",
       "    <tr>\n",
       "      <th>9615</th>\n",
       "      <td>1.623784</td>\n",
       "      <td>0.556869</td>\n",
       "    </tr>\n",
       "    <tr>\n",
       "      <th>9616</th>\n",
       "      <td>-0.615846</td>\n",
       "      <td>0.087054</td>\n",
       "    </tr>\n",
       "    <tr>\n",
       "      <th>9617</th>\n",
       "      <td>-0.615846</td>\n",
       "      <td>-0.539367</td>\n",
       "    </tr>\n",
       "    <tr>\n",
       "      <th>9618</th>\n",
       "      <td>-0.615846</td>\n",
       "      <td>-0.852578</td>\n",
       "    </tr>\n",
       "  </tbody>\n",
       "</table>\n",
       "<p>9619 rows × 2 columns</p>\n",
       "</div>"
      ],
      "text/plain": [
       "      month_std  diff_years_std\n",
       "0     -0.615846       -1.322394\n",
       "1      1.623784       -0.695973\n",
       "2     -0.615846       -0.852578\n",
       "3     -0.615846       -0.226157\n",
       "4     -0.615846       -0.069552\n",
       "...         ...             ...\n",
       "9614  -0.615846        1.496501\n",
       "9615   1.623784        0.556869\n",
       "9616  -0.615846        0.087054\n",
       "9617  -0.615846       -0.539367\n",
       "9618  -0.615846       -0.852578\n",
       "\n",
       "[9619 rows x 2 columns]"
      ]
     },
     "execution_count": 60,
     "metadata": {},
     "output_type": "execute_result"
    }
   ],
   "source": [
    "# Ваш код здесь\n",
    "scaler = StandardScaler()\n",
    "df['month_std'] = scaler.fit_transform(df[['month']])\n",
    "df['diff_years_std'] = scaler.fit_transform(df[['diff_years']])\n",
    "\n",
    "(df[['month_std', 'diff_years_std']])    "
   ]
  },
  {
   "cell_type": "markdown",
   "id": "aba80393",
   "metadata": {
    "ExecuteTime": {
     "end_time": "2022-03-13T12:36:22.108423Z",
     "start_time": "2022-03-13T12:36:22.103687Z"
    },
    "id": "aba80393"
   },
   "source": [
    "### Задача 6. Сохранение датафрейма для этапа моделирования\n",
    "\n",
    "1. Удалите колонки, которые были исходными для формирования признаков, а также новые признаки, которые были добавлены с целью обучения.  Сохраните новый датафрейм в переменную `df_prepared`."
   ]
  },
  {
   "cell_type": "code",
   "execution_count": 68,
   "id": "58ab4836",
   "metadata": {
    "ExecuteTime": {
     "end_time": "2022-03-15T22:41:00.072365Z",
     "start_time": "2022-03-15T22:41:00.064841Z"
    },
    "id": "58ab4836"
   },
   "outputs": [],
   "source": [
    "# Допишите код\n",
    "df1=df\n",
    "df_prepared=df1.drop(['year', 'url', 'region', 'region_url', 'manufacturer',\n",
    "                    'model', 'fuel', 'odometer', 'title_status', 'transmission',\n",
    "                    'image_url', 'description', 'state', 'lat', 'long', 'posting_date',\n",
    "                    'odometer_km', 'odometer/price', 'region_new', 'region_corrected', 'manufacturer_model',\n",
    "                    'desc_len', 'model_in_desc', 'price_k$', 'age_category', 'model_len', 'model_word_count',\n",
    "                    'short_model', 'lat_mm', 'long_mm', 'date', 'std_scaled_price',\n",
    "                    'month', 'dayofweek', 'diff_years',\n",
    "                    'odometer/price_std'], axis=1)\n",
    "columns_for_drop = ['year', 'url', 'region', 'region_url', 'manufacturer',\n",
    "                    'model', 'fuel', 'odometer', 'title_status', 'transmission',\n",
    "                    'image_url', 'description', 'state', 'lat', 'long', 'posting_date',\n",
    "                    'odometer_km', 'odometer/price', 'region_new', 'region_corrected', 'manufacturer_model',\n",
    "                    'desc_len', 'model_in_desc', 'price_k$', 'age_category', 'model_len', 'model_word_count',\n",
    "                    'short_model', 'lat_mm', 'long_mm', 'date', 'std_scaled_price',\n",
    "                    'month', 'dayofweek', 'diff_years',\n",
    "                    'odometer/price_std']\n"
   ]
  },
  {
   "cell_type": "markdown",
   "id": "f120eaaa",
   "metadata": {
    "id": "f120eaaa"
   },
   "source": [
    "2. Распечатайте оставшийся список колонок и размерность финального датафрейма."
   ]
  },
  {
   "cell_type": "code",
   "execution_count": 73,
   "id": "13fb36c3",
   "metadata": {
    "ExecuteTime": {
     "end_time": "2022-03-15T22:41:03.176389Z",
     "start_time": "2022-03-15T22:41:03.172474Z"
    },
    "id": "13fb36c3"
   },
   "outputs": [
    {
     "data": {
      "text/plain": [
       "Index(['id', 'price', 'price_category', 'is_audi', 'is_ford', 'is_chevrolet',\n",
       "       'is_toyota', 'is_jeep', 'is_honda', 'is_nissan',\n",
       "       ...\n",
       "       'lat_std', 'long_std', 'year_std', 'desc_len_std', 'model_in_desc_std',\n",
       "       'model_len_std', 'model_word_count_std', 'log_mm', 'month_std',\n",
       "       'diff_years_std'],\n",
       "      dtype='object', length=1471)"
      ]
     },
     "execution_count": 73,
     "metadata": {},
     "output_type": "execute_result"
    }
   ],
   "source": [
    "# Ваш код здесь\n",
    "df_prepared.shape\n",
    "df_prepared.columns\n"
   ]
  },
  {
   "cell_type": "code",
   "execution_count": 74,
   "id": "7202db38",
   "metadata": {},
   "outputs": [
    {
     "data": {
      "text/plain": [
       "(9619, 1471)"
      ]
     },
     "execution_count": 74,
     "metadata": {},
     "output_type": "execute_result"
    }
   ],
   "source": [
    "df_prepared.shape"
   ]
  },
  {
   "cell_type": "markdown",
   "id": "b62690ff",
   "metadata": {
    "id": "b62690ff"
   },
   "source": [
    "3. Запишите преобразованный датафрейм в файл `data/vehicles_dataset_prepared.csv`, индекс не сохраняйте."
   ]
  },
  {
   "cell_type": "code",
   "execution_count": 75,
   "id": "955e76dd",
   "metadata": {
    "ExecuteTime": {
     "end_time": "2022-03-15T22:41:08.021538Z",
     "start_time": "2022-03-15T22:41:08.016555Z"
    },
    "id": "955e76dd"
   },
   "outputs": [],
   "source": [
    "# Ваш код здесь\n",
    "df.to_csv(r'C:\\Users\\user\\vehicles_dataset_upd.csv', index=False)"
   ]
  },
  {
   "cell_type": "markdown",
   "id": "6e4960b4",
   "metadata": {
    "id": "6e4960b4"
   },
   "source": [
    "## Описание преобразованного датасета:\n",
    "- `id`— идентификатор записи;\n",
    "- `is_manufacturer_name`— признак производителя автомобиля;\n",
    "\n",
    "- `region_*`— регион;\n",
    "- `x0_*`— тип топлива;\n",
    "- `manufacturer_*`— производитель;\n",
    "- `short_model_*`— сокращённая модель автомобиля;\n",
    "- `title_status_*`— статус;\n",
    "- `transmission_*`— коробка передач;\n",
    "- `state_*`— штат;\n",
    "- `age_category_*`— возрастная категория автомобиля;\n",
    "\n",
    "- `std_scaled_odometer`— количество пройденных миль (после стандартизации);\n",
    "- `year_std`— год выпуска (после стандартизации);\n",
    "- `lat_std`— широта (после стандартизации);\n",
    "- `long_std`— долгота (после стандартизации);\n",
    "- `odometer/price_std`— отношение стоимости к пробегу автомобиля (после стандартизации);\n",
    "- `desc_len_std`— количество символов в тексте объявления о продаже (после стандартизации);\n",
    "- `model_in_desc_std`— количество наименований модели автомобиля в тексте объявления о продаже (после стандартизации);\n",
    "- `model_len_std`— длина наименования автомобиля (после стандартизации);\n",
    "- `model_word_count_std`— количество слов в наименовании автомобиля (после стандартизации);\n",
    "- `month_std`— номер месяца размещения объявления о продаже автомобиля (после стандартизации);\n",
    "- `dayofweek_std`— день недели размещения объявления о продаже автомобиля (после стандартизации);\n",
    "- `diff_years_std`— количество лет между годом производства автомобиля и годом размещения объявления о продаже автомобиля (после стандартизации);\n",
    "\n",
    "- `price`— стоимость;\n",
    "- `price_category`– категория цены."
   ]
  }
 ],
 "metadata": {
  "colab": {
   "collapsed_sections": [],
   "provenance": []
  },
  "kernelspec": {
   "display_name": "Python 3 (ipykernel)",
   "language": "python",
   "name": "python3"
  },
  "language_info": {
   "codemirror_mode": {
    "name": "ipython",
    "version": 3
   },
   "file_extension": ".py",
   "mimetype": "text/x-python",
   "name": "python",
   "nbconvert_exporter": "python",
   "pygments_lexer": "ipython3",
   "version": "3.9.13"
  },
  "toc": {
   "base_numbering": 1,
   "nav_menu": {},
   "number_sections": true,
   "sideBar": true,
   "skip_h1_title": false,
   "title_cell": "Table of Contents",
   "title_sidebar": "Contents",
   "toc_cell": false,
   "toc_position": {},
   "toc_section_display": true,
   "toc_window_display": false
  }
 },
 "nbformat": 4,
 "nbformat_minor": 5
}
