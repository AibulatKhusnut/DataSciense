{
 "cells": [
  {
   "cell_type": "markdown",
   "metadata": {
    "id": "4tc7YC6O8Ev1"
   },
   "source": [
    "## Практическая работа"
   ]
  },
  {
   "cell_type": "markdown",
   "metadata": {
    "id": "vSt7qQM58QEB"
   },
   "source": [
    "В этой практической работе пять обязательных задач.\n",
    "\n",
    "*Обязательные задачи* помогут проверить, что вы действительно усвоили материал модуля. Сдайте их на проверку.\n",
    "\n",
    "Удачи!"
   ]
  },
  {
   "cell_type": "markdown",
   "metadata": {
    "id": "WwzP6BdQ8jbE"
   },
   "source": [
    "Цели практической работы: \n",
    "\n",
    "\n",
    "1.   Потренироваться в обучении модели линейной регрессии.\n",
    "2.   Потренироваться в обучении модели логистической регрессии. \n",
    "3.   Потренироваться в обучении модели многослойного персептрона.\n",
    "\n",
    "\n",
    "\n"
   ]
  },
  {
   "cell_type": "markdown",
   "metadata": {
    "id": "fGPUx8Nh8l0F"
   },
   "source": [
    "Что оценивается:\n",
    "\n",
    "*   Все пункты и критерии приёмки по каждому заданию выполнены.\n",
    "*   Код оформлен и работает корректно.\n",
    "\n",
    "\n",
    "\n"
   ]
  },
  {
   "cell_type": "markdown",
   "metadata": {
    "id": "IP-cDDXr-WD0"
   },
   "source": [
    "Как отправить работу на проверку:\n",
    "\n",
    "Сдайте практическую работу этого модуля через систему контроля версий Git сервиса Skillbox GitLab. После загрузки работы на проверку напишите об этом в личном кабинете своему куратору."
   ]
  },
  {
   "cell_type": "markdown",
   "metadata": {
    "id": "dH3j5hM1qCUw"
   },
   "source": [
    "В этом задании вам нужно построить модель классификации, определяющую категорию цены/цену подержанного автомобиля в зависимости от характеристик транспортного средства. \n",
    "\n",
    "Мы будем использовать датасет из коллекции подержанных автомобилей, выставленных на продажу в Соединенных Штатах. Он уже подготовлен, без выбросов и с категориальными фичами, преобразованными с помощью one hot encoding, и количественными фичами, стандартизированными с помощью скейлеров.\n"
   ]
  },
  {
   "cell_type": "markdown",
   "metadata": {
    "id": "jKgw4zyS8uOJ"
   },
   "source": [
    "### Описание датасета:\n",
    "- `id`: идентификатор записи;\n",
    "- `is_manufacturer_name`: признак производителя автомобиля;\n",
    "\n",
    "- `region_*`: регион;\n",
    "- `x0_*`: тип топлива;\n",
    "- `manufacturer_*`: производитель;\n",
    "- `short_model_*`: сокращённая модель автомобиля;\n",
    "- `title_status_*`: статус;\n",
    "- `transmission_*`: коробка передач;\n",
    "- `state_*`: штат;\n",
    "- `age_category_*`: возрастная категория автомобиля;\n",
    "\n",
    "- `std_scaled_odometer`: количество пройденных миль (после стандартизации);\n",
    "- `year_std`: год выпуска (после стандартизации);\n",
    "- `lat_std`: широта (после стандартизации);\n",
    "- `long_std`: долгота (после стандартизации);\n",
    "- `odometer/price_std`: отношение стоимости к пробегу автомобиля (после стандартизации);\n",
    "- `desc_len_std`: количество символов в тексте объявления о продаже (после стандартизации);\n",
    "- `model_in_desc_std`: количество наименований модели автомобиля в тексте объявления о продаже (после стандартизации);\n",
    "- `model_len_std`: длина наименования автомобиля (после стандартизации);\n",
    "- `model_word_count_std`: количество слов в наименовании автомобиля (после стандартизации);\n",
    "- `month_std`: номер месяца размещения объявления о продаже автомобиля (после стандартизации);\n",
    "- `dayofweek_std`: день недели размещения объявления о продаже автомобиля (после стандартизации);\n",
    "- `diff_years_std`: количество лет между годом производства автомобиля и годом размещения объявления о продаже автомобиля (после стандартизации);\n",
    "\n",
    "- `price`: стоимость;\n",
    "- `price_category`: категория цены."
   ]
  },
  {
   "cell_type": "markdown",
   "metadata": {
    "id": "f8cwJq0l8oyM"
   },
   "source": [
    "## Обязательные задачи"
   ]
  },
  {
   "cell_type": "code",
   "execution_count": 35,
   "metadata": {
    "id": "k-oAmtZi9R8U"
   },
   "outputs": [],
   "source": [
    "import matplotlib.pyplot as plt\n",
    "import pandas as pd\n",
    "\n",
    "from sklearn.linear_model import LogisticRegression, LinearRegression\n",
    "from sklearn.metrics import accuracy_score, confusion_matrix, mean_absolute_error\n",
    "from sklearn.model_selection import train_test_split \n",
    "from sklearn.neural_network import MLPClassifier"
   ]
  },
  {
   "cell_type": "code",
   "execution_count": 36,
   "metadata": {
    "colab": {
     "base_uri": "https://localhost:8080/",
     "height": 299
    },
    "id": "a4gi-XV1Jkwc",
    "outputId": "3ba30067-9c82-4b3b-aec1-80b22491ba33"
   },
   "outputs": [
    {
     "data": {
      "text/html": [
       "<div>\n",
       "<style scoped>\n",
       "    .dataframe tbody tr th:only-of-type {\n",
       "        vertical-align: middle;\n",
       "    }\n",
       "\n",
       "    .dataframe tbody tr th {\n",
       "        vertical-align: top;\n",
       "    }\n",
       "\n",
       "    .dataframe thead th {\n",
       "        text-align: right;\n",
       "    }\n",
       "</style>\n",
       "<table border=\"1\" class=\"dataframe\">\n",
       "  <thead>\n",
       "    <tr style=\"text-align: right;\">\n",
       "      <th></th>\n",
       "      <th>id</th>\n",
       "      <th>price</th>\n",
       "      <th>price_category</th>\n",
       "      <th>is_audi</th>\n",
       "      <th>is_ford</th>\n",
       "      <th>is_chevrolet</th>\n",
       "      <th>is_toyota</th>\n",
       "      <th>x0_diesel</th>\n",
       "      <th>x0_electric</th>\n",
       "      <th>x0_gas</th>\n",
       "      <th>...</th>\n",
       "      <th>long_std</th>\n",
       "      <th>year_std</th>\n",
       "      <th>odometer/price_std</th>\n",
       "      <th>desc_len_std</th>\n",
       "      <th>model_in_desc_std</th>\n",
       "      <th>model_len_std</th>\n",
       "      <th>model_word_count_std</th>\n",
       "      <th>month_std</th>\n",
       "      <th>dayofweek_std</th>\n",
       "      <th>diff_years_std</th>\n",
       "    </tr>\n",
       "  </thead>\n",
       "  <tbody>\n",
       "    <tr>\n",
       "      <th>0</th>\n",
       "      <td>7308295377</td>\n",
       "      <td>54990</td>\n",
       "      <td>high</td>\n",
       "      <td>0</td>\n",
       "      <td>0</td>\n",
       "      <td>0</td>\n",
       "      <td>0</td>\n",
       "      <td>1.0</td>\n",
       "      <td>0.0</td>\n",
       "      <td>0.0</td>\n",
       "      <td>...</td>\n",
       "      <td>0.484245</td>\n",
       "      <td>1.322394</td>\n",
       "      <td>-0.510784</td>\n",
       "      <td>0.632075</td>\n",
       "      <td>-0.155788</td>\n",
       "      <td>1.163032</td>\n",
       "      <td>1.910669</td>\n",
       "      <td>-0.615846</td>\n",
       "      <td>1.120284</td>\n",
       "      <td>-1.322394</td>\n",
       "    </tr>\n",
       "    <tr>\n",
       "      <th>1</th>\n",
       "      <td>7316380095</td>\n",
       "      <td>16942</td>\n",
       "      <td>medium</td>\n",
       "      <td>0</td>\n",
       "      <td>1</td>\n",
       "      <td>0</td>\n",
       "      <td>0</td>\n",
       "      <td>0.0</td>\n",
       "      <td>0.0</td>\n",
       "      <td>0.0</td>\n",
       "      <td>...</td>\n",
       "      <td>1.110800</td>\n",
       "      <td>0.695973</td>\n",
       "      <td>-0.402947</td>\n",
       "      <td>-0.646781</td>\n",
       "      <td>-0.155788</td>\n",
       "      <td>0.932087</td>\n",
       "      <td>1.235799</td>\n",
       "      <td>1.623784</td>\n",
       "      <td>-1.374972</td>\n",
       "      <td>-0.695973</td>\n",
       "    </tr>\n",
       "    <tr>\n",
       "      <th>2</th>\n",
       "      <td>7313733749</td>\n",
       "      <td>35590</td>\n",
       "      <td>high</td>\n",
       "      <td>0</td>\n",
       "      <td>0</td>\n",
       "      <td>0</td>\n",
       "      <td>0</td>\n",
       "      <td>0.0</td>\n",
       "      <td>0.0</td>\n",
       "      <td>1.0</td>\n",
       "      <td>...</td>\n",
       "      <td>0.531185</td>\n",
       "      <td>0.852578</td>\n",
       "      <td>-0.514480</td>\n",
       "      <td>0.560744</td>\n",
       "      <td>-0.155788</td>\n",
       "      <td>0.470197</td>\n",
       "      <td>0.560930</td>\n",
       "      <td>-0.615846</td>\n",
       "      <td>-0.376870</td>\n",
       "      <td>-0.852578</td>\n",
       "    </tr>\n",
       "    <tr>\n",
       "      <th>3</th>\n",
       "      <td>7308210929</td>\n",
       "      <td>14500</td>\n",
       "      <td>medium</td>\n",
       "      <td>0</td>\n",
       "      <td>0</td>\n",
       "      <td>0</td>\n",
       "      <td>1</td>\n",
       "      <td>0.0</td>\n",
       "      <td>0.0</td>\n",
       "      <td>1.0</td>\n",
       "      <td>...</td>\n",
       "      <td>0.853562</td>\n",
       "      <td>0.226157</td>\n",
       "      <td>-0.241883</td>\n",
       "      <td>0.180435</td>\n",
       "      <td>-0.155788</td>\n",
       "      <td>-0.915473</td>\n",
       "      <td>-0.788810</td>\n",
       "      <td>-0.615846</td>\n",
       "      <td>1.120284</td>\n",
       "      <td>-0.226157</td>\n",
       "    </tr>\n",
       "    <tr>\n",
       "      <th>4</th>\n",
       "      <td>7303797340</td>\n",
       "      <td>14590</td>\n",
       "      <td>medium</td>\n",
       "      <td>0</td>\n",
       "      <td>0</td>\n",
       "      <td>0</td>\n",
       "      <td>0</td>\n",
       "      <td>0.0</td>\n",
       "      <td>0.0</td>\n",
       "      <td>0.0</td>\n",
       "      <td>...</td>\n",
       "      <td>0.557607</td>\n",
       "      <td>0.069552</td>\n",
       "      <td>-0.333074</td>\n",
       "      <td>0.766366</td>\n",
       "      <td>-0.155788</td>\n",
       "      <td>1.163032</td>\n",
       "      <td>1.910669</td>\n",
       "      <td>-0.615846</td>\n",
       "      <td>0.122182</td>\n",
       "      <td>-0.069552</td>\n",
       "    </tr>\n",
       "  </tbody>\n",
       "</table>\n",
       "<p>5 rows × 1463 columns</p>\n",
       "</div>"
      ],
      "text/plain": [
       "           id  price price_category  is_audi  is_ford  is_chevrolet  \\\n",
       "0  7308295377  54990           high        0        0             0   \n",
       "1  7316380095  16942         medium        0        1             0   \n",
       "2  7313733749  35590           high        0        0             0   \n",
       "3  7308210929  14500         medium        0        0             0   \n",
       "4  7303797340  14590         medium        0        0             0   \n",
       "\n",
       "   is_toyota  x0_diesel  x0_electric  x0_gas  ...  long_std  year_std  \\\n",
       "0          0        1.0          0.0     0.0  ...  0.484245  1.322394   \n",
       "1          0        0.0          0.0     0.0  ...  1.110800  0.695973   \n",
       "2          0        0.0          0.0     1.0  ...  0.531185  0.852578   \n",
       "3          1        0.0          0.0     1.0  ...  0.853562  0.226157   \n",
       "4          0        0.0          0.0     0.0  ...  0.557607  0.069552   \n",
       "\n",
       "   odometer/price_std  desc_len_std  model_in_desc_std  model_len_std  \\\n",
       "0           -0.510784      0.632075          -0.155788       1.163032   \n",
       "1           -0.402947     -0.646781          -0.155788       0.932087   \n",
       "2           -0.514480      0.560744          -0.155788       0.470197   \n",
       "3           -0.241883      0.180435          -0.155788      -0.915473   \n",
       "4           -0.333074      0.766366          -0.155788       1.163032   \n",
       "\n",
       "   model_word_count_std  month_std  dayofweek_std  diff_years_std  \n",
       "0              1.910669  -0.615846       1.120284       -1.322394  \n",
       "1              1.235799   1.623784      -1.374972       -0.695973  \n",
       "2              0.560930  -0.615846      -0.376870       -0.852578  \n",
       "3             -0.788810  -0.615846       1.120284       -0.226157  \n",
       "4              1.910669  -0.615846       0.122182       -0.069552  \n",
       "\n",
       "[5 rows x 1463 columns]"
      ]
     },
     "execution_count": 36,
     "metadata": {},
     "output_type": "execute_result"
    }
   ],
   "source": [
    "df = pd.read_csv(r\"C:\\Users\\Администратор\\Downloads\\vehicles_dataset_prepared (2).csv\")\n",
    "df.head()"
   ]
  },
  {
   "cell_type": "markdown",
   "metadata": {
    "id": "VMmY9Xa-JdRj"
   },
   "source": [
    "**Задача 0. Линейная регрессия**\n",
    "\n",
    "Вспомните задачу по предсказанию стоимости поддержанного автомобиля. Попробуем обучить модель линейной регрессии для предсказания цены автомобиля (колонка `price`). Для этого проделайте следующие шаги:\n",
    "\n",
    "- Подготовьте данные: удалите колонки, которые косвенно содержат информацию о целевой переменной (`odometer`, `price_category`).\n",
    "- Разделите выборку на треин и тест в отношении 70/30.\n",
    "- Обучите модель линейной регрессии с дефолтными параметрами.\n",
    "- Посчитайте значение метрики mae на тестовой выборке для линейной регрессии.\n",
    "- Выведите получившиеся коэффициенты линейной регрессии при каждом параметре обучающей выборки с помощью метода `coef_`. Есть ли коэффициенты, которые равны нулю? Если есть, выведите названия фичей с нулевым коэффициентом\n",
    "- Удалите фичи, коэффициенты которых равны нулю. И переобучите модель. Убедитесь, что значение метрики не изменилось.\n",
    "\n"
   ]
  },
  {
   "cell_type": "code",
   "execution_count": 37,
   "metadata": {},
   "outputs": [],
   "source": [
    "df = df.drop(columns=['price_category'], axis=1)"
   ]
  },
  {
   "cell_type": "code",
   "execution_count": 50,
   "metadata": {},
   "outputs": [],
   "source": [
    "df = df.select_dtypes(exclude=['object'])"
   ]
  },
  {
   "cell_type": "code",
   "execution_count": 51,
   "metadata": {},
   "outputs": [],
   "source": [
    "y = df.price\n",
    "x = df.drop(columns=['price'], axis=1)"
   ]
  },
  {
   "cell_type": "code",
   "execution_count": 52,
   "metadata": {
    "id": "i1tH2p0nopsf"
   },
   "outputs": [],
   "source": [
    "x_train, x_test, y_train, y_test = train_test_split(x, y, test_size=0.3, random_state = 42) "
   ]
  },
  {
   "cell_type": "code",
   "execution_count": 53,
   "metadata": {},
   "outputs": [],
   "source": [
    "from sklearn.linear_model import LinearRegression"
   ]
  },
  {
   "cell_type": "code",
   "execution_count": 54,
   "metadata": {},
   "outputs": [],
   "source": [
    "lr = LinearRegression()"
   ]
  },
  {
   "cell_type": "code",
   "execution_count": 55,
   "metadata": {},
   "outputs": [
    {
     "data": {
      "text/html": [
       "<style>#sk-container-id-1 {color: black;}#sk-container-id-1 pre{padding: 0;}#sk-container-id-1 div.sk-toggleable {background-color: white;}#sk-container-id-1 label.sk-toggleable__label {cursor: pointer;display: block;width: 100%;margin-bottom: 0;padding: 0.3em;box-sizing: border-box;text-align: center;}#sk-container-id-1 label.sk-toggleable__label-arrow:before {content: \"▸\";float: left;margin-right: 0.25em;color: #696969;}#sk-container-id-1 label.sk-toggleable__label-arrow:hover:before {color: black;}#sk-container-id-1 div.sk-estimator:hover label.sk-toggleable__label-arrow:before {color: black;}#sk-container-id-1 div.sk-toggleable__content {max-height: 0;max-width: 0;overflow: hidden;text-align: left;background-color: #f0f8ff;}#sk-container-id-1 div.sk-toggleable__content pre {margin: 0.2em;color: black;border-radius: 0.25em;background-color: #f0f8ff;}#sk-container-id-1 input.sk-toggleable__control:checked~div.sk-toggleable__content {max-height: 200px;max-width: 100%;overflow: auto;}#sk-container-id-1 input.sk-toggleable__control:checked~label.sk-toggleable__label-arrow:before {content: \"▾\";}#sk-container-id-1 div.sk-estimator input.sk-toggleable__control:checked~label.sk-toggleable__label {background-color: #d4ebff;}#sk-container-id-1 div.sk-label input.sk-toggleable__control:checked~label.sk-toggleable__label {background-color: #d4ebff;}#sk-container-id-1 input.sk-hidden--visually {border: 0;clip: rect(1px 1px 1px 1px);clip: rect(1px, 1px, 1px, 1px);height: 1px;margin: -1px;overflow: hidden;padding: 0;position: absolute;width: 1px;}#sk-container-id-1 div.sk-estimator {font-family: monospace;background-color: #f0f8ff;border: 1px dotted black;border-radius: 0.25em;box-sizing: border-box;margin-bottom: 0.5em;}#sk-container-id-1 div.sk-estimator:hover {background-color: #d4ebff;}#sk-container-id-1 div.sk-parallel-item::after {content: \"\";width: 100%;border-bottom: 1px solid gray;flex-grow: 1;}#sk-container-id-1 div.sk-label:hover label.sk-toggleable__label {background-color: #d4ebff;}#sk-container-id-1 div.sk-serial::before {content: \"\";position: absolute;border-left: 1px solid gray;box-sizing: border-box;top: 0;bottom: 0;left: 50%;z-index: 0;}#sk-container-id-1 div.sk-serial {display: flex;flex-direction: column;align-items: center;background-color: white;padding-right: 0.2em;padding-left: 0.2em;position: relative;}#sk-container-id-1 div.sk-item {position: relative;z-index: 1;}#sk-container-id-1 div.sk-parallel {display: flex;align-items: stretch;justify-content: center;background-color: white;position: relative;}#sk-container-id-1 div.sk-item::before, #sk-container-id-1 div.sk-parallel-item::before {content: \"\";position: absolute;border-left: 1px solid gray;box-sizing: border-box;top: 0;bottom: 0;left: 50%;z-index: -1;}#sk-container-id-1 div.sk-parallel-item {display: flex;flex-direction: column;z-index: 1;position: relative;background-color: white;}#sk-container-id-1 div.sk-parallel-item:first-child::after {align-self: flex-end;width: 50%;}#sk-container-id-1 div.sk-parallel-item:last-child::after {align-self: flex-start;width: 50%;}#sk-container-id-1 div.sk-parallel-item:only-child::after {width: 0;}#sk-container-id-1 div.sk-dashed-wrapped {border: 1px dashed gray;margin: 0 0.4em 0.5em 0.4em;box-sizing: border-box;padding-bottom: 0.4em;background-color: white;}#sk-container-id-1 div.sk-label label {font-family: monospace;font-weight: bold;display: inline-block;line-height: 1.2em;}#sk-container-id-1 div.sk-label-container {text-align: center;}#sk-container-id-1 div.sk-container {/* jupyter's `normalize.less` sets `[hidden] { display: none; }` but bootstrap.min.css set `[hidden] { display: none !important; }` so we also need the `!important` here to be able to override the default hidden behavior on the sphinx rendered scikit-learn.org. See: https://github.com/scikit-learn/scikit-learn/issues/21755 */display: inline-block !important;position: relative;}#sk-container-id-1 div.sk-text-repr-fallback {display: none;}</style><div id=\"sk-container-id-1\" class=\"sk-top-container\"><div class=\"sk-text-repr-fallback\"><pre>LinearRegression()</pre><b>In a Jupyter environment, please rerun this cell to show the HTML representation or trust the notebook. <br />On GitHub, the HTML representation is unable to render, please try loading this page with nbviewer.org.</b></div><div class=\"sk-container\" hidden><div class=\"sk-item\"><div class=\"sk-estimator sk-toggleable\"><input class=\"sk-toggleable__control sk-hidden--visually\" id=\"sk-estimator-id-1\" type=\"checkbox\" checked><label for=\"sk-estimator-id-1\" class=\"sk-toggleable__label sk-toggleable__label-arrow\">LinearRegression</label><div class=\"sk-toggleable__content\"><pre>LinearRegression()</pre></div></div></div></div></div>"
      ],
      "text/plain": [
       "LinearRegression()"
      ]
     },
     "execution_count": 55,
     "metadata": {},
     "output_type": "execute_result"
    }
   ],
   "source": [
    "lr.fit(x_train, y_train)"
   ]
  },
  {
   "cell_type": "code",
   "execution_count": 56,
   "metadata": {},
   "outputs": [],
   "source": [
    "from sklearn.metrics import mean_absolute_error"
   ]
  },
  {
   "cell_type": "code",
   "execution_count": 57,
   "metadata": {},
   "outputs": [],
   "source": [
    "pred = lr.predict(x_test)"
   ]
  },
  {
   "cell_type": "code",
   "execution_count": 58,
   "metadata": {},
   "outputs": [
    {
     "data": {
      "text/plain": [
       "array([17160.23925164, 15420.78822293, -2944.27356085, ...,\n",
       "        3881.29257928, 25081.23454325,  6481.24179924])"
      ]
     },
     "execution_count": 58,
     "metadata": {},
     "output_type": "execute_result"
    }
   ],
   "source": [
    "pred"
   ]
  },
  {
   "cell_type": "code",
   "execution_count": 59,
   "metadata": {},
   "outputs": [
    {
     "data": {
      "text/plain": [
       "4612.472633571863"
      ]
     },
     "execution_count": 59,
     "metadata": {},
     "output_type": "execute_result"
    }
   ],
   "source": [
    "mean_absolute_error(y_test, pred)"
   ]
  },
  {
   "cell_type": "code",
   "execution_count": 60,
   "metadata": {},
   "outputs": [
    {
     "data": {
      "text/plain": [
       "array([ 5.57600177e-06,  2.72177646e+02,  9.50559507e+02, ...,\n",
       "       -1.19792917e+02,  3.09152523e+01, -2.76722640e+03])"
      ]
     },
     "execution_count": 60,
     "metadata": {},
     "output_type": "execute_result"
    }
   ],
   "source": [
    "lr.coef_"
   ]
  },
  {
   "cell_type": "code",
   "execution_count": 61,
   "metadata": {},
   "outputs": [
    {
     "name": "stdout",
     "output_type": "stream",
     "text": [
      "коэф при колонке is_chevrolet=-255.35411532438957\n",
      "коэф при колонке x0_electric=-2934.84163786089\n",
      "коэф при колонке x0_gas=-1400.0740631924102\n",
      "коэф при колонке x0_hybrid=-668.867872995158\n",
      "коэф при колонке x0_other=-644.2027208738646\n",
      "коэф при колонке std_scaled_odometer=-2985.0800613161928\n",
      "коэф при колонке short_model_-benz=-5766.001784231547\n",
      "коэф при колонке short_model_1=-6937.667015702215\n",
      "коэф при колонке short_model_124=-3.5043718526139855e-05\n",
      "коэф при колонке short_model_128i=-8015.242844077085\n",
      "коэф при колонке short_model_135i=-3933.0231202294976\n",
      "коэф при колонке short_model_1500=-321.81409124411516\n",
      "коэф при колонке short_model_163869=-1618.8282637464422\n",
      "коэф при колонке short_model_1928=-0.00025149872334395695\n",
      "коэф при колонке short_model_1960s=-5019.06586423975\n",
      "коэф при колонке short_model_1988=-856.6332543134056\n",
      "коэф при колонке short_model_1994=-6898.736755798952\n",
      "коэф при колонке short_model_2=-3800.777059753935\n",
      "коэф при колонке short_model_200=-2414.6813988015006\n",
      "коэф при колонке short_model_2000=-0.00013159689501662797\n",
      "коэф при колонке short_model_2006=-5.587536281836947e-05\n",
      "коэф при колонке short_model_2007=-2746.627635854965\n",
      "коэф при колонке short_model_2008=-5492.744595181717\n",
      "коэф при колонке short_model_2009=-3038.1249567673653\n",
      "коэф при колонке short_model_2015=-0.00023606681361343362\n",
      "коэф при колонке short_model_2500hd=-0.0002211804899161507\n",
      "коэф при колонке short_model_3=-4096.44779123308\n",
      "коэф при колонке short_model_3-series=-3475.530513139414\n",
      "коэф при колонке short_model_3.2=-2518.176491860134\n",
      "коэф при колонке short_model_320i=-9023.532454949236\n",
      "коэф при колонке short_model_323i=-1.4664709851786029e-05\n",
      "коэф при колонке short_model_325ci=-3885.5281809007483\n",
      "коэф при колонке short_model_325i=-4630.530146771858\n",
      "коэф при колонке short_model_325xi=-4100.082477693335\n",
      "коэф при колонке short_model_328=-5323.961864219896\n",
      "коэф при колонке short_model_328ci=-0.00025083441232709447\n",
      "коэф при колонке short_model_328d=-17449.35560404627\n",
      "коэф при колонке short_model_328i=-8677.976879327247\n",
      "коэф при колонке short_model_328xi=-8326.551423334502\n",
      "коэф при колонке short_model_330i=-2370.5538501457427\n",
      "коэф при колонке short_model_330xi=-7504.295367540983\n",
      "коэф при колонке short_model_335i=-14314.181643503936\n",
      "коэф при колонке short_model_335xi=-5517.463875630921\n",
      "коэф при колонке short_model_350=-4103.1991314494635\n",
      "коэф при колонке short_model_350z=-6225.017219568455\n",
      "коэф при колонке short_model_3i=-4859.085578878192\n",
      "коэф при колонке short_model_4=-466.49247101448685\n",
      "коэф при колонке short_model_428=-302.008118221433\n",
      "коэф при колонке short_model_435i=-6708.504423186408\n",
      "коэф при колонке short_model_5=-4951.011392503103\n",
      "коэф при колонке short_model_5-series=-9355.359543107532\n",
      "коэф при колонке short_model_50=-4.58497752333642e-05\n",
      "коэф при колонке short_model_500=-4209.028059712886\n",
      "коэф при колонке short_model_500l=-7978.574512961939\n",
      "коэф при колонке short_model_500x=-0.0003128378039036761\n",
      "коэф при колонке short_model_528i=-6194.293557470842\n",
      "коэф при колонке short_model_528xi=-7004.500927504898\n",
      "коэф при колонке short_model_530=-7052.297371393518\n",
      "коэф при колонке short_model_535i=-5863.697445672638\n",
      "коэф при колонке short_model_540i=-1742.6473284282945\n",
      "коэф при колонке short_model_545i=-0.00017209808552820505\n",
      "коэф при колонке short_model_550i=-7973.4814139638665\n",
      "коэф при колонке short_model_645ci=-2391.3802182863074\n",
      "коэф при колонке short_model_650i=-4562.579834234149\n",
      "коэф при колонке short_model_750=-3140.8393648804195\n",
      "коэф при колонке short_model_750i=-8.565897587686777e-06\n",
      "коэф при колонке short_model_750xi=-336.605218495411\n",
      "коэф при колонке short_model_86=-2297.389165692937\n",
      "коэф при колонке short_model_911=-5210.946305395325\n",
      "коэф при колонке short_model_914=-20849.95000510612\n",
      "коэф при колонке short_model_928=-8355.176464185215\n",
      "коэф при колонке short_model_ACURA*=-3701.0049286138988\n",
      "коэф при колонке short_model_ALL=-20016.186516253736\n",
      "коэф при колонке short_model_Acuarea=-6.738347110513132e-05\n",
      "коэф при колонке short_model_American=-934.6304680588913\n",
      "коэф при колонке short_model_BUY=-23979.74689916348\n",
      "коэф при колонке short_model_Buicks=-1640.3030327317972\n",
      "коэф при колонке short_model_C=-2277.50519717053\n",
      "коэф при колонке short_model_CHEVORLET=-7184.852290203739\n",
      "коэф при колонке short_model_CLICK=-29018.59753016003\n",
      "коэф при колонке short_model_Chevey=-12005.151595934049\n",
      "коэф при колонке short_model_Comet=-4306.689556477663\n",
      "коэф при колонке short_model_Diahatsu=-3625.362784339194\n",
      "коэф при колонке short_model_E46=-5056.009633955082\n",
      "коэф при колонке short_model_F-250=-1670.0442126408818\n",
      "коэф при колонке short_model_FORD*=-1.9141495613439474e-05\n",
      "коэф при колонке short_model_FORD/RANGER=-4856.27407253877\n",
      "коэф при колонке short_model_FRRV=-15582.744828517669\n",
      "коэф при колонке short_model_Flexible=-30613.931662663083\n",
      "коэф при колонке short_model_Frtlner=-0.00020491799227784213\n",
      "коэф при колонке short_model_GEHL=-0.0002808590670611011\n",
      "коэф при колонке short_model_GRAND=-4.717194133263547e-05\n",
      "коэф при колонке short_model_Genesis=-1922.0005044827135\n",
      "коэф при колонке short_model_Hino=-1.0938265404547565e-06\n",
      "коэф при колонке short_model_Hobda=-8.066058830991096e-05\n",
      "коэф при колонке short_model_IC=-13649.310741688743\n",
      "коэф при колонке short_model_Isizu=-8207.571731177131\n",
      "коэф при колонке short_model_JM1BK32F871604924=-3467.8734096179282\n",
      "коэф при колонке short_model_Jayco=-0.00011464124872873072\n",
      "коэф при колонке short_model_Kaiser=-5923.441240498372\n",
      "коэф при колонке short_model_MERCUTY=-10503.10794528774\n",
      "коэф при колонке short_model_Nascar=-5497.647020062241\n",
      "коэф при колонке short_model_OLDSMOBILE=-0.00015750340025988407\n",
      "коэф при колонке short_model_PROGRAMS=-16644.870399756175\n",
      "коэф при колонке short_model_S60=-5814.322041949129\n",
      "коэф при колонке short_model_SCION=-4657.87307612904\n",
      "коэф при колонке short_model_Saab=-4744.2347005746\n",
      "коэф при колонке short_model_Scion=-10636.702556477314\n",
      "коэф при колонке short_model_Sterling=-8.889894161256962e-06\n",
      "коэф при колонке short_model_Studebaker=-8227.333921171892\n",
      "коэф при колонке short_model_Suzuki=-9409.251014196536\n",
      "коэф при колонке short_model_THOMAS=-8966.952711690623\n",
      "коэф при колонке short_model_Town=-5536.716367206049\n",
      "коэф при колонке short_model_Voltswagon=-10404.96470154869\n",
      "коэф при колонке short_model_Xx=-30974.554293386613\n",
      "коэф при колонке short_model_a-class=-4548.093528421816\n",
      "коэф при колонке short_model_a3=-6852.22962734092\n",
      "коэф при колонке short_model_a3,=-4794.314122434185\n",
      "коэф при колонке short_model_a4=-3970.980432107034\n",
      "коэф при колонке short_model_a5=-60.50212443216299\n",
      "коэф при колонке short_model_a6=-18.686419173200136\n",
      "коэф при колонке short_model_a8=-3433.5782167293683\n",
      "коэф при колонке short_model_acadia=-6734.623106608423\n",
      "коэф при колонке short_model_accord=-2868.3730893903034\n",
      "коэф при колонке short_model_all=-17532.345917306026\n",
      "коэф при колонке short_model_altima=-10654.743310048196\n",
      "коэф при колонке short_model_amc=-1792.6255951286084\n",
      "коэф при колонке short_model_arcadia=-11291.973164089477\n",
      "коэф при колонке short_model_armada=-2241.4939802845543\n",
      "коэф при колонке short_model_astra=-3714.2616171793256\n",
      "коэф при колонке short_model_astro=-6291.500690100537\n",
      "коэф при колонке short_model_ats=-5027.063960830491\n",
      "коэф при колонке short_model_aura=-671.8326355512062\n",
      "коэф при колонке short_model_avalon=-3578.6113870393183\n",
      "коэф при колонке short_model_avanger=-8854.28480319863\n",
      "коэф при колонке short_model_avenger=-8628.507310070843\n",
      "коэф при колонке short_model_aveo=-7977.470888097249\n",
      "коэф при колонке short_model_aviator=-6046.183797771628\n",
      "коэф при колонке short_model_aztek=-1922.2008459623894\n",
      "коэф при колонке short_model_b-class=-0.00020584696596870344\n",
      "коэф при колонке short_model_b2300=-3476.793128770677\n",
      "коэф при колонке short_model_benz=-3027.699002439784\n",
      "коэф при колонке short_model_blazer=-688.584290245642\n",
      "коэф при колонке short_model_blue=-8664.233814103503\n",
      "коэф при колонке short_model_bolt=-3917.809701034597\n",
      "коэф при колонке short_model_bonneville=-10355.1436375299\n",
      "коэф при колонке short_model_boxster=-13197.996438162114\n",
      "коэф при колонке short_model_c=-10916.401295593436\n",
      "коэф при колонке short_model_c-7500=-0.0002415100366306433\n",
      "коэф при колонке short_model_c-class=-350.78170338060994\n",
      "коэф при колонке short_model_c-hr=-14183.941381148243\n",
      "коэф при колонке short_model_c-max=-13443.353692741463\n",
      "коэф при колонке short_model_c/k=-2.9264998374856077e-05\n",
      "коэф при колонке short_model_c10=-685.4275642434716\n",
      "коэф при колонке short_model_c250=-8280.95013782621\n",
      "коэф при колонке short_model_c280=-3.9519752590422286e-06\n",
      "коэф при колонке short_model_c300=-7308.333314320211\n",
      "коэф при колонке short_model_c5500=-20.161316425789522\n",
      "коэф при колонке short_model_c6500=-0.0001410769536960288\n",
      "коэф при колонке short_model_c70=-3864.643079205613\n",
      "коэф при колонке short_model_caddilac=-10901.474527458202\n",
      "коэф при колонке short_model_caliber=-4643.069712658006\n",
      "коэф при колонке short_model_camary=-0.0001700742905086372\n",
      "коэф при колонке short_model_camero=-9158.659370321226\n",
      "коэф при колонке short_model_camry=-5160.864967578469\n",
      "коэф при колонке short_model_canyon=-2762.116371719148\n",
      "коэф при колонке short_model_captiva=-7539.833346496904\n",
      "коэф при колонке short_model_caravan/grand=-2429.3574387826034\n",
      "коэф при колонке short_model_cargo=-26097.845211716936\n",
      "коэф при колонке short_model_cascada=-6209.806974977209\n",
      "коэф при колонке short_model_cayenne=-14614.24800048167\n",
      "коэф при колонке short_model_cayman=-686.9267985182253\n",
      "коэф при колонке short_model_cc300=-0.0001299397299590055\n",
      "коэф при колонке short_model_century=-3136.601899057801\n",
      "коэф при колонке short_model_charger=-2445.269250393482\n",
      "коэф при колонке short_model_cherokee=-9431.702485903\n",
      "коэф при колонке short_model_chryler=-6412.140468856075\n",
      "коэф при колонке short_model_chysler=-7.700334390392527e-05\n",
      "коэф при колонке short_model_civic=-5206.026975073461\n",
      "коэф при колонке short_model_cj-5=-6855.376332760827\n",
      "коэф при колонке short_model_cj2a=-88.74252512369657\n",
      "коэф при колонке short_model_cj5=-44.6603423226977\n",
      "коэф при колонке short_model_cl-class=-0.0001437292332866491\n",
      "коэф при колонке short_model_cla=-5061.040546840894\n",
      "коэф при колонке short_model_cla-class=-5283.68745286828\n",
      "коэф при колонке short_model_clarity=-6245.975270950957\n",
      "коэф при колонке short_model_classic=-2222.0472834489055\n",
      "коэф при колонке short_model_classuc=-0.00022782584846936516\n",
      "коэф при колонке short_model_clk=-2022.7476966589431\n",
      "коэф при колонке short_model_clk-class=-4045.5125014047253\n",
      "коэф при колонке short_model_clk350=-4594.601885786024\n",
      "коэф при колонке short_model_cls550=-4389.823650996907\n",
      "коэф при колонке short_model_clubman=-26934.20274359307\n",
      "коэф при колонке short_model_cmax=-11125.698720727147\n",
      "коэф при колонке short_model_cobalt=-5928.266292342292\n",
      "коэф при колонке short_model_colbalt=-5718.812588834653\n",
      "коэф при колонке short_model_colorado=-824.2481819640175\n",
      "коэф при колонке short_model_commander=-7258.30569139687\n",
      "коэф при колонке short_model_compass=-14257.86566374775\n",
      "коэф при колонке short_model_concorde=-1990.5389811965763\n",
      "коэф при колонке short_model_convertible=-17985.541101101055\n",
      "коэф при колонке short_model_cooper=-24788.766359074216\n",
      "коэф при колонке short_model_corolla=-7127.139319457315\n",
      "коэф при колонке short_model_cougar=-6964.235737997669\n",
      "коэф при колонке short_model_country=-279.11560003295335\n",
      "коэф при колонке short_model_countryman=-16132.85960246127\n",
      "коэф при колонке short_model_cr-v=-1602.1872197403727\n",
      "коэф при колонке short_model_crosstour=-761.0042403293681\n",
      "коэф при колонке short_model_crown=-8166.906496905057\n",
      "коэф при колонке short_model_cruze=-10796.479478805239\n",
      "коэф при колонке short_model_crv=-246.4422734939147\n",
      "коэф при колонке short_model_crz=-4675.97146937466\n",
      "коэф при колонке short_model_ct=-12121.510914700228\n",
      "коэф при колонке short_model_cts=-3367.0554653526956\n",
      "коэф при колонке short_model_cts4=-7009.120016224773\n",
      "коэф при колонке short_model_cube=-10766.590872614994\n",
      "коэф при колонке short_model_cx-3=-10853.5155189653\n",
      "коэф при колонке short_model_cx-5=-6020.353591732548\n",
      "коэф при колонке short_model_cx-7=-2367.2983894742692\n",
      "коэф при колонке short_model_cx-9=-2289.1894321504756\n",
      "коэф при колонке short_model_cx7=-4403.075969383307\n",
      "коэф при колонке short_model_d50=-5246.045772652102\n",
      "коэф при колонке short_model_dart=-8137.05977509635\n",
      "коэф при колонке short_model_davidson=-3643.108888026075\n",
      "коэф при колонке short_model_deisel=-375.448991241877\n",
      "коэф при колонке short_model_denali=-3267.2811620163393\n",
      "коэф при колонке short_model_deville=-5232.216856760423\n",
      "коэф при колонке short_model_diesel=-1.7311938790953718e-05\n",
      "коэф при колонке short_model_dts=-6355.11856871935\n",
      "коэф при колонке short_model_duramax=-5505.781489135108\n",
      "коэф при колонке short_model_e-250=-3244.6910782054847\n",
      "коэф при колонке short_model_e-350=-2225.794289763723\n",
      "коэф при колонке short_model_e-golf=-678.8721003184993\n",
      "коэф при колонке short_model_e-series=-3262.7813096313234\n",
      "коэф при колонке short_model_e250=-2949.6279738381463\n",
      "коэф при колонке short_model_e350=-3408.9999411662056\n",
      "коэф при колонке short_model_e450=-8777.357313793966\n",
      "коэф при колонке short_model_e500=-2873.108409025525\n",
      "коэф при колонке short_model_echo=-3670.2074255775287\n",
      "коэф при колонке short_model_ecosport=-7952.351602036896\n",
      "коэф при колонке short_model_edge=-6017.057475219928\n",
      "коэф при колонке short_model_eldorado=-4174.097928403638\n",
      "коэф при колонке short_model_element=-596.3739396694625\n",
      "коэф при колонке short_model_enclave=-201.69398656234245\n",
      "коэф при колонке short_model_encore=-9496.99704851862\n",
      "коэф при колонке short_model_envision=-6091.183254031098\n",
      "коэф при колонке short_model_envoy=-5678.612162088264\n",
      "коэф при колонке short_model_eqinox=-128.16229662053584\n",
      "коэф при колонке short_model_equinox=-6536.8944379075665\n",
      "коэф при колонке short_model_es=-8495.211448075519\n",
      "коэф при колонке short_model_es300=-0.00023022377996539944\n",
      "коэф при колонке short_model_es330=-4446.1005464321215\n",
      "коэф при колонке short_model_es350=-7359.604473344022\n",
      "коэф при колонке short_model_escape=-9308.62974810238\n",
      "коэф при колонке short_model_escape-se,=-10125.205738436513\n",
      "коэф при колонке short_model_evoque=-3652.4094723550625\n",
      "коэф при колонке short_model_expedition=-143.05013297094388\n",
      "коэф при колонке short_model_explorer=-3185.464677541713\n",
      "коэф при колонке short_model_f-100=-3515.5913590593555\n",
      "коэф при колонке short_model_f-650=-698.7923368210049\n",
      "коэф при колонке short_model_f450sd=-7.353858381975442e-05\n",
      "коэф при колонке short_model_f50=-9.470621807849966e-05\n",
      "коэф при колонке short_model_falcon=-0.0001402786911057774\n",
      "коэф при колонке short_model_fiero=-4166.047375666281\n",
      "коэф при колонке short_model_fiesta=-13265.988443768309\n",
      "коэф при колонке short_model_fit=-9346.154223052503\n",
      "коэф при колонке short_model_five=-5531.087872738295\n",
      "коэф при колонке short_model_flex=-6463.528769725106\n",
      "коэф при колонке short_model_focus=-11780.48417554932\n",
      "коэф при колонке short_model_fords=-3487.3972112465704\n",
      "коэф при колонке short_model_forte5=-112.2821490243661\n",
      "коэф при колонке short_model_foxbody=-1359.486097893752\n",
      "коэф при колонке short_model_freestar=-2643.4601617735348\n",
      "коэф при колонке short_model_freestyle=-4291.80411548106\n",
      "коэф при колонке short_model_frontier=-4209.766966885569\n",
      "коэф при колонке short_model_fusion=-11527.234086705043\n",
      "коэф при колонке short_model_g-class=-3.474182176432805e-05\n",
      "коэф при колонке short_model_g.=-10169.860939319771\n",
      "коэф при колонке short_model_g20=-0.00011171180085511878\n",
      "коэф при колонке short_model_g37x=-3.0412919386435533e-05\n",
      "коэф при колонке short_model_g5=-10886.801313210131\n",
      "коэф при колонке short_model_g6=-9080.09909876794\n",
      "коэф при колонке short_model_g8=-390.8428628171458\n",
      "коэф при колонке short_model_gl=-12322.29704698612\n",
      "коэф при колонке short_model_gl-class=-796.494441585253\n",
      "коэф при колонке short_model_gla=-3763.9999877497594\n",
      "коэф при колонке short_model_glc=-597.5798606518182\n",
      "коэф при колонке short_model_glk=-4918.478938621528\n",
      "коэф при колонке short_model_glk-class=-3138.7091809879425\n",
      "коэф при колонке short_model_glk350=-4.055518775203382e-05\n",
      "коэф при колонке short_model_gmc/chev=-232.8705394272282\n",
      "коэф при колонке short_model_gmce=-404.7240463843946\n",
      "коэф при колонке short_model_gr=-4.342346733210434e-05\n",
      "коэф при колонке short_model_grand=-5811.66847849982\n",
      "коэф при колонке short_model_gs=-4118.751817342383\n",
      "коэф при колонке short_model_gs430=-9.930048236128641e-05\n",
      "коэф при колонке short_model_gx460=-0.00012064268844369508\n",
      "коэф при колонке short_model_gx470=-8.859803983796155e-06\n",
      "коэф при колонке short_model_hardtop=-23401.95499101183\n",
      "коэф при колонке short_model_hhr=-5547.314249231204\n",
      "коэф при колонке short_model_hr-v=-9672.184711772952\n",
      "коэф при колонке short_model_hse=-2416.4246028698894\n",
      "коэф при колонке short_model_hyndai=-8269.703521950483\n",
      "коэф при колонке short_model_i3=-15125.63029541139\n",
      "коэф при колонке short_model_i30=-0.00010803832719830098\n",
      "коэф при колонке short_model_ilx=-3007.5544855676844\n",
      "коэф при колонке short_model_impala=-7168.7970538323025\n",
      "коэф при колонке short_model_insight=-9058.00077353401\n",
      "коэф при колонке short_model_international=-4086.055783715808\n",
      "коэф при колонке short_model_ion=-2728.2332777770494\n",
      "коэф при колонке short_model_is=-7592.74273132058\n",
      "коэф при колонке short_model_is250=-15612.67529658765\n",
      "коэф при колонке short_model_is300=-3792.8476773100356\n",
      "коэф при колонке short_model_jeepster=-1663.2852455293512\n",
      "коэф при колонке short_model_jimmy=-0.00012900661704406957\n",
      "коэф при колонке short_model_jouney=-8122.728937500875\n",
      "коэф при колонке short_model_journey=-7073.642024142931\n",
      "коэф при колонке short_model_juke=-11112.343836857599\n",
      "коэф при колонке short_model_kicks=-10887.326021055604\n",
      "коэф при колонке short_model_kodiak=-2407.3692766477293\n",
      "коэф при колонке short_model_l300=-7.454564411091269e-05\n",
      "коэф при колонке short_model_lacrosse=-3048.8424023913567\n",
      "коэф при колонке short_model_landcruiser=-9.581674692071829e-05\n",
      "коэф при колонке short_model_leaf=-13270.774600651086\n",
      "коэф при колонке short_model_lesabre=-514.8364541974862\n",
      "коэф при колонке short_model_liberty=-10967.017756045729\n",
      "коэф при колонке short_model_lightning=-2.4635141301132535e-05\n",
      "коэф при колонке short_model_long=-8227.724604057641\n",
      "коэф при колонке short_model_lr2=-5738.403603728491\n",
      "коэф при колонке short_model_lr3=-2177.482835714383\n",
      "коэф при колонке short_model_lr4=-3567.623077219209\n",
      "коэф при колонке short_model_ls=-1389.7449490182057\n",
      "коэф при колонке short_model_ltd=-4115.562814893335\n",
      "коэф при колонке short_model_lucerne=-3801.2488528718836\n",
      "коэф при колонке short_model_m=-1820.7678156237705\n",
      "коэф при колонке short_model_m-class=-3592.7389010732227\n",
      "коэф при колонке short_model_magnum=-142.72305054942353\n",
      "коэф при колонке short_model_malibu=-7186.823529390105\n",
      "коэф при колонке short_model_mallinia=-1392.534925889126\n",
      "коэф при колонке short_model_marineer,premier=-8717.69278854595\n",
      "коэф при колонке short_model_mariner=-12613.02208138129\n",
      "коэф при колонке short_model_mark=-3701.735823293919\n",
      "коэф при колонке short_model_matrix=-1971.8890620392615\n",
      "коэф при колонке short_model_maxima=-7606.995577740184\n",
      "коэф при колонке short_model_maximum=-4488.839778617701\n",
      "коэф при колонке short_model_mazda2=-7434.64261462493\n",
      "коэф при колонке short_model_mazda3=-6684.096767370909\n",
      "коэф при колонке short_model_mazda5=-5814.420471653422\n",
      "коэф при колонке short_model_mazda6=-5524.480773744258\n",
      "коэф при колонке short_model_mazda6i=-3986.0657143437293\n",
      "коэф при колонке short_model_md-x=-14105.250881444606\n",
      "коэф при колонке short_model_metris=-1301.2580865858297\n",
      "коэф при колонке short_model_milan=-12110.604580280442\n",
      "коэф при колонке short_model_mirage=-7605.02695051832\n",
      "коэф при колонке short_model_mkc=-3953.940403467665\n",
      "коэф при колонке short_model_mks=-5508.043958115485\n",
      "коэф при колонке short_model_mkt=-2805.7534476910096\n",
      "коэф при колонке short_model_mkx=-1422.1474140992907\n",
      "коэф при колонке short_model_mkz=-5821.279144211153\n",
      "коэф при колонке short_model_ml=-6140.55621226753\n",
      "коэф при колонке short_model_ml350=-1613.3963140642206\n",
      "коэф при колонке short_model_ml500=-1.0732619557529688e-06\n",
      "коэф при колонке short_model_model=-227.69696421200263\n",
      "коэф при колонке short_model_mountaineer=-859.960889652192\n",
      "коэф при колонке short_model_mpv=-2043.4857195687625\n",
      "коэф при колонке short_model_murano=-8297.652024763785\n",
      "коэф при колонке short_model_mx-5=-991.8622470272301\n",
      "коэф при колонке short_model_nitro=-5846.384559065188\n",
      "коэф при колонке short_model_nv=-3184.601303473256\n",
      "коэф при колонке short_model_nv200=-9902.805176704582\n",
      "коэф при колонке short_model_nv2500=-1457.2173843207293\n",
      "коэф при колонке short_model_nv2500hd=-5.025946575187845e-05\n",
      "коэф при колонке short_model_nx=-6614.305010550376\n",
      "коэф при колонке short_model_nx300=-6319.711141144009\n",
      "коэф при колонке short_model_odyssey=-2319.492144074982\n",
      "коэф при колонке short_model_oldsmobile=-925.6621416681534\n",
      "коэф при колонке short_model_paceman=-25600.567886208402\n",
      "коэф при колонке short_model_panamera=-3850.2329589078895\n",
      "коэф при колонке short_model_park=-655.1796840221108\n",
      "коэф при колонке short_model_passport=-355.54464891740463\n",
      "коэф при колонке short_model_pathfinder=-7238.5833556470725\n",
      "коэф при колонке short_model_patriot=-15476.090964206782\n",
      "коэф при колонке short_model_pilot=-13.237891153595498\n",
      "коэф при колонке short_model_prius=-6960.013983876194\n",
      "коэф при колонке short_model_prizm=-831.4616969099277\n",
      "коэф при колонке short_model_promaster=-5593.60829118108\n",
      "коэф при колонке short_model_q3=-3447.497256377909\n",
      "коэф при колонке short_model_q5=-834.4598141747995\n",
      "коэф при колонке short_model_q7=-1174.6880728871267\n",
      "коэф при колонке short_model_quattro=-5922.952197041438\n",
      "коэф при колонке short_model_quest=-5469.326706304543\n",
      "коэф при колонке short_model_r-class=-8136.813963142001\n",
      "коэф при колонке short_model_rainier=-6705.9149799890465\n",
      "коэф при колонке short_model_ramcharger=-2939.7200100805476\n",
      "коэф при колонке short_model_ranger=-3489.0340334178\n",
      "коэф при колонке short_model_rav=-4090.7123560933637\n",
      "коэф при колонке short_model_rav4=-4314.120474309504\n",
      "коэф при колонке short_model_rc=-5381.934643011855\n",
      "коэф при колонке short_model_reatta=-2326.4243338113347\n",
      "коэф при колонке short_model_regal=-5319.875218310349\n",
      "коэф при колонке short_model_rendezvous=-9891.140710803296\n",
      "коэф при колонке short_model_renegade=-13488.254891875085\n",
      "коэф при колонке short_model_rio=-908.8674327370425\n",
      "коэф при колонке short_model_roadmaster=-7.664206896151882e-05\n",
      "коэф при колонке short_model_roadster=-27541.809512593547\n",
      "коэф при колонке short_model_rogue=-9375.94944465049\n",
      "коэф при колонке short_model_romeo=-524.5394276358984\n",
      "коэф при колонке short_model_rouge=-9254.620021701192\n",
      "коэф при колонке short_model_rsx=-1130.4363826490705\n",
      "коэф при колонке short_model_rx=-4093.2947001415814\n",
      "коэф при колонке short_model_rx-8=-3402.5178775911095\n",
      "коэф при колонке short_model_rx300=-6222.6878057813765\n",
      "коэф при колонке short_model_rx330=-7194.360035609179\n",
      "коэф при колонке short_model_rx350=-12956.671391949101\n",
      "коэф при колонке short_model_rx400h=-5130.291223421214\n",
      "коэф при колонке short_model_rx7=-314.0786825862973\n",
      "коэф при колонке short_model_rx8=-4247.416460283629\n",
      "коэф при колонке short_model_s-10=-0.000199429791791772\n",
      "коэф при колонке short_model_s/w=-4.6882669266778976e-06\n",
      "коэф при колонке short_model_s3=-9412.32371793015\n",
      "коэф при колонке short_model_s40=-7219.72868274403\n",
      "коэф при колонке short_model_s430=-5889.533539094225\n",
      "коэф при колонке short_model_s500=-5007.174439350025\n",
      "коэф при колонке short_model_s60=-7650.781987985132\n",
      "коэф при колонке short_model_s7=-5610.698904795995\n",
      "коэф при колонке short_model_s90=-3327.665955114785\n",
      "коэф при колонке short_model_saab=-7751.994424878797\n",
      "коэф при колонке short_model_sable=-6281.102570953007\n",
      "коэф при колонке short_model_sante=-9.5754636276979e-05\n",
      "коэф при колонке short_model_savana=-1926.9954124998008\n",
      "коэф при колонке short_model_sc=-2567.844929022849\n",
      "коэф при колонке short_model_sc2=-2331.1524605183195\n",
      "коэф при колонке short_model_school=-8003.798140896514\n",
      "коэф при колонке short_model_scion=-6524.315406974474\n",
      "коэф при колонке short_model_sentra=-13435.832752136737\n",
      "коэф при колонке short_model_sequioa=-5.615293639493757e-05\n",
      "коэф при колонке short_model_seville=-574.0131305062948\n",
      "коэф при колонке short_model_shelby=-0.00013882822531741112\n",
      "коэф при колонке short_model_sienna=-275.44770639713806\n",
      "коэф при колонке short_model_sierra1500=-8.690539743838599e-05\n",
      "коэф при колонке short_model_skylark=-2710.4653945088717\n",
      "коэф при колонке short_model_sl2=-1590.086078356761\n",
      "коэф при колонке short_model_sl500=-0.00012477919699449558\n",
      "коэф при колонке short_model_slk=-1036.062620947521\n",
      "коэф при колонке short_model_slk-class=-643.1894105444113\n",
      "коэф при колонке short_model_slt=-4483.582537428612\n",
      "коэф при колонке short_model_smart=-16308.045377095943\n",
      "коэф при колонке short_model_solara=-3523.417388860388\n",
      "коэф при колонке short_model_solstice=-0.00011569358059659862\n",
      "коэф при колонке short_model_sonic=-11959.54888598968\n",
      "коэф при колонке short_model_sonoma=-650.7188668710246\n",
      "коэф при колонке short_model_spark=-14847.758485491931\n",
      "коэф при колонке short_model_srx=-3998.1514984265627\n",
      "коэф при колонке short_model_srx-v6=-4279.640956396015\n",
      "коэф при колонке short_model_srx4=-2923.020218101233\n",
      "коэф при колонке short_model_srx~awesome=-9172.12344384915\n",
      "коэф при колонке short_model_starcraft=-18950.484950811588\n",
      "коэф при колонке short_model_step-van=-0.0002112351321557071\n",
      "коэф при колонке short_model_stratus=-4152.066852611315\n",
      "коэф при колонке short_model_sts=-7232.5371651573\n",
      "коэф при колонке short_model_studebaker=-4861.667144062095\n",
      "коэф при колонке short_model_supra=-3.5261499476746394e-05\n",
      "коэф при колонке short_model_suzuki=-5306.253390409476\n",
      "коэф при колонке short_model_t=-6584.777584285526\n",
      "коэф при колонке short_model_t-350=-768.9294131896679\n",
      "коэф при колонке short_model_tarsus=-2159.9397725662657\n",
      "коэф при колонке short_model_taurus=-7931.9789082927555\n",
      "коэф при колонке short_model_terrain=-9924.446343758129\n",
      "коэф при колонке short_model_thomas=-8380.022068792245\n",
      "коэф при колонке short_model_thrift=-20.42854939457709\n",
      "коэф при колонке short_model_titan=-1929.3385797114624\n",
      "коэф при колонке short_model_tl=-400.450958240855\n",
      "коэф при колонке short_model_torrent=-11142.83267638645\n",
      "коэф при колонке short_model_tracker=-3686.343860393279\n",
      "коэф при колонке short_model_tractor=-4537.997807379692\n",
      "коэф при колонке short_model_trailblazer=-2316.9061825085987\n",
      "коэф при колонке short_model_trans=-0.0001541204546811059\n",
      "коэф при колонке short_model_transit=-3490.561929783173\n",
      "коэф при колонке short_model_traverse=-2822.5801778054774\n",
      "коэф при колонке short_model_trax=-12074.939244689356\n",
      "коэф при колонке short_model_tribute=-4347.860468545625\n",
      "коэф при колонке short_model_triumph=-6491.579371408677\n",
      "коэф при колонке short_model_truck=-2162.5549651999113\n",
      "коэф при колонке short_model_tsx=-186.083272450729\n",
      "коэф при колонке short_model_uplander=-4.220129267196171e-05\n",
      "коэф при колонке short_model_ux=-6894.1139899034115\n",
      "коэф при колонке short_model_v50=-10914.429024080126\n",
      "коэф при колонке short_model_v60=-35579.08884588916\n",
      "коэф при колонке short_model_v90=-30811.060585320076\n",
      "коэф при колонке short_model_venture=-220.0832770508701\n",
      "коэф при колонке short_model_venza=-1547.0919750263179\n",
      "коэф при колонке short_model_verano=-10849.314174520061\n",
      "коэф при колонке short_model_versa=-15756.314597284245\n",
      "коэф при колонке short_model_vibe=-8124.738442366347\n",
      "коэф при колонке short_model_villager=-5747.268848279979\n",
      "коэф при колонке short_model_volt=-10922.310008638819\n",
      "коэф при колонке short_model_vtx1300c=-10981.505973255586\n",
      "коэф при колонке short_model_vue=-2199.6066352749385\n",
      "коэф при колонке short_model_wrangler=-410.169269262006\n",
      "коэф при колонке short_model_x-3=-8.060503341766889e-05\n",
      "коэф при колонке short_model_x-type=-4231.187497349822\n",
      "коэф при колонке short_model_x1=-7828.730479389413\n",
      "коэф при колонке short_model_x2=-1059.4722126535069\n",
      "коэф при колонке short_model_x3=-3180.39068925503\n",
      "коэф при колонке short_model_x4=-897.8003186906503\n",
      "коэф при колонке short_model_x5=-3336.706335871573\n",
      "коэф при колонке short_model_xc=-9010.615028622396\n",
      "коэф при колонке short_model_xc40=-29415.445942009694\n",
      "коэф при колонке short_model_xc60=-6486.420223089643\n",
      "коэф при колонке short_model_xc70=-4830.539173990765\n",
      "коэф при колонке short_model_xc90=-1117.5411919023377\n",
      "коэф при колонке short_model_xe=-6801.601573694015\n",
      "коэф при колонке short_model_xf=-1405.5222542183708\n",
      "коэф при колонке short_model_xj=-8253.23486834223\n",
      "коэф при колонке short_model_xj8=-1897.657664750628\n",
      "коэф при колонке short_model_xk8=-1883.187747261965\n",
      "коэф при колонке short_model_xterra=-2965.275653710194\n",
      "коэф при колонке short_model_xts=-4441.059007968726\n",
      "коэф при колонке short_model_yaris=-7497.819478950215\n",
      "коэф при колонке short_model_z=-3240.987045629135\n",
      "коэф при колонке short_model_z3=-1691.0672891805636\n",
      "коэф при колонке short_model_zx2=-5499.117907968021\n",
      "коэф при колонке transmission_automatic=-585.3353469784662\n",
      "коэф при колонке transmission_other=-289.0315172115619\n",
      "коэф при колонке region_SF bay area=-1284.2312657508776\n",
      "коэф при колонке region_akron / canton=-58.14064530101493\n",
      "коэф при колонке region_albany=-1020.9561092131137\n",
      "коэф при колонке region_altoona-johnstown=-198.8749297337873\n",
      "коэф при колонке region_amarillo=-3719.3609286233036\n",
      "коэф при колонке region_anchorage / mat-su=-108.5453386643936\n",
      "коэф при колонке region_appleton-oshkosh-FDL=-372.31920796872475\n",
      "коэф при колонке region_atlanta=-526.1888616066866\n",
      "коэф при колонке region_auburn=-4375.8783884652385\n",
      "коэф при колонке region_austin=-242.96437659921105\n",
      "коэф при колонке region_baton rouge=-574.8509575755505\n",
      "коэф при колонке region_bellingham=-1438.6431511709586\n",
      "коэф при колонке region_bend=-1221.3448111672067\n",
      "коэф при колонке region_binghamton=-2399.7008877939857\n",
      "коэф при колонке region_bismarck=-1396.1001642121644\n",
      "коэф при колонке region_bloomington=-1585.1156930851778\n",
      "коэф при колонке region_bloomington-normal=-2655.459062409237\n",
      "коэф при колонке region_boston=-297.42033352746284\n",
      "коэф при колонке region_bowling green=-1297.0921552618433\n",
      "коэф при колонке region_brainerd=-1263.4414349231206\n",
      "коэф при колонке region_brownsville=-394.7871405263345\n",
      "коэф при колонке region_brunswick=-130.74227956917457\n",
      "коэф при колонке region_buffalo=-1699.4702864434987\n",
      "коэф при колонке region_cape cod / islands=-1062.5423638832801\n",
      "коэф при колонке region_catskills=-104.06811067215483\n",
      "коэф при колонке region_central louisiana=-6031.55165837425\n",
      "коэф при колонке region_charleston=-1332.031248644529\n",
      "коэф при колонке region_chautauqua=-2547.2426007203635\n",
      "коэф при колонке region_chicago=-1650.391127240828\n",
      "коэф при колонке region_clarksville=-1635.9902694944603\n",
      "коэф при колонке region_cleveland=-1852.7409812472583\n",
      "коэф при колонке region_clovis / portales=-2357.4609043581722\n",
      "коэф при колонке region_college station=-666.9975494001476\n",
      "коэф при колонке region_columbia / jeff city=-765.4097608606866\n",
      "коэф при колонке region_cumberland valley=-702.380298673882\n",
      "коэф при колонке region_dallas / fort worth=-1104.185382805851\n",
      "коэф при колонке region_dayton / springfield=-532.5776047272578\n",
      "коэф при колонке region_daytona beach=-1481.9009270099252\n",
      "коэф при колонке region_del rio / eagle pass=-3186.6312777894154\n",
      "коэф при колонке region_delaware=-325.4674755804055\n",
      "коэф при колонке region_denver=-54.26272866221885\n",
      "коэф при колонке region_detroit metro=-293.3389575383021\n",
      "коэф при колонке region_east oregon=-4661.455523232697\n",
      "коэф при колонке region_eastern CO=-1015.1951970470207\n",
      "коэф при колонке region_eastern CT=-162.0078974567005\n",
      "коэф при колонке region_eastern panhandle=-760.6397093553836\n",
      "коэф при колонке region_eastern shore=-2391.7899187184803\n",
      "коэф при колонке region_eau claire=-714.3659358823585\n",
      "коэф при колонке region_el paso=-2448.8725518632436\n",
      "коэф при колонке region_elko=-5081.537011520358\n",
      "коэф при колонке region_fairbanks=-1975.9927207305443\n",
      "коэф при колонке region_fargo / moorhead=-988.7727733610085\n",
      "коэф при колонке region_farmington=-638.6422033846521\n",
      "коэф при колонке region_finger lakes=-2201.573255138671\n",
      "коэф при колонке region_flagstaff / sedona=-2953.582354619644\n",
      "коэф при колонке region_flint=-1078.6954651695148\n",
      "коэф при колонке region_florence=-4610.403486279772\n",
      "коэф при колонке region_fort dodge=-5575.801657926497\n",
      "коэф при колонке region_fort wayne=-865.9933564472486\n",
      "коэф при колонке region_frederick=-1554.9295479615218\n",
      "коэф при колонке region_ft myers / SW florida=-1609.722454241397\n",
      "коэф при колонке region_gainesville=-3350.96756351891\n",
      "коэф при колонке region_gold country=-1914.8140122283953\n",
      "коэф при колонке region_grand island=-4465.417390750575\n",
      "коэф при колонке region_great falls=-3318.993882281071\n",
      "коэф при колонке region_greenville / upstate=-791.5680977147543\n",
      "коэф при колонке region_gulfport / biloxi=-6.4868472691159695e-06\n",
      "коэф при колонке region_hanford-corcoran=-3245.3430222394736\n",
      "коэф при колонке region_hawaii=-259.1405329819053\n",
      "коэф при колонке region_heartland florida=-3969.231144179937\n",
      "коэф при колонке region_helena=-521.7515275787539\n",
      "коэф при колонке region_high rockies=-10952.880957947953\n",
      "коэф при колонке region_hilton head=-3022.5750164914784\n",
      "коэф при колонке region_houma=-4127.8025780524395\n",
      "коэф при колонке region_houston=-2176.07400357242\n",
      "коэф при колонке region_hudson valley=-1037.8312139896889\n",
      "коэф при колонке region_humboldt county=-44.333258753589604\n",
      "коэф при колонке region_imperial county=-3958.958773603705\n",
      "коэф при колонке region_inland empire=-945.7752754499627\n",
      "коэф при колонке region_jacksonville=-1696.732169692741\n",
      "коэф при колонке region_jersey shore=-821.3816869722667\n",
      "коэф при колонке region_joplin=-6353.3453089652585\n",
      "коэф при колонке region_kalispell=-797.3046070640586\n",
      "коэф при колонке region_kansas city, MO=-1822.7491275952411\n",
      "коэф при колонке region_kenai peninsula=-1123.5538050227879\n",
      "коэф при колонке region_killeen / temple / ft hood=-2015.4201937505209\n",
      "коэф при колонке region_kirksville=-1783.9650808599395\n",
      "коэф при колонке region_klamath falls=-0.0001497765551903285\n",
      "коэф при колонке region_kokomo=-1351.931805595088\n",
      "коэф при колонке region_la salle co=-577.4789860142752\n",
      "коэф при колонке region_lafayette=-2898.537997742698\n",
      "коэф при колонке region_lake charles=-2632.623552056134\n",
      "коэф при колонке region_lake of the ozarks=-4787.7958793378175\n",
      "коэф при колонке region_laredo=-770.1749991085601\n",
      "коэф при колонке region_las vegas=-3486.069628487834\n",
      "коэф при колонке region_lawrence=-2329.9060591537063\n",
      "коэф при колонке region_lincoln=-5126.526814563205\n",
      "коэф при колонке region_long island=-286.925349248089\n",
      "коэф при колонке region_los angeles=-1510.4264589488064\n",
      "коэф при колонке region_louisville=-186.1936620179069\n",
      "коэф при колонке region_lubbock=-3913.6994342689886\n",
      "коэф при колонке region_lynchburg=-745.0066236730368\n",
      "коэф при колонке region_macon / warner robins=-664.1654854540457\n",
      "коэф при колонке region_madison=-538.6292612282941\n",
      "коэф при колонке region_maine=-167.07570603686958\n",
      "коэф при колонке region_manhattan=-213.04955374138754\n",
      "коэф при колонке region_mcallen / edinburg=-482.09113859730917\n",
      "коэф при колонке region_meadville=-1891.1507188366193\n",
      "коэф при колонке region_medford-ashland=-2109.6379578796573\n",
      "коэф при колонке region_milwaukee=-1734.4966369270376\n",
      "коэф при колонке region_minneapolis / st paul=-154.71571107508674\n",
      "коэф при колонке region_mobile=-3333.0360639467654\n",
      "коэф при колонке region_mohave county=-3935.605469518266\n",
      "коэф при колонке region_montgomery=-780.3840085790993\n",
      "коэф при колонке region_moses lake=-3948.1877647377373\n",
      "коэф при колонке region_muskegon=-678.7947427356403\n",
      "коэф при колонке region_myrtle beach=-10.92233488822157\n",
      "коэф при колонке region_new hampshire=-550.698862059648\n",
      "коэф при колонке region_new orleans=-4570.060538964349\n",
      "коэф при колонке region_new river valley=-1967.006347329658\n",
      "коэф при колонке region_new york city=-1581.8277945639993\n",
      "коэф при колонке region_north dakota=-1057.7088793542398\n",
      "коэф при колонке region_north jersey=-1314.7557953164282\n",
      "коэф при колонке region_northeast SD=-4911.899478565644\n",
      "коэф при колонке region_northern WI=-3782.4000785426847\n",
      "коэф при колонке region_northwest CT=-1267.6998863883928\n",
      "коэф при колонке region_northwest GA=-2027.1561908304698\n",
      "коэф при колонке region_ocala=-711.8914483227038\n",
      "коэф при колонке region_okaloosa / walton=-6906.664402879266\n",
      "коэф при колонке region_oklahoma city=-1836.7751819156952\n",
      "коэф при колонке region_orlando=-2933.378938180218\n",
      "коэф при колонке region_owensboro=-3115.5675403247483\n",
      "коэф при колонке region_panama city=-2710.6983226642014\n",
      "коэф при колонке region_parkersburg-marietta=-3701.083382724629\n",
      "коэф при колонке region_peoria=-969.3843993632784\n",
      "коэф при колонке region_philadelphia=-1738.9921857691115\n",
      "коэф при колонке region_phoenix=-1065.6787464276606\n",
      "коэф при колонке region_poconos=-2614.5676763897654\n",
      "коэф при колонке region_portland=-1528.861732426624\n",
      "коэф при колонке region_potsdam-canton-massena=-4796.0905320921165\n",
      "коэф при колонке region_quad cities, IA/IL=-847.3560560515343\n",
      "коэф при колонке region_rapid city / west SD=-2567.2993846604245\n",
      "коэф при колонке region_rochester=-1427.3396344955588\n",
      "коэф при колонке region_rockford=-2563.984052021934\n",
      "коэф при колонке region_roseburg=-793.1281879559467\n",
      "коэф при колонке region_roswell / carlsbad=-778.6045898323971\n",
      "коэф при колонке region_saginaw-midland-baycity=-55.94268345086918\n",
      "коэф при колонке region_salt lake city=-919.6570429471241\n",
      "коэф при колонке region_san antonio=-781.0680043262785\n",
      "коэф при колонке region_santa fe / taos=-321.4090952479592\n",
      "коэф при колонке region_sarasota-bradenton=-535.4979228673674\n",
      "коэф при колонке region_savannah / hinesville=-825.0474091772608\n",
      "коэф при колонке region_seattle-tacoma=-1180.4422278574618\n",
      "коэф при колонке region_shreveport=-3802.23050253165\n",
      "коэф при колонке region_sierra vista=-4543.988174305217\n",
      "коэф при колонке region_sioux city=-1766.1815619802392\n",
      "коэф при колонке region_sioux falls / SE SD=-1891.2293439555074\n",
      "коэф при колонке region_siskiyou county=-4178.134851274082\n",
      "коэф при колонке region_skagit / island / SJI=-3093.3312265761338\n",
      "коэф при колонке region_south bend / michiana=-154.90466653609923\n",
      "коэф при колонке region_south dakota=-3633.689283666264\n",
      "коэф при колонке region_south florida=-4854.765120323039\n",
      "коэф при колонке region_southeast IA=-5620.856717669018\n",
      "коэф при колонке region_southeast alaska=-998.5140297234958\n",
      "коэф при колонке region_southwest MS=-282.3041668776242\n",
      "коэф при колонке region_southwest VA=-7.950035505643882e-05\n",
      "коэф при колонке region_southwest michigan=-168.3351132188076\n",
      "коэф при колонке region_space coast=-650.4655209104241\n",
      "коэф при колонке region_spokane / coeur d'alene=-246.35931622165347\n",
      "коэф при колонке region_springfield=-90.55007435393964\n",
      "коэф при колонке region_st augustine=-7222.9361893920195\n",
      "коэф при колонке region_st cloud=-623.8506669605401\n",
      "коэф при колонке region_st george=-1389.532788629576\n",
      "коэф при колонке region_state college=-3865.7438606865544\n",
      "коэф при колонке region_statesboro=-3228.4926958029255\n",
      "коэф при колонке region_stillwater=-4522.927525208856\n",
      "коэф при колонке region_syracuse=-1312.2699141609114\n",
      "коэф при колонке region_tallahassee=-3678.231995987714\n",
      "коэф при колонке region_tampa bay area=-1933.5533584343389\n",
      "коэф при колонке region_terre haute=-2194.5223324551994\n",
      "коэф при колонке region_toledo=-1448.59616003833\n",
      "коэф при колонке region_topeka=-1821.771784569167\n",
      "коэф при колонке region_treasure coast=-1231.6781774267645\n",
      "коэф при колонке region_tucson=-2479.8148322408133\n",
      "коэф при колонке region_tuscaloosa=-5607.261887907655\n",
      "коэф при колонке region_twin falls=-4463.955903611606\n",
      "коэф при колонке region_twin tiers NY/PA=-12.864016202070886\n",
      "коэф при колонке region_tyler / east TX=-186.33062552062225\n",
      "коэф при колонке region_upper peninsula=-1241.3810472266725\n",
      "коэф при колонке region_utica-rome-oneida=-1723.3498568121327\n",
      "коэф при колонке region_ventura county=-368.52347081606115\n",
      "коэф при колонке region_victoria=-2686.4710140136635\n",
      "коэф при колонке region_visalia-tulare=-217.71338289169742\n",
      "коэф при колонке region_washington, DC=-303.9269568446243\n",
      "коэф при колонке region_watertown=-1759.7496886329077\n",
      "коэф при колонке region_wausau=-1469.1560476271593\n",
      "коэф при колонке region_wenatchee=-2985.287487962931\n",
      "коэф при колонке region_western maryland=-1164.541500796682\n",
      "коэф при колонке region_wichita=-266.1765262567494\n",
      "коэф при колонке region_williamsport=-1439.0234448185938\n",
      "коэф при колонке region_winchester=-3098.5926589246365\n",
      "коэф при колонке region_worcester / central MA=-1485.0619822057333\n",
      "коэф при колонке region_yakima=-766.8783279582765\n",
      "коэф при колонке region_yuba-sutter=-1113.0599936363606\n",
      "коэф при колонке region_zanesville / cambridge=-2499.0506494339247\n",
      "коэф при колонке manufacturer_acura=-3259.9094354400095\n",
      "коэф при колонке manufacturer_alfa-romeo=-524.5397159131825\n",
      "коэф при колонке manufacturer_buick=-1566.2801701759106\n",
      "коэф при колонке manufacturer_chevrolet=-255.35415909898933\n",
      "коэф при колонке manufacturer_chrysler=-8293.161605386334\n",
      "коэф при колонке manufacturer_dodge=-1303.4548574948788\n",
      "коэф при колонке manufacturer_ferrari=0.0\n",
      "коэф при колонке manufacturer_fiat=-8974.99105402275\n",
      "коэф при колонке manufacturer_harley-davidson=-3643.1090133390076\n",
      "коэф при колонке manufacturer_honda=-816.2714444867813\n",
      "коэф при колонке manufacturer_hyundai=-12429.134401842932\n",
      "коэф при колонке manufacturer_infiniti=-5041.4940656627505\n",
      "коэф при колонке manufacturer_kia=-12549.28904643033\n",
      "коэф при колонке manufacturer_mazda=-1941.729657153671\n",
      "коэф при колонке manufacturer_mitsubishi=-9822.552673311922\n",
      "коэф при колонке manufacturer_saturn=-4162.696650938819\n",
      "коэф при колонке manufacturer_subaru=-9625.30383516412\n",
      "коэф при колонке manufacturer_volkswagen=-9718.351653282203\n",
      "коэф при колонке state_ak=-4206.606130958801\n",
      "коэф при колонке state_ar=-3303.6293627568466\n",
      "коэф при колонке state_ca=-1124.0276569437553\n",
      "коэф при колонке state_co=-1606.9211341618743\n",
      "коэф при колонке state_dc=-303.92668512992896\n",
      "коэф при колонке state_de=-325.4672275263431\n",
      "коэф при колонке state_hi=-259.14085697075694\n",
      "коэф при колонке state_ia=-2780.719847825041\n",
      "коэф при колонке state_id=-1044.7187380045343\n",
      "коэф при колонке state_il=-32.70216817262519\n",
      "коэф при колонке state_ma=-225.56549849867463\n",
      "коэф при колонке state_me=-167.0757386977682\n",
      "коэф при колонке state_mi=-1823.3501324449976\n",
      "коэф при колонке state_mn=-305.48982707145245\n",
      "коэф при колонке state_ms=-774.2641958182717\n",
      "коэф при колонке state_mt=-156.42191013771617\n",
      "коэф при колонке state_nd=-2453.8090778140477\n",
      "коэф при колонке state_nh=-550.6989519650997\n",
      "коэф при колонке state_nj=-851.2273086500091\n",
      "коэф при колонке state_nm=-1705.9183181729893\n",
      "коэф при колонке state_oh=-347.31128935341656\n",
      "коэф при колонке state_or=-1490.6255878211443\n",
      "коэф при колонке state_pa=-403.09682784662454\n",
      "коэф при колонке state_tn=-713.4518421842515\n",
      "коэф при колонке state_va=-97.82398874255196\n",
      "коэф при колонке state_wi=-1062.766014308302\n",
      "коэф при колонке state_wv=-3011.5108698275617\n",
      "коэф при колонке title_status_lien=-1110.0674582920037\n",
      "коэф при колонке title_status_missing=-1325.2118920422581\n",
      "коэф при колонке title_status_rebuilt=-3767.3551644585928\n",
      "коэф при колонке title_status_salvage=-3382.359486878646\n",
      "коэф при колонке age_category_average=-1849.2634156049571\n",
      "коэф при колонке long_std=-723.1600440398945\n",
      "коэф при колонке odometer/price_std=-1162.5255019511771\n",
      "коэф при колонке month_std=-119.79291722558582\n",
      "коэф при колонке diff_years_std=-2767.226395931876\n"
     ]
    }
   ],
   "source": [
    "s=''\n",
    "for col, i in zip(x_train, lr.coef_):\n",
    "    if i <= 0:\n",
    "        print(f'коэф при колонке {col}={i}')\n",
    "        s=s+','+col"
   ]
  },
  {
   "cell_type": "code",
   "execution_count": 62,
   "metadata": {},
   "outputs": [],
   "source": [
    "coefficients = pd.DataFrame({'feature': x_train.columns, 'coefficient': lr.coef_})"
   ]
  },
  {
   "cell_type": "code",
   "execution_count": 63,
   "metadata": {},
   "outputs": [
    {
     "name": "stdout",
     "output_type": "stream",
     "text": [
      "1360    manufacturer_ferrari\n",
      "Name: feature, dtype: object\n"
     ]
    }
   ],
   "source": [
    "zero_coefficients = coefficients[coefficients['coefficient'] == 0]['feature']\n",
    "print(zero_coefficients)"
   ]
  },
  {
   "cell_type": "code",
   "execution_count": 64,
   "metadata": {},
   "outputs": [
    {
     "data": {
      "text/plain": [
       "1"
      ]
     },
     "execution_count": 64,
     "metadata": {},
     "output_type": "execute_result"
    }
   ],
   "source": [
    "len(zero_coefficients)"
   ]
  },
  {
   "cell_type": "code",
   "execution_count": 65,
   "metadata": {},
   "outputs": [],
   "source": [
    "zero_coefficients=df[zero_coefficients]"
   ]
  },
  {
   "cell_type": "code",
   "execution_count": 66,
   "metadata": {},
   "outputs": [
    {
     "data": {
      "text/html": [
       "<div>\n",
       "<style scoped>\n",
       "    .dataframe tbody tr th:only-of-type {\n",
       "        vertical-align: middle;\n",
       "    }\n",
       "\n",
       "    .dataframe tbody tr th {\n",
       "        vertical-align: top;\n",
       "    }\n",
       "\n",
       "    .dataframe thead th {\n",
       "        text-align: right;\n",
       "    }\n",
       "</style>\n",
       "<table border=\"1\" class=\"dataframe\">\n",
       "  <thead>\n",
       "    <tr style=\"text-align: right;\">\n",
       "      <th></th>\n",
       "      <th>manufacturer_ferrari</th>\n",
       "    </tr>\n",
       "  </thead>\n",
       "  <tbody>\n",
       "    <tr>\n",
       "      <th>0</th>\n",
       "      <td>0.0</td>\n",
       "    </tr>\n",
       "    <tr>\n",
       "      <th>1</th>\n",
       "      <td>0.0</td>\n",
       "    </tr>\n",
       "    <tr>\n",
       "      <th>2</th>\n",
       "      <td>0.0</td>\n",
       "    </tr>\n",
       "    <tr>\n",
       "      <th>3</th>\n",
       "      <td>0.0</td>\n",
       "    </tr>\n",
       "    <tr>\n",
       "      <th>4</th>\n",
       "      <td>0.0</td>\n",
       "    </tr>\n",
       "    <tr>\n",
       "      <th>...</th>\n",
       "      <td>...</td>\n",
       "    </tr>\n",
       "    <tr>\n",
       "      <th>9614</th>\n",
       "      <td>0.0</td>\n",
       "    </tr>\n",
       "    <tr>\n",
       "      <th>9615</th>\n",
       "      <td>0.0</td>\n",
       "    </tr>\n",
       "    <tr>\n",
       "      <th>9616</th>\n",
       "      <td>0.0</td>\n",
       "    </tr>\n",
       "    <tr>\n",
       "      <th>9617</th>\n",
       "      <td>0.0</td>\n",
       "    </tr>\n",
       "    <tr>\n",
       "      <th>9618</th>\n",
       "      <td>0.0</td>\n",
       "    </tr>\n",
       "  </tbody>\n",
       "</table>\n",
       "<p>9619 rows × 1 columns</p>\n",
       "</div>"
      ],
      "text/plain": [
       "      manufacturer_ferrari\n",
       "0                      0.0\n",
       "1                      0.0\n",
       "2                      0.0\n",
       "3                      0.0\n",
       "4                      0.0\n",
       "...                    ...\n",
       "9614                   0.0\n",
       "9615                   0.0\n",
       "9616                   0.0\n",
       "9617                   0.0\n",
       "9618                   0.0\n",
       "\n",
       "[9619 rows x 1 columns]"
      ]
     },
     "execution_count": 66,
     "metadata": {},
     "output_type": "execute_result"
    }
   ],
   "source": [
    "zero_coefficients"
   ]
  },
  {
   "cell_type": "code",
   "execution_count": 67,
   "metadata": {},
   "outputs": [],
   "source": [
    "x_train = x_train.drop(zero_coefficients, axis=1)\n",
    "x_test = x_test.drop(zero_coefficients, axis=1)"
   ]
  },
  {
   "cell_type": "code",
   "execution_count": 68,
   "metadata": {},
   "outputs": [
    {
     "data": {
      "text/html": [
       "<style>#sk-container-id-2 {color: black;}#sk-container-id-2 pre{padding: 0;}#sk-container-id-2 div.sk-toggleable {background-color: white;}#sk-container-id-2 label.sk-toggleable__label {cursor: pointer;display: block;width: 100%;margin-bottom: 0;padding: 0.3em;box-sizing: border-box;text-align: center;}#sk-container-id-2 label.sk-toggleable__label-arrow:before {content: \"▸\";float: left;margin-right: 0.25em;color: #696969;}#sk-container-id-2 label.sk-toggleable__label-arrow:hover:before {color: black;}#sk-container-id-2 div.sk-estimator:hover label.sk-toggleable__label-arrow:before {color: black;}#sk-container-id-2 div.sk-toggleable__content {max-height: 0;max-width: 0;overflow: hidden;text-align: left;background-color: #f0f8ff;}#sk-container-id-2 div.sk-toggleable__content pre {margin: 0.2em;color: black;border-radius: 0.25em;background-color: #f0f8ff;}#sk-container-id-2 input.sk-toggleable__control:checked~div.sk-toggleable__content {max-height: 200px;max-width: 100%;overflow: auto;}#sk-container-id-2 input.sk-toggleable__control:checked~label.sk-toggleable__label-arrow:before {content: \"▾\";}#sk-container-id-2 div.sk-estimator input.sk-toggleable__control:checked~label.sk-toggleable__label {background-color: #d4ebff;}#sk-container-id-2 div.sk-label input.sk-toggleable__control:checked~label.sk-toggleable__label {background-color: #d4ebff;}#sk-container-id-2 input.sk-hidden--visually {border: 0;clip: rect(1px 1px 1px 1px);clip: rect(1px, 1px, 1px, 1px);height: 1px;margin: -1px;overflow: hidden;padding: 0;position: absolute;width: 1px;}#sk-container-id-2 div.sk-estimator {font-family: monospace;background-color: #f0f8ff;border: 1px dotted black;border-radius: 0.25em;box-sizing: border-box;margin-bottom: 0.5em;}#sk-container-id-2 div.sk-estimator:hover {background-color: #d4ebff;}#sk-container-id-2 div.sk-parallel-item::after {content: \"\";width: 100%;border-bottom: 1px solid gray;flex-grow: 1;}#sk-container-id-2 div.sk-label:hover label.sk-toggleable__label {background-color: #d4ebff;}#sk-container-id-2 div.sk-serial::before {content: \"\";position: absolute;border-left: 1px solid gray;box-sizing: border-box;top: 0;bottom: 0;left: 50%;z-index: 0;}#sk-container-id-2 div.sk-serial {display: flex;flex-direction: column;align-items: center;background-color: white;padding-right: 0.2em;padding-left: 0.2em;position: relative;}#sk-container-id-2 div.sk-item {position: relative;z-index: 1;}#sk-container-id-2 div.sk-parallel {display: flex;align-items: stretch;justify-content: center;background-color: white;position: relative;}#sk-container-id-2 div.sk-item::before, #sk-container-id-2 div.sk-parallel-item::before {content: \"\";position: absolute;border-left: 1px solid gray;box-sizing: border-box;top: 0;bottom: 0;left: 50%;z-index: -1;}#sk-container-id-2 div.sk-parallel-item {display: flex;flex-direction: column;z-index: 1;position: relative;background-color: white;}#sk-container-id-2 div.sk-parallel-item:first-child::after {align-self: flex-end;width: 50%;}#sk-container-id-2 div.sk-parallel-item:last-child::after {align-self: flex-start;width: 50%;}#sk-container-id-2 div.sk-parallel-item:only-child::after {width: 0;}#sk-container-id-2 div.sk-dashed-wrapped {border: 1px dashed gray;margin: 0 0.4em 0.5em 0.4em;box-sizing: border-box;padding-bottom: 0.4em;background-color: white;}#sk-container-id-2 div.sk-label label {font-family: monospace;font-weight: bold;display: inline-block;line-height: 1.2em;}#sk-container-id-2 div.sk-label-container {text-align: center;}#sk-container-id-2 div.sk-container {/* jupyter's `normalize.less` sets `[hidden] { display: none; }` but bootstrap.min.css set `[hidden] { display: none !important; }` so we also need the `!important` here to be able to override the default hidden behavior on the sphinx rendered scikit-learn.org. See: https://github.com/scikit-learn/scikit-learn/issues/21755 */display: inline-block !important;position: relative;}#sk-container-id-2 div.sk-text-repr-fallback {display: none;}</style><div id=\"sk-container-id-2\" class=\"sk-top-container\"><div class=\"sk-text-repr-fallback\"><pre>LinearRegression()</pre><b>In a Jupyter environment, please rerun this cell to show the HTML representation or trust the notebook. <br />On GitHub, the HTML representation is unable to render, please try loading this page with nbviewer.org.</b></div><div class=\"sk-container\" hidden><div class=\"sk-item\"><div class=\"sk-estimator sk-toggleable\"><input class=\"sk-toggleable__control sk-hidden--visually\" id=\"sk-estimator-id-2\" type=\"checkbox\" checked><label for=\"sk-estimator-id-2\" class=\"sk-toggleable__label sk-toggleable__label-arrow\">LinearRegression</label><div class=\"sk-toggleable__content\"><pre>LinearRegression()</pre></div></div></div></div></div>"
      ],
      "text/plain": [
       "LinearRegression()"
      ]
     },
     "execution_count": 68,
     "metadata": {},
     "output_type": "execute_result"
    }
   ],
   "source": [
    "lr.fit(x_train, y_train)"
   ]
  },
  {
   "cell_type": "code",
   "execution_count": 69,
   "metadata": {
    "scrolled": true
   },
   "outputs": [
    {
     "data": {
      "text/plain": [
       "array([17160.23925163, 15420.78822117, -2944.27356088, ...,\n",
       "        3881.29257916, 25081.23454331,  6481.24186997])"
      ]
     },
     "execution_count": 69,
     "metadata": {},
     "output_type": "execute_result"
    }
   ],
   "source": [
    "y_pred = lr.predict(x_test)\n",
    "y_pred"
   ]
  },
  {
   "cell_type": "code",
   "execution_count": 70,
   "metadata": {},
   "outputs": [
    {
     "name": "stdout",
     "output_type": "stream",
     "text": [
      "4612.4726341405085\n"
     ]
    }
   ],
   "source": [
    "mae_updated = mean_absolute_error(y_test, y_pred)\n",
    "print( mae_updated)"
   ]
  },
  {
   "cell_type": "markdown",
   "metadata": {
    "id": "n3d55h5IQZoC"
   },
   "source": [
    "**Задача 1. Логистическая регрессия**\n",
    "\n",
    "Теперь в рамках тех же данных попробуйте предсказать `price_category` с помощью алгоритма логистической регрессии. Предварительно из датафрейма удалите переменные, в которых косвенно содержится информация о целевой переменной (`odometer/price_std`, `price`). \n",
    "\n",
    "Для обученной модели нужно:\n",
    "\n",
    "- рассчитать и вывести метрику качества (accuracy) на тренировочной выборке;\n",
    "- сделать предикт на тестовых данных и положить его в переменную `logreg_pred`;\n",
    "- рассчитать и вывести accuracy и confusion_matrix на тестовой выборке.\n",
    "\n",
    "\n",
    "Задание засчитывается, если: \n",
    "- accuracy на тренировочной выборке > 87%;\n",
    "- accuracy на тестовой выборке > 75.5%.\n",
    "\n",
    "Для улучшения метрики можно преобразовывать входные данные, тюнить параметры логистической регрессии."
   ]
  },
  {
   "cell_type": "code",
   "execution_count": 170,
   "metadata": {},
   "outputs": [],
   "source": [
    "df = pd.read_csv(r\"C:\\Users\\Администратор\\Downloads\\vehicles_dataset_prepared (2).csv\")"
   ]
  },
  {
   "cell_type": "code",
   "execution_count": 171,
   "metadata": {
    "id": "tZpWbWaMootx"
   },
   "outputs": [],
   "source": [
    "# Ваш код подготовки данных здесь. Допишите инициализацию входных фичей и целевую переменную\n",
    "x=df\n",
    "x = df.drop(['price_category'],axis=1)\n",
    "x = x.drop(['id'],axis=1)\n",
    "x = x.drop(['price'],axis=1)\n",
    "x = x.drop(['odometer/price_std'], axis = 1)\n",
    "y = df.price_category\n",
    "\n",
    "x_train, x_test, y_train, y_test = train_test_split(x, y, test_size=0.3, random_state=42)"
   ]
  },
  {
   "cell_type": "code",
   "execution_count": 172,
   "metadata": {},
   "outputs": [],
   "source": [
    "from sklearn.preprocessing import LabelEncoder\n"
   ]
  },
  {
   "cell_type": "code",
   "execution_count": 173,
   "metadata": {},
   "outputs": [],
   "source": [
    "encoder= LabelEncoder()"
   ]
  },
  {
   "cell_type": "code",
   "execution_count": 174,
   "metadata": {},
   "outputs": [],
   "source": [
    "y_train = encoder.fit_transform(y_train)\n",
    "y_test = encoder.fit_transform(y_test)"
   ]
  },
  {
   "cell_type": "code",
   "execution_count": 175,
   "metadata": {},
   "outputs": [
    {
     "data": {
      "text/html": [
       "<div>\n",
       "<style scoped>\n",
       "    .dataframe tbody tr th:only-of-type {\n",
       "        vertical-align: middle;\n",
       "    }\n",
       "\n",
       "    .dataframe tbody tr th {\n",
       "        vertical-align: top;\n",
       "    }\n",
       "\n",
       "    .dataframe thead th {\n",
       "        text-align: right;\n",
       "    }\n",
       "</style>\n",
       "<table border=\"1\" class=\"dataframe\">\n",
       "  <thead>\n",
       "    <tr style=\"text-align: right;\">\n",
       "      <th></th>\n",
       "      <th>is_audi</th>\n",
       "      <th>is_ford</th>\n",
       "      <th>is_chevrolet</th>\n",
       "      <th>is_toyota</th>\n",
       "      <th>x0_diesel</th>\n",
       "      <th>x0_electric</th>\n",
       "      <th>x0_gas</th>\n",
       "      <th>x0_hybrid</th>\n",
       "      <th>x0_other</th>\n",
       "      <th>std_scaled_odometer</th>\n",
       "      <th>...</th>\n",
       "      <th>lat_std</th>\n",
       "      <th>long_std</th>\n",
       "      <th>year_std</th>\n",
       "      <th>desc_len_std</th>\n",
       "      <th>model_in_desc_std</th>\n",
       "      <th>model_len_std</th>\n",
       "      <th>model_word_count_std</th>\n",
       "      <th>month_std</th>\n",
       "      <th>dayofweek_std</th>\n",
       "      <th>diff_years_std</th>\n",
       "    </tr>\n",
       "  </thead>\n",
       "  <tbody>\n",
       "    <tr>\n",
       "      <th>0</th>\n",
       "      <td>0</td>\n",
       "      <td>0</td>\n",
       "      <td>0</td>\n",
       "      <td>0</td>\n",
       "      <td>1.0</td>\n",
       "      <td>0.0</td>\n",
       "      <td>0.0</td>\n",
       "      <td>0.0</td>\n",
       "      <td>0.0</td>\n",
       "      <td>-1.079390</td>\n",
       "      <td>...</td>\n",
       "      <td>-0.619172</td>\n",
       "      <td>0.484245</td>\n",
       "      <td>1.322394</td>\n",
       "      <td>0.632075</td>\n",
       "      <td>-0.155788</td>\n",
       "      <td>1.163032</td>\n",
       "      <td>1.910669</td>\n",
       "      <td>-0.615846</td>\n",
       "      <td>1.120284</td>\n",
       "      <td>-1.322394</td>\n",
       "    </tr>\n",
       "    <tr>\n",
       "      <th>1</th>\n",
       "      <td>0</td>\n",
       "      <td>1</td>\n",
       "      <td>0</td>\n",
       "      <td>0</td>\n",
       "      <td>0.0</td>\n",
       "      <td>0.0</td>\n",
       "      <td>0.0</td>\n",
       "      <td>0.0</td>\n",
       "      <td>1.0</td>\n",
       "      <td>-0.560115</td>\n",
       "      <td>...</td>\n",
       "      <td>0.388014</td>\n",
       "      <td>1.110800</td>\n",
       "      <td>0.695973</td>\n",
       "      <td>-0.646781</td>\n",
       "      <td>-0.155788</td>\n",
       "      <td>0.932087</td>\n",
       "      <td>1.235799</td>\n",
       "      <td>1.623784</td>\n",
       "      <td>-1.374972</td>\n",
       "      <td>-0.695973</td>\n",
       "    </tr>\n",
       "    <tr>\n",
       "      <th>2</th>\n",
       "      <td>0</td>\n",
       "      <td>0</td>\n",
       "      <td>0</td>\n",
       "      <td>0</td>\n",
       "      <td>0.0</td>\n",
       "      <td>0.0</td>\n",
       "      <td>1.0</td>\n",
       "      <td>0.0</td>\n",
       "      <td>0.0</td>\n",
       "      <td>-1.292863</td>\n",
       "      <td>...</td>\n",
       "      <td>-0.843059</td>\n",
       "      <td>0.531185</td>\n",
       "      <td>0.852578</td>\n",
       "      <td>0.560744</td>\n",
       "      <td>-0.155788</td>\n",
       "      <td>0.470197</td>\n",
       "      <td>0.560930</td>\n",
       "      <td>-0.615846</td>\n",
       "      <td>-0.376870</td>\n",
       "      <td>-0.852578</td>\n",
       "    </tr>\n",
       "    <tr>\n",
       "      <th>3</th>\n",
       "      <td>0</td>\n",
       "      <td>0</td>\n",
       "      <td>0</td>\n",
       "      <td>1</td>\n",
       "      <td>0.0</td>\n",
       "      <td>0.0</td>\n",
       "      <td>1.0</td>\n",
       "      <td>0.0</td>\n",
       "      <td>0.0</td>\n",
       "      <td>0.352621</td>\n",
       "      <td>...</td>\n",
       "      <td>-0.504509</td>\n",
       "      <td>0.853562</td>\n",
       "      <td>0.226157</td>\n",
       "      <td>0.180435</td>\n",
       "      <td>-0.155788</td>\n",
       "      <td>-0.915473</td>\n",
       "      <td>-0.788810</td>\n",
       "      <td>-0.615846</td>\n",
       "      <td>1.120284</td>\n",
       "      <td>-0.226157</td>\n",
       "    </tr>\n",
       "    <tr>\n",
       "      <th>4</th>\n",
       "      <td>0</td>\n",
       "      <td>0</td>\n",
       "      <td>0</td>\n",
       "      <td>0</td>\n",
       "      <td>0.0</td>\n",
       "      <td>0.0</td>\n",
       "      <td>0.0</td>\n",
       "      <td>0.0</td>\n",
       "      <td>1.0</td>\n",
       "      <td>-0.234311</td>\n",
       "      <td>...</td>\n",
       "      <td>-0.460101</td>\n",
       "      <td>0.557607</td>\n",
       "      <td>0.069552</td>\n",
       "      <td>0.766366</td>\n",
       "      <td>-0.155788</td>\n",
       "      <td>1.163032</td>\n",
       "      <td>1.910669</td>\n",
       "      <td>-0.615846</td>\n",
       "      <td>0.122182</td>\n",
       "      <td>-0.069552</td>\n",
       "    </tr>\n",
       "  </tbody>\n",
       "</table>\n",
       "<p>5 rows × 1459 columns</p>\n",
       "</div>"
      ],
      "text/plain": [
       "   is_audi  is_ford  is_chevrolet  is_toyota  x0_diesel  x0_electric  x0_gas  \\\n",
       "0        0        0             0          0        1.0          0.0     0.0   \n",
       "1        0        1             0          0        0.0          0.0     0.0   \n",
       "2        0        0             0          0        0.0          0.0     1.0   \n",
       "3        0        0             0          1        0.0          0.0     1.0   \n",
       "4        0        0             0          0        0.0          0.0     0.0   \n",
       "\n",
       "   x0_hybrid  x0_other  std_scaled_odometer  ...   lat_std  long_std  \\\n",
       "0        0.0       0.0            -1.079390  ... -0.619172  0.484245   \n",
       "1        0.0       1.0            -0.560115  ...  0.388014  1.110800   \n",
       "2        0.0       0.0            -1.292863  ... -0.843059  0.531185   \n",
       "3        0.0       0.0             0.352621  ... -0.504509  0.853562   \n",
       "4        0.0       1.0            -0.234311  ... -0.460101  0.557607   \n",
       "\n",
       "   year_std  desc_len_std  model_in_desc_std  model_len_std  \\\n",
       "0  1.322394      0.632075          -0.155788       1.163032   \n",
       "1  0.695973     -0.646781          -0.155788       0.932087   \n",
       "2  0.852578      0.560744          -0.155788       0.470197   \n",
       "3  0.226157      0.180435          -0.155788      -0.915473   \n",
       "4  0.069552      0.766366          -0.155788       1.163032   \n",
       "\n",
       "   model_word_count_std  month_std  dayofweek_std  diff_years_std  \n",
       "0              1.910669  -0.615846       1.120284       -1.322394  \n",
       "1              1.235799   1.623784      -1.374972       -0.695973  \n",
       "2              0.560930  -0.615846      -0.376870       -0.852578  \n",
       "3             -0.788810  -0.615846       1.120284       -0.226157  \n",
       "4              1.910669  -0.615846       0.122182       -0.069552  \n",
       "\n",
       "[5 rows x 1459 columns]"
      ]
     },
     "execution_count": 175,
     "metadata": {},
     "output_type": "execute_result"
    }
   ],
   "source": [
    "x.head()"
   ]
  },
  {
   "cell_type": "code",
   "execution_count": 176,
   "metadata": {},
   "outputs": [],
   "source": [
    "from sklearn.metrics import accuracy_score"
   ]
  },
  {
   "cell_type": "code",
   "execution_count": 177,
   "metadata": {
    "id": "XQL-04-XpD_n"
   },
   "outputs": [],
   "source": [
    "# Ваш код обучения моделей здесь\n",
    "logreg=LogisticRegression()"
   ]
  },
  {
   "cell_type": "code",
   "execution_count": 178,
   "metadata": {},
   "outputs": [
    {
     "name": "stderr",
     "output_type": "stream",
     "text": [
      "D:\\anaconda\\Lib\\site-packages\\sklearn\\linear_model\\_logistic.py:460: ConvergenceWarning: lbfgs failed to converge (status=1):\n",
      "STOP: TOTAL NO. of ITERATIONS REACHED LIMIT.\n",
      "\n",
      "Increase the number of iterations (max_iter) or scale the data as shown in:\n",
      "    https://scikit-learn.org/stable/modules/preprocessing.html\n",
      "Please also refer to the documentation for alternative solver options:\n",
      "    https://scikit-learn.org/stable/modules/linear_model.html#logistic-regression\n",
      "  n_iter_i = _check_optimize_result(\n"
     ]
    },
    {
     "data": {
      "text/html": [
       "<style>#sk-container-id-6 {color: black;}#sk-container-id-6 pre{padding: 0;}#sk-container-id-6 div.sk-toggleable {background-color: white;}#sk-container-id-6 label.sk-toggleable__label {cursor: pointer;display: block;width: 100%;margin-bottom: 0;padding: 0.3em;box-sizing: border-box;text-align: center;}#sk-container-id-6 label.sk-toggleable__label-arrow:before {content: \"▸\";float: left;margin-right: 0.25em;color: #696969;}#sk-container-id-6 label.sk-toggleable__label-arrow:hover:before {color: black;}#sk-container-id-6 div.sk-estimator:hover label.sk-toggleable__label-arrow:before {color: black;}#sk-container-id-6 div.sk-toggleable__content {max-height: 0;max-width: 0;overflow: hidden;text-align: left;background-color: #f0f8ff;}#sk-container-id-6 div.sk-toggleable__content pre {margin: 0.2em;color: black;border-radius: 0.25em;background-color: #f0f8ff;}#sk-container-id-6 input.sk-toggleable__control:checked~div.sk-toggleable__content {max-height: 200px;max-width: 100%;overflow: auto;}#sk-container-id-6 input.sk-toggleable__control:checked~label.sk-toggleable__label-arrow:before {content: \"▾\";}#sk-container-id-6 div.sk-estimator input.sk-toggleable__control:checked~label.sk-toggleable__label {background-color: #d4ebff;}#sk-container-id-6 div.sk-label input.sk-toggleable__control:checked~label.sk-toggleable__label {background-color: #d4ebff;}#sk-container-id-6 input.sk-hidden--visually {border: 0;clip: rect(1px 1px 1px 1px);clip: rect(1px, 1px, 1px, 1px);height: 1px;margin: -1px;overflow: hidden;padding: 0;position: absolute;width: 1px;}#sk-container-id-6 div.sk-estimator {font-family: monospace;background-color: #f0f8ff;border: 1px dotted black;border-radius: 0.25em;box-sizing: border-box;margin-bottom: 0.5em;}#sk-container-id-6 div.sk-estimator:hover {background-color: #d4ebff;}#sk-container-id-6 div.sk-parallel-item::after {content: \"\";width: 100%;border-bottom: 1px solid gray;flex-grow: 1;}#sk-container-id-6 div.sk-label:hover label.sk-toggleable__label {background-color: #d4ebff;}#sk-container-id-6 div.sk-serial::before {content: \"\";position: absolute;border-left: 1px solid gray;box-sizing: border-box;top: 0;bottom: 0;left: 50%;z-index: 0;}#sk-container-id-6 div.sk-serial {display: flex;flex-direction: column;align-items: center;background-color: white;padding-right: 0.2em;padding-left: 0.2em;position: relative;}#sk-container-id-6 div.sk-item {position: relative;z-index: 1;}#sk-container-id-6 div.sk-parallel {display: flex;align-items: stretch;justify-content: center;background-color: white;position: relative;}#sk-container-id-6 div.sk-item::before, #sk-container-id-6 div.sk-parallel-item::before {content: \"\";position: absolute;border-left: 1px solid gray;box-sizing: border-box;top: 0;bottom: 0;left: 50%;z-index: -1;}#sk-container-id-6 div.sk-parallel-item {display: flex;flex-direction: column;z-index: 1;position: relative;background-color: white;}#sk-container-id-6 div.sk-parallel-item:first-child::after {align-self: flex-end;width: 50%;}#sk-container-id-6 div.sk-parallel-item:last-child::after {align-self: flex-start;width: 50%;}#sk-container-id-6 div.sk-parallel-item:only-child::after {width: 0;}#sk-container-id-6 div.sk-dashed-wrapped {border: 1px dashed gray;margin: 0 0.4em 0.5em 0.4em;box-sizing: border-box;padding-bottom: 0.4em;background-color: white;}#sk-container-id-6 div.sk-label label {font-family: monospace;font-weight: bold;display: inline-block;line-height: 1.2em;}#sk-container-id-6 div.sk-label-container {text-align: center;}#sk-container-id-6 div.sk-container {/* jupyter's `normalize.less` sets `[hidden] { display: none; }` but bootstrap.min.css set `[hidden] { display: none !important; }` so we also need the `!important` here to be able to override the default hidden behavior on the sphinx rendered scikit-learn.org. See: https://github.com/scikit-learn/scikit-learn/issues/21755 */display: inline-block !important;position: relative;}#sk-container-id-6 div.sk-text-repr-fallback {display: none;}</style><div id=\"sk-container-id-6\" class=\"sk-top-container\"><div class=\"sk-text-repr-fallback\"><pre>LogisticRegression()</pre><b>In a Jupyter environment, please rerun this cell to show the HTML representation or trust the notebook. <br />On GitHub, the HTML representation is unable to render, please try loading this page with nbviewer.org.</b></div><div class=\"sk-container\" hidden><div class=\"sk-item\"><div class=\"sk-estimator sk-toggleable\"><input class=\"sk-toggleable__control sk-hidden--visually\" id=\"sk-estimator-id-6\" type=\"checkbox\" checked><label for=\"sk-estimator-id-6\" class=\"sk-toggleable__label sk-toggleable__label-arrow\">LogisticRegression</label><div class=\"sk-toggleable__content\"><pre>LogisticRegression()</pre></div></div></div></div></div>"
      ],
      "text/plain": [
       "LogisticRegression()"
      ]
     },
     "execution_count": 178,
     "metadata": {},
     "output_type": "execute_result"
    }
   ],
   "source": [
    "logreg.fit(x_train, y_train)"
   ]
  },
  {
   "cell_type": "code",
   "execution_count": 179,
   "metadata": {},
   "outputs": [
    {
     "data": {
      "text/plain": [
       "array([2, 2, 2, ..., 2, 2, 2])"
      ]
     },
     "execution_count": 179,
     "metadata": {},
     "output_type": "execute_result"
    }
   ],
   "source": [
    "pred_y_train = logreg.predict(x_train)\n",
    "pred"
   ]
  },
  {
   "cell_type": "code",
   "execution_count": 180,
   "metadata": {},
   "outputs": [
    {
     "name": "stdout",
     "output_type": "stream",
     "text": [
      "0.8551908510322294\n"
     ]
    }
   ],
   "source": [
    "train_accuracy = accuracy_score(y_train, pred_y_train)\n",
    "print(train_accuracy)"
   ]
  },
  {
   "cell_type": "code",
   "execution_count": 181,
   "metadata": {},
   "outputs": [],
   "source": [
    "pred = logreg.predict(x_test)"
   ]
  },
  {
   "cell_type": "code",
   "execution_count": 182,
   "metadata": {},
   "outputs": [
    {
     "data": {
      "text/plain": [
       "0.7543312543312544"
      ]
     },
     "execution_count": 182,
     "metadata": {},
     "output_type": "execute_result"
    }
   ],
   "source": [
    "test_accuracy = accuracy_score(y_test, pred)\n",
    "test_accuracy"
   ]
  },
  {
   "cell_type": "code",
   "execution_count": 183,
   "metadata": {},
   "outputs": [
    {
     "data": {
      "text/plain": [
       "{'C': 1.0,\n",
       " 'class_weight': None,\n",
       " 'dual': False,\n",
       " 'fit_intercept': True,\n",
       " 'intercept_scaling': 1,\n",
       " 'l1_ratio': None,\n",
       " 'max_iter': 100,\n",
       " 'multi_class': 'auto',\n",
       " 'n_jobs': None,\n",
       " 'penalty': 'l2',\n",
       " 'random_state': None,\n",
       " 'solver': 'lbfgs',\n",
       " 'tol': 0.0001,\n",
       " 'verbose': 0,\n",
       " 'warm_start': False}"
      ]
     },
     "execution_count": 183,
     "metadata": {},
     "output_type": "execute_result"
    }
   ],
   "source": [
    "logreg.get_params()"
   ]
  },
  {
   "cell_type": "code",
   "execution_count": 208,
   "metadata": {},
   "outputs": [
    {
     "name": "stdout",
     "output_type": "stream",
     "text": [
      "0.7536382536382537\n"
     ]
    },
    {
     "name": "stderr",
     "output_type": "stream",
     "text": [
      "D:\\anaconda\\Lib\\site-packages\\sklearn\\linear_model\\_sag.py:350: ConvergenceWarning: The max_iter was reached which means the coef_ did not converge\n",
      "  warnings.warn(\n"
     ]
    }
   ],
   "source": [
    "logreg_test=LogisticRegression( solver='saga',penalty='l2',dual=False, tol=0.0001, C=1.0)\n",
    "logreg_test.fit(x_train, y_train)\n",
    "\n",
    "pred= logreg_test.predict(x_test)\n",
    "\n",
    "accuracy3 = accuracy_score(y_test, pred)\n",
    "print(accuracy3)"
   ]
  },
  {
   "cell_type": "code",
   "execution_count": 206,
   "metadata": {},
   "outputs": [
    {
     "data": {
      "text/plain": [
       "array([[ 0.26628614,  0.38843919,  0.32689235, ..., -0.0682643 ,\n",
       "         0.03875282, -0.50267161],\n",
       "       [-0.3112914 , -0.37948598, -0.21999976, ...,  0.05832025,\n",
       "        -0.02617697,  0.42665152],\n",
       "       [ 0.04500526, -0.00895321, -0.10689259, ...,  0.00994405,\n",
       "        -0.01257585,  0.07602009]])"
      ]
     },
     "execution_count": 206,
     "metadata": {},
     "output_type": "execute_result"
    }
   ],
   "source": [
    "logreg.coef_"
   ]
  },
  {
   "cell_type": "code",
   "execution_count": null,
   "metadata": {},
   "outputs": [],
   "source": []
  },
  {
   "cell_type": "code",
   "execution_count": null,
   "metadata": {},
   "outputs": [],
   "source": []
  },
  {
   "cell_type": "markdown",
   "metadata": {
    "id": "sPYGPr0ssX1l"
   },
   "source": [
    "**Задача 2. Многослойный персептрон**\n",
    "\n",
    "Решите задачу, поставленную в предыдущем задании, применив модель многослойного персептрона. Добейтесь лучших значений точности на тренировочной и тестовой выборках, чем на логистической регрессии, с помощью данного алгоритма. \n",
    "\n",
    "Значимым увеличением точности в данном задании будем считать увеличение больше, чем на 0.01 по метрике accuracy."
   ]
  },
  {
   "cell_type": "code",
   "execution_count": 210,
   "metadata": {
    "id": "1CWqF0Pl44IW"
   },
   "outputs": [
    {
     "data": {
      "text/plain": [
       "0.7605682605682605"
      ]
     },
     "execution_count": 210,
     "metadata": {},
     "output_type": "execute_result"
    }
   ],
   "source": [
    "# Ваш код здесь\n",
    "mlp = MLPClassifier()\n",
    "mlp.fit(x_train, y_train)\n",
    "\n",
    "predmlp = mlp.predict(x_test)\n",
    "\n",
    "accuracytest = accuracy_score(y_test, predmlp)\n",
    "accuracytest"
   ]
  },
  {
   "cell_type": "code",
   "execution_count": 211,
   "metadata": {},
   "outputs": [],
   "source": [
    "predmlp2=mlp.predict(x_train)\n",
    "accuracy_train = accuracy_score(y_train, predmlp2)"
   ]
  },
  {
   "cell_type": "code",
   "execution_count": 212,
   "metadata": {},
   "outputs": [
    {
     "data": {
      "text/plain": [
       "0.9998514777959305"
      ]
     },
     "execution_count": 212,
     "metadata": {},
     "output_type": "execute_result"
    }
   ],
   "source": [
    "accuracy_train"
   ]
  },
  {
   "cell_type": "markdown",
   "metadata": {
    "id": "6ru5oLsGBOLv"
   },
   "source": [
    "**Задача 3. Сравнение с древовидными моделями**\n",
    "\n",
    "Обучите модель случайного леса на тех же данных для предсказания `price_category`. Сравните качество с моделью логистической регрессии и многослойного персептрона. Словами опишите, какая из моделей в каких случаях работает лучше по результатам на тестовой выборке, и обоснуйте свой выбор."
   ]
  },
  {
   "cell_type": "code",
   "execution_count": 214,
   "metadata": {
    "id": "gYFQzRHM41Dg"
   },
   "outputs": [],
   "source": [
    "# Ваш код здесьRandomForestClassifier\n",
    "from sklearn.ensemble import RandomForestClassifier\n",
    "rf_clf = RandomForestClassifier()"
   ]
  },
  {
   "cell_type": "code",
   "execution_count": 215,
   "metadata": {},
   "outputs": [
    {
     "data": {
      "text/html": [
       "<style>#sk-container-id-7 {color: black;}#sk-container-id-7 pre{padding: 0;}#sk-container-id-7 div.sk-toggleable {background-color: white;}#sk-container-id-7 label.sk-toggleable__label {cursor: pointer;display: block;width: 100%;margin-bottom: 0;padding: 0.3em;box-sizing: border-box;text-align: center;}#sk-container-id-7 label.sk-toggleable__label-arrow:before {content: \"▸\";float: left;margin-right: 0.25em;color: #696969;}#sk-container-id-7 label.sk-toggleable__label-arrow:hover:before {color: black;}#sk-container-id-7 div.sk-estimator:hover label.sk-toggleable__label-arrow:before {color: black;}#sk-container-id-7 div.sk-toggleable__content {max-height: 0;max-width: 0;overflow: hidden;text-align: left;background-color: #f0f8ff;}#sk-container-id-7 div.sk-toggleable__content pre {margin: 0.2em;color: black;border-radius: 0.25em;background-color: #f0f8ff;}#sk-container-id-7 input.sk-toggleable__control:checked~div.sk-toggleable__content {max-height: 200px;max-width: 100%;overflow: auto;}#sk-container-id-7 input.sk-toggleable__control:checked~label.sk-toggleable__label-arrow:before {content: \"▾\";}#sk-container-id-7 div.sk-estimator input.sk-toggleable__control:checked~label.sk-toggleable__label {background-color: #d4ebff;}#sk-container-id-7 div.sk-label input.sk-toggleable__control:checked~label.sk-toggleable__label {background-color: #d4ebff;}#sk-container-id-7 input.sk-hidden--visually {border: 0;clip: rect(1px 1px 1px 1px);clip: rect(1px, 1px, 1px, 1px);height: 1px;margin: -1px;overflow: hidden;padding: 0;position: absolute;width: 1px;}#sk-container-id-7 div.sk-estimator {font-family: monospace;background-color: #f0f8ff;border: 1px dotted black;border-radius: 0.25em;box-sizing: border-box;margin-bottom: 0.5em;}#sk-container-id-7 div.sk-estimator:hover {background-color: #d4ebff;}#sk-container-id-7 div.sk-parallel-item::after {content: \"\";width: 100%;border-bottom: 1px solid gray;flex-grow: 1;}#sk-container-id-7 div.sk-label:hover label.sk-toggleable__label {background-color: #d4ebff;}#sk-container-id-7 div.sk-serial::before {content: \"\";position: absolute;border-left: 1px solid gray;box-sizing: border-box;top: 0;bottom: 0;left: 50%;z-index: 0;}#sk-container-id-7 div.sk-serial {display: flex;flex-direction: column;align-items: center;background-color: white;padding-right: 0.2em;padding-left: 0.2em;position: relative;}#sk-container-id-7 div.sk-item {position: relative;z-index: 1;}#sk-container-id-7 div.sk-parallel {display: flex;align-items: stretch;justify-content: center;background-color: white;position: relative;}#sk-container-id-7 div.sk-item::before, #sk-container-id-7 div.sk-parallel-item::before {content: \"\";position: absolute;border-left: 1px solid gray;box-sizing: border-box;top: 0;bottom: 0;left: 50%;z-index: -1;}#sk-container-id-7 div.sk-parallel-item {display: flex;flex-direction: column;z-index: 1;position: relative;background-color: white;}#sk-container-id-7 div.sk-parallel-item:first-child::after {align-self: flex-end;width: 50%;}#sk-container-id-7 div.sk-parallel-item:last-child::after {align-self: flex-start;width: 50%;}#sk-container-id-7 div.sk-parallel-item:only-child::after {width: 0;}#sk-container-id-7 div.sk-dashed-wrapped {border: 1px dashed gray;margin: 0 0.4em 0.5em 0.4em;box-sizing: border-box;padding-bottom: 0.4em;background-color: white;}#sk-container-id-7 div.sk-label label {font-family: monospace;font-weight: bold;display: inline-block;line-height: 1.2em;}#sk-container-id-7 div.sk-label-container {text-align: center;}#sk-container-id-7 div.sk-container {/* jupyter's `normalize.less` sets `[hidden] { display: none; }` but bootstrap.min.css set `[hidden] { display: none !important; }` so we also need the `!important` here to be able to override the default hidden behavior on the sphinx rendered scikit-learn.org. See: https://github.com/scikit-learn/scikit-learn/issues/21755 */display: inline-block !important;position: relative;}#sk-container-id-7 div.sk-text-repr-fallback {display: none;}</style><div id=\"sk-container-id-7\" class=\"sk-top-container\"><div class=\"sk-text-repr-fallback\"><pre>RandomForestClassifier()</pre><b>In a Jupyter environment, please rerun this cell to show the HTML representation or trust the notebook. <br />On GitHub, the HTML representation is unable to render, please try loading this page with nbviewer.org.</b></div><div class=\"sk-container\" hidden><div class=\"sk-item\"><div class=\"sk-estimator sk-toggleable\"><input class=\"sk-toggleable__control sk-hidden--visually\" id=\"sk-estimator-id-7\" type=\"checkbox\" checked><label for=\"sk-estimator-id-7\" class=\"sk-toggleable__label sk-toggleable__label-arrow\">RandomForestClassifier</label><div class=\"sk-toggleable__content\"><pre>RandomForestClassifier()</pre></div></div></div></div></div>"
      ],
      "text/plain": [
       "RandomForestClassifier()"
      ]
     },
     "execution_count": 215,
     "metadata": {},
     "output_type": "execute_result"
    }
   ],
   "source": [
    "rf_clf.fit(x_train, y_train )"
   ]
  },
  {
   "cell_type": "code",
   "execution_count": 216,
   "metadata": {},
   "outputs": [],
   "source": [
    "predclf=rf_clf.predict(x_train)\n",
    "predclf2 = rf_clf.predict(x_test)"
   ]
  },
  {
   "cell_type": "code",
   "execution_count": 221,
   "metadata": {},
   "outputs": [
    {
     "name": "stdout",
     "output_type": "stream",
     "text": [
      "Точность  модели при случайном лесе на тренировочной выборке 100.0%\n",
      "Точность  модели при случайном лесе на тестовой выборке 74.91337491337491%\n"
     ]
    }
   ],
   "source": [
    "accurac1= accuracy_score(y_train, predclf)\n",
    "accurac2 = accuracy_score(y_test, predclf2)\n",
    "print(f'Точность  модели при случайном лесе на тренировочной выборке {accurac1*100}%')\n",
    "print(f'Точность  модели при случайном лесе на тестовой выборке {accurac2*100}%')"
   ]
  },
  {
   "cell_type": "code",
   "execution_count": 222,
   "metadata": {},
   "outputs": [
    {
     "data": {
      "text/plain": [
       "array([0, 2, 1, ..., 1, 2, 1])"
      ]
     },
     "execution_count": 222,
     "metadata": {},
     "output_type": "execute_result"
    }
   ],
   "source": [
    "predclf2"
   ]
  },
  {
   "cell_type": "markdown",
   "metadata": {
    "id": "-DrgXqjv2Rgk"
   },
   "source": [
    "**Задача 4. Стратегия голосования**\n",
    "\n",
    "Реализуйте стратегию голосования для предсказания целевой переменной.\n",
    "Голосование в задаче классификации — это когда несколько моделей выдают свои предикты, и финальным выбирается тот предикт, который предсказали большинство моделей.\n",
    "\n",
    "Для реализации этой стратегии проделайте следующее:\n",
    "\n",
    "- сохраните предсказания каждой из моделей (случайный лес, многослойный персептрон, логистическая регрессия) для тестовой выборки в датафрейм `pred_df`;\n",
    "- в четвертую колонку `target` положите тот класс, который предсказало большинство классификаторов. Например, если в строке были значения `high, medium, medium`, в `target` нужно положить `medium`.\n",
    "\n",
    "     Если в строке три разных класса — `high, medium, low`, — придумайте свою стратегию по выбору значения. Самая простая стратегия: выбрать рандомно одно значение из трёх.\n",
    "\n",
    "- посчитайте точность предсказания с помощью голосования. Выведите значения метрик accuracy и confusion_matrix.\n",
    "\n",
    "\n",
    "Добейтесь значения точности > 78% "
   ]
  },
  {
   "cell_type": "code",
   "execution_count": 223,
   "metadata": {
    "id": "KKTpNxaK5UhX"
   },
   "outputs": [],
   "source": [
    "# Ваш код здесь\n",
    "\n",
    "pred_df = pd.DataFrame({'Random Forest': predclf2, 'MLP': predmlp, 'Logistic Regression': pred})"
   ]
  },
  {
   "cell_type": "code",
   "execution_count": 224,
   "metadata": {},
   "outputs": [
    {
     "data": {
      "text/html": [
       "<div>\n",
       "<style scoped>\n",
       "    .dataframe tbody tr th:only-of-type {\n",
       "        vertical-align: middle;\n",
       "    }\n",
       "\n",
       "    .dataframe tbody tr th {\n",
       "        vertical-align: top;\n",
       "    }\n",
       "\n",
       "    .dataframe thead th {\n",
       "        text-align: right;\n",
       "    }\n",
       "</style>\n",
       "<table border=\"1\" class=\"dataframe\">\n",
       "  <thead>\n",
       "    <tr style=\"text-align: right;\">\n",
       "      <th></th>\n",
       "      <th>Random Forest</th>\n",
       "      <th>MLP</th>\n",
       "      <th>Logistic Regression</th>\n",
       "    </tr>\n",
       "  </thead>\n",
       "  <tbody>\n",
       "    <tr>\n",
       "      <th>0</th>\n",
       "      <td>0</td>\n",
       "      <td>0</td>\n",
       "      <td>0</td>\n",
       "    </tr>\n",
       "    <tr>\n",
       "      <th>1</th>\n",
       "      <td>2</td>\n",
       "      <td>2</td>\n",
       "      <td>2</td>\n",
       "    </tr>\n",
       "    <tr>\n",
       "      <th>2</th>\n",
       "      <td>1</td>\n",
       "      <td>1</td>\n",
       "      <td>1</td>\n",
       "    </tr>\n",
       "    <tr>\n",
       "      <th>3</th>\n",
       "      <td>1</td>\n",
       "      <td>1</td>\n",
       "      <td>1</td>\n",
       "    </tr>\n",
       "    <tr>\n",
       "      <th>4</th>\n",
       "      <td>0</td>\n",
       "      <td>0</td>\n",
       "      <td>0</td>\n",
       "    </tr>\n",
       "  </tbody>\n",
       "</table>\n",
       "</div>"
      ],
      "text/plain": [
       "   Random Forest  MLP  Logistic Regression\n",
       "0              0    0                    0\n",
       "1              2    2                    2\n",
       "2              1    1                    1\n",
       "3              1    1                    1\n",
       "4              0    0                    0"
      ]
     },
     "execution_count": 224,
     "metadata": {},
     "output_type": "execute_result"
    }
   ],
   "source": [
    "pred_df.head()"
   ]
  },
  {
   "cell_type": "code",
   "execution_count": 225,
   "metadata": {},
   "outputs": [],
   "source": [
    "pred_df['target'] = pred_df.mode(axis=1, dropna=True)[0]"
   ]
  },
  {
   "cell_type": "code",
   "execution_count": 226,
   "metadata": {},
   "outputs": [
    {
     "data": {
      "text/html": [
       "<div>\n",
       "<style scoped>\n",
       "    .dataframe tbody tr th:only-of-type {\n",
       "        vertical-align: middle;\n",
       "    }\n",
       "\n",
       "    .dataframe tbody tr th {\n",
       "        vertical-align: top;\n",
       "    }\n",
       "\n",
       "    .dataframe thead th {\n",
       "        text-align: right;\n",
       "    }\n",
       "</style>\n",
       "<table border=\"1\" class=\"dataframe\">\n",
       "  <thead>\n",
       "    <tr style=\"text-align: right;\">\n",
       "      <th></th>\n",
       "      <th>Random Forest</th>\n",
       "      <th>MLP</th>\n",
       "      <th>Logistic Regression</th>\n",
       "      <th>target</th>\n",
       "    </tr>\n",
       "  </thead>\n",
       "  <tbody>\n",
       "    <tr>\n",
       "      <th>0</th>\n",
       "      <td>0</td>\n",
       "      <td>0</td>\n",
       "      <td>0</td>\n",
       "      <td>0.0</td>\n",
       "    </tr>\n",
       "    <tr>\n",
       "      <th>1</th>\n",
       "      <td>2</td>\n",
       "      <td>2</td>\n",
       "      <td>2</td>\n",
       "      <td>2.0</td>\n",
       "    </tr>\n",
       "    <tr>\n",
       "      <th>2</th>\n",
       "      <td>1</td>\n",
       "      <td>1</td>\n",
       "      <td>1</td>\n",
       "      <td>1.0</td>\n",
       "    </tr>\n",
       "    <tr>\n",
       "      <th>3</th>\n",
       "      <td>1</td>\n",
       "      <td>1</td>\n",
       "      <td>1</td>\n",
       "      <td>1.0</td>\n",
       "    </tr>\n",
       "    <tr>\n",
       "      <th>4</th>\n",
       "      <td>0</td>\n",
       "      <td>0</td>\n",
       "      <td>0</td>\n",
       "      <td>0.0</td>\n",
       "    </tr>\n",
       "  </tbody>\n",
       "</table>\n",
       "</div>"
      ],
      "text/plain": [
       "   Random Forest  MLP  Logistic Regression  target\n",
       "0              0    0                    0     0.0\n",
       "1              2    2                    2     2.0\n",
       "2              1    1                    1     1.0\n",
       "3              1    1                    1     1.0\n",
       "4              0    0                    0     0.0"
      ]
     },
     "execution_count": 226,
     "metadata": {},
     "output_type": "execute_result"
    }
   ],
   "source": [
    "pred_df.head()"
   ]
  },
  {
   "cell_type": "markdown",
   "metadata": {
    "id": "FmuF3_05i2AD"
   },
   "source": [
    "**Примечание:**\n",
    "\n",
    "В этом домашнем задании в задаче номер 1 и далее перед вами встал выбор: включать ли в обучение колонку `id`. При удалении данной колонки во время обучении логистической регрессии качество заметно улучшается.\n",
    "\n",
    "Вообще обучать любую модель (будь то логистическая или линейная регрессия, или древовидный алгоритм) на данных айдишников не считается хорошей практикой. Как правило, между `id` и целевой переменной не должно быть никаких взаимосвязей. Включая колонку `id` в качества атрибута в обучение, вы стараетесь \"заточить\" результаты своей модели под айдишники записей. Таким образом модель обучится на некотором наборе \"частных случаев\", и, возможно, не обратит внимание на общие зависимости.   "
   ]
  },
  {
   "cell_type": "code",
   "execution_count": null,
   "metadata": {
    "id": "47FEptPukDSs"
   },
   "outputs": [],
   "source": []
  }
 ],
 "metadata": {
  "colab": {
   "collapsed_sections": [],
   "name": "Домашняя работа.ipynb",
   "provenance": []
  },
  "kernelspec": {
   "display_name": "Python 3 (ipykernel)",
   "language": "python",
   "name": "python3"
  },
  "language_info": {
   "codemirror_mode": {
    "name": "ipython",
    "version": 3
   },
   "file_extension": ".py",
   "mimetype": "text/x-python",
   "name": "python",
   "nbconvert_exporter": "python",
   "pygments_lexer": "ipython3",
   "version": "3.11.4"
  }
 },
 "nbformat": 4,
 "nbformat_minor": 1
}
