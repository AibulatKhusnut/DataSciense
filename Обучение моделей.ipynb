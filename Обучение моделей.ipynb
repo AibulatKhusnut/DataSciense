{
 "cells": [
  {
   "cell_type": "markdown",
   "metadata": {
    "id": "Ce0YMaG7Q0-o"
   },
   "source": [
    "## Практическая работа"
   ]
  },
  {
   "cell_type": "markdown",
   "metadata": {
    "id": "xkOj0F_FRCJm"
   },
   "source": [
    "В этой практической работе четыре обязательные задачи.\n",
    "\n",
    "*Обязательные задачи* нужно сделать для того, чтобы проверить, что вы действительно усвоили материал модуля. Сдайте их на проверку.\n",
    "\n",
    "Удачи!"
   ]
  },
  {
   "cell_type": "markdown",
   "metadata": {
    "id": "Yt4v4ba7RWA3"
   },
   "source": [
    "Цели практической работы: \n",
    "\n",
    "\n",
    "1.   Потренироваться в обучении моделей деревьев решений.\n",
    "2.   Потренироваться в обучении моделей случайного леса. \n",
    "3.   Научиться оценивать качество моделей с помошью Accuracy и confusion matrix.\n",
    "4.   Научиться увеличивать качество моделей с помощью тюнинга параметров.\n",
    "\n",
    "\n"
   ]
  },
  {
   "cell_type": "markdown",
   "metadata": {
    "id": "nPwfq2fISXIk"
   },
   "source": [
    "Что оценивается:\n",
    "\n",
    "*   Все пункты и критерия приёмки задания выполнены.\n",
    "*   Удаление колонок по результатам feature_importance и определения типов производится с помощью кода, а не перечислением их вручную.\n",
    "\n",
    "\n"
   ]
  },
  {
   "cell_type": "markdown",
   "metadata": {
    "id": "50fXtdd_R7c5"
   },
   "source": [
    "## Обязательные задачи"
   ]
  },
  {
   "cell_type": "markdown",
   "metadata": {
    "id": "iy6tzmQfsqgr"
   },
   "source": [
    "### Описание датасета:\n",
    "- `id`: идентификатор записи;\n",
    "- `is_manufacturer_name`: признак производителя автомобиля;\n",
    "\n",
    "- `region_*`: регион;\n",
    "- `x0_*`: тип топлива;\n",
    "- `manufacturer_*`: производитель;\n",
    "- `short_model_*`: сокращённая модель автомобиля;\n",
    "- `title_status_*`: статус;\n",
    "- `transmission_*`: коробка передач;\n",
    "- `state_*`: штат;\n",
    "- `age_category_*`: возрастная категория автомобиля;\n",
    "\n",
    "- `std_scaled_odometer`: количество пройденных миль (после стандартизации);\n",
    "- `year_std`: год выпуска (после стандартизации);\n",
    "- `lat_std`: широта (после стандартизации);\n",
    "- `long_std`: долгота (после стандартизации);\n",
    "- `odometer/price_std`: отношение стоимости к пробегу автомобиля (после стандартизации);\n",
    "- `desc_len_std`: количество символов в тексте объявления о продаже (после стандартизации);\n",
    "- `model_in_desc_std`: количество наименований модели автомобиля в тексте объявления о продаже (после стандартизации);\n",
    "- `model_len_std`: длина наименования автомобиля (после стандартизации);\n",
    "- `model_word_count_std`: количество слов в наименовании автомобиля (после стандартизации);\n",
    "- `month_std`: номер месяца размещения объявления о продаже автомобиля (после стандартизации);\n",
    "- `dayofweek_std`: день недели размещения объявления о продаже автомобиля (после стандартизации);\n",
    "- `diff_years_std`: количество лет между годом производства автомобиля и годом размещения объявления о продаже автомобиля (после стандартизации);\n",
    "\n",
    "- `price`: стоимость;\n",
    "- `price_category`: категория цены."
   ]
  },
  {
   "cell_type": "markdown",
   "metadata": {
    "id": "rGEsBMqETF2f"
   },
   "source": [
    "0. *Подготовка базовой модели*\n",
    "\n",
    "Обучите простую модель классификации с помощью DecisionTreeClassifier на данных из датасета vehicles_dataset_prepared.csv. Для этого сделайте следующие шаги:\n",
    "\n",
    "1. Обучите модель дерева решений с зафиксированным random_state на тренировочной выборке.\n",
    "2. Сделайте предикт на тестовой выборке.\n",
    "3. Замерьте точность на тестовой выборке и выведите матрицу ошибок. \n",
    "4. Удалите фичи с нулевыми весами по feature_importance из тренировочной и тестовой выборок.\n",
    "5. Заново обучите модель и измерьте качество."
   ]
  },
  {
   "cell_type": "code",
   "execution_count": 3,
   "metadata": {
    "id": "pylwtir8Qzrk"
   },
   "outputs": [],
   "source": [
    "import pandas as pd\n",
    "from sklearn.tree import DecisionTreeClassifier\n",
    "from sklearn.model_selection import train_test_split \n",
    "from sklearn.metrics import accuracy_score, confusion_matrix "
   ]
  },
  {
   "cell_type": "code",
   "execution_count": 15,
   "metadata": {
    "id": "IOdbt33LS4RP"
   },
   "outputs": [],
   "source": [
    "df = pd.read_csv(r'C:\\Users\\user\\vehicles_dataset_prepared.csv')\n",
    "\n",
    "df_prepared = df.copy()\n",
    "df_prepared = df_prepared.drop(['price', 'odometer/price_std'], axis=1)\n",
    "\n",
    "x = df_prepared.drop(['price_category'], axis=1)\n",
    "y = df_prepared['price_category']\n",
    "\n",
    "x_train, x_test, y_train, y_test = train_test_split(x, y, test_size=0.3, random_state=42)"
   ]
  },
  {
   "cell_type": "code",
   "execution_count": 16,
   "metadata": {
    "id": "zDdkaaRZgIMN"
   },
   "outputs": [
    {
     "data": {
      "text/plain": [
       "DecisionTreeClassifier()"
      ]
     },
     "execution_count": 16,
     "metadata": {},
     "output_type": "execute_result"
    }
   ],
   "source": [
    "# Ваш код здесь \n",
    "clf = DecisionTreeClassifier() \n",
    "clf.fit(x_train, y_train)"
   ]
  },
  {
   "cell_type": "code",
   "execution_count": 17,
   "metadata": {},
   "outputs": [],
   "source": [
    "predicted_train = clf.predict(x_train) \n",
    "predicted_test = clf.predict(x_test)"
   ]
  },
  {
   "cell_type": "code",
   "execution_count": 18,
   "metadata": {},
   "outputs": [
    {
     "name": "stdout",
     "output_type": "stream",
     "text": [
      "1.0\n",
      "0.6722106722106722\n"
     ]
    }
   ],
   "source": [
    "print(accuracy_score(y_train, predicted_train))\n",
    "print(accuracy_score(y_test, predicted_test))"
   ]
  },
  {
   "cell_type": "code",
   "execution_count": 19,
   "metadata": {},
   "outputs": [
    {
     "data": {
      "text/plain": [
       "array([[751,  55, 191],\n",
       "       [ 43, 686, 224],\n",
       "       [190, 243, 503]], dtype=int64)"
      ]
     },
     "execution_count": 19,
     "metadata": {},
     "output_type": "execute_result"
    }
   ],
   "source": [
    "confusion_matrix(y_test, predicted_test)"
   ]
  },
  {
   "cell_type": "code",
   "execution_count": 20,
   "metadata": {},
   "outputs": [
    {
     "data": {
      "text/plain": [
       "array([0.03310756, 0.00041354, 0.00429901, ..., 0.00164878, 0.01534606,\n",
       "       0.02234803])"
      ]
     },
     "execution_count": 20,
     "metadata": {},
     "output_type": "execute_result"
    }
   ],
   "source": [
    "clf.feature_importances_"
   ]
  },
  {
   "cell_type": "code",
   "execution_count": 21,
   "metadata": {},
   "outputs": [],
   "source": [
    "f_imp_list = list(zip(x_train.columns, clf.feature_importances_))\n",
    "f_imp_list.sort(key=lambda x: x[1], reverse=True) "
   ]
  },
  {
   "cell_type": "code",
   "execution_count": 22,
   "metadata": {},
   "outputs": [
    {
     "name": "stdout",
     "output_type": "stream",
     "text": [
      "['short_model_-benz', 'short_model_1', 'short_model_124', 'short_model_128i', 'short_model_135i', 'short_model_163869', 'short_model_1928', 'short_model_1951', 'short_model_1954', 'short_model_1960s', 'short_model_1966', 'short_model_1968', 'short_model_1972', 'short_model_1977', 'short_model_1978', 'short_model_198.5', 'short_model_1988', 'short_model_1994', 'short_model_1999', 'short_model_2', 'short_model_200', 'short_model_2000', 'short_model_2002', 'short_model_2006', 'short_model_2007', 'short_model_2008', 'short_model_2009', 'short_model_2012', 'short_model_2015', 'short_model_2016', 'short_model_2017', 'short_model_2018', 'short_model_210', 'short_model_240', 'short_model_2500', 'short_model_2500hd', 'short_model_280zx', 'short_model_3', 'short_model_3-series', 'short_model_3-window', 'short_model_3.2', 'short_model_300-series', 'short_model_300c', 'short_model_300s', 'short_model_300zx', 'short_model_3100', 'short_model_318i', 'short_model_320i', 'short_model_323i', 'short_model_325ci', 'short_model_325i', 'short_model_325xi', 'short_model_328', 'short_model_328ci', 'short_model_328d', 'short_model_328xi', 'short_model_330i', 'short_model_330xi', 'short_model_335i', 'short_model_335xi', 'short_model_350', 'short_model_3500hd', 'short_model_350z', 'short_model_370z', 'short_model_380sl', 'short_model_3i', 'short_model_4', 'short_model_4-runner', 'short_model_430i', 'short_model_435i', 'short_model_440xi', 'short_model_4500', 'short_model_4x4', 'short_model_5', 'short_model_5-series', 'short_model_50', 'short_model_500', 'short_model_500c', 'short_model_500l', 'short_model_500x', 'short_model_525i', 'short_model_528i', 'short_model_528xi', 'short_model_530', 'short_model_530i', 'short_model_535i', 'short_model_535xi', 'short_model_540i', 'short_model_545i', 'short_model_5500', 'short_model_5500hd', 'short_model_550i', 'short_model_5th', 'short_model_6', 'short_model_640', 'short_model_645ci', 'short_model_650i', 'short_model_650xi', 'short_model_7', 'short_model_750', 'short_model_750i', 'short_model_750xi', 'short_model_86', 'short_model_911', 'short_model_914', 'short_model_928', 'short_model_944', 'short_model_ACURA*', 'short_model_ALL', 'short_model_AM', 'short_model_AMC', 'short_model_ASC', 'short_model_Acuarea', 'short_model_American', 'short_model_BUY', 'short_model_Bentley', 'short_model_Blue', 'short_model_Buicks', 'short_model_C', 'short_model_CHEVORLET', 'short_model_Champion', 'short_model_Chevey', 'short_model_Chevorlet', 'short_model_Comanche', 'short_model_Comet', 'short_model_D7FH173552', 'short_model_DODGE1500', 'short_model_Diahatsu', 'short_model_E46', 'short_model_EASY', 'short_model_Emergency', 'short_model_F-250', 'short_model_F250', 'short_model_FORD*', 'short_model_FORD/RANGER', 'short_model_FREIGHTLINER', 'short_model_FRRV', 'short_model_Flexible', 'short_model_FordE350', 'short_model_Freightliner', 'short_model_Frtlner', 'short_model_GCM', 'short_model_GEHL', 'short_model_GMC,', 'short_model_GMX', 'short_model_GRAND', 'short_model_GULF', 'short_model_Genesis', 'short_model_Gx', 'short_model_HINO', 'short_model_HUMMER', 'short_model_Hino', 'short_model_Hobda', 'short_model_Hot', 'short_model_Hummer', 'short_model_IC', 'short_model_INTERNATIONAL', 'short_model_International', 'short_model_Isizu', 'short_model_Isuzu', 'short_model_JM1BK32F871604924', 'short_model_Janesville', 'short_model_Jauguar', 'short_model_Jayco', 'short_model_Kaiser', 'short_model_Lotus', 'short_model_MASERATI', 'short_model_MERCUTY', 'short_model_MERDECES', 'short_model_MGB', 'short_model_MITUSBISHI', 'short_model_MV-1', 'short_model_Maserati', 'short_model_Minin', 'short_model_Nascar', 'short_model_OLDSMOBILE', 'short_model_PLYMOUTH', 'short_model_PROGRAMS', 'short_model_Peterbilt', 'short_model_Pierce', 'short_model_QX', 'short_model_S60', 'short_model_SCION', 'short_model_SL', 'short_model_Saab', 'short_model_Sea', 'short_model_Sterling', 'short_model_Studebaker', 'short_model_Suzuki', 'short_model_THOMAS', 'short_model_Thomas', 'short_model_Town', 'short_model_Triumph', 'short_model_Voltswagon', 'short_model_Xx', 'short_model_a-class', 'short_model_a3', 'short_model_a3,', 'short_model_a5', 'short_model_a6', 'short_model_a7', 'short_model_a8', 'short_model_acadia', 'short_model_accent', 'short_model_all', 'short_model_allante', 'short_model_allroad', 'short_model_am', 'short_model_amc', 'short_model_arcadia', 'short_model_armada', 'short_model_arteon', 'short_model_ascent', 'short_model_aspen', 'short_model_astra', 'short_model_astro', 'short_model_atlas', 'short_model_ats', 'short_model_aura', 'short_model_autobiography', 'short_model_avalon', 'short_model_avanger', 'short_model_avenger', 'short_model_aveo', 'short_model_aviator', 'short_model_azera', 'short_model_aztek', 'short_model_b-class', 'short_model_b-series', 'short_model_b2200', 'short_model_b2300', 'short_model_b2600i', 'short_model_baja', 'short_model_beetle', 'short_model_bel', 'short_model_belair', 'short_model_benz', 'short_model_blackwood', 'short_model_blazer', 'short_model_blue', 'short_model_bolt', 'short_model_bonanza', 'short_model_bonneville', 'short_model_boxster', 'short_model_bronco', 'short_model_brz', 'short_model_bug', 'short_model_c', 'short_model_c-10', 'short_model_c-7500', 'short_model_c-class', 'short_model_c-hr', 'short_model_c-max', 'short_model_c/k', 'short_model_c10', 'short_model_c250', 'short_model_c280', 'short_model_c30', 'short_model_c300', 'short_model_c4500', 'short_model_c5500', 'short_model_c60', 'short_model_c6500', 'short_model_c70', 'short_model_c8500', 'short_model_cabellero', 'short_model_cabrio', 'short_model_caddilac', 'short_model_cadenza', 'short_model_camary', 'short_model_camero', 'short_model_capri', 'short_model_caprice', 'short_model_captiva', 'short_model_caravan', 'short_model_caravan/grand', 'short_model_cargo', 'short_model_cascada', 'short_model_cavalier', 'short_model_cayman', 'short_model_cc', 'short_model_cc300', 'short_model_cc4500', 'short_model_century', 'short_model_certified', 'short_model_charger', 'short_model_cherokee', 'short_model_chevelle', 'short_model_chevorlet', 'short_model_chryler', 'short_model_chysler', 'short_model_city', 'short_model_cj-5', 'short_model_cj2a', 'short_model_cj5', 'short_model_cj7', 'short_model_cj8', 'short_model_cl-class', 'short_model_cla', 'short_model_cla-class', 'short_model_clarity', 'short_model_classic', 'short_model_classuc', 'short_model_clk', 'short_model_clk-class', 'short_model_clk350', 'short_model_cls-class', 'short_model_cls550', 'short_model_clubman', 'short_model_cmax', 'short_model_colbalt', 'short_model_comet', 'short_model_commander', 'short_model_compass', 'short_model_concorde', 'short_model_conquest', 'short_model_continental', 'short_model_convertible', 'short_model_corsair', 'short_model_cougar', 'short_model_country', 'short_model_countryman', 'short_model_coupe', 'short_model_cr-v', 'short_model_crew', 'short_model_crossfire', 'short_model_crosstour', 'short_model_crosstrek', 'short_model_crown', 'short_model_crv', 'short_model_crz', 'short_model_ct', 'short_model_ct4', 'short_model_ct5', 'short_model_ct6', 'short_model_cts', 'short_model_cts-v', 'short_model_cts4', 'short_model_cvr', 'short_model_cx-3', 'short_model_cx-7', 'short_model_cx-9', 'short_model_cx7', 'short_model_cx9', 'short_model_d50', 'short_model_dakota', 'short_model_davidson', 'short_model_dealer*', 'short_model_defender', 'short_model_deisel', 'short_model_deluxe', 'short_model_denali', 'short_model_deville', 'short_model_diesel', 'short_model_discovery', 'short_model_dts', 'short_model_dump', 'short_model_duramax', 'short_model_durango', 'short_model_durangon', 'short_model_e-150', 'short_model_e-250', 'short_model_e-450', 'short_model_e-class', 'short_model_e-pace', 'short_model_e150', 'short_model_e250', 'short_model_e320', 'short_model_e350', 'short_model_e450', 'short_model_e46', 'short_model_e500', 'short_model_echo', 'short_model_eclipse', 'short_model_econoline', 'short_model_ecosport', 'short_model_el', 'short_model_elcamino', 'short_model_eldorado', 'short_model_element', 'short_model_enclave', 'short_model_endeavor', 'short_model_envision', 'short_model_envoy', 'short_model_eos', 'short_model_eqinox', 'short_model_es300', 'short_model_es330', 'short_model_es350', 'short_model_escape-se,', 'short_model_escort', 'short_model_evoque', 'short_model_f', 'short_model_f-100', 'short_model_f-350sd', 'short_model_f-450', 'short_model_f-450sd', 'short_model_f-550', 'short_model_f-650', 'short_model_f-750', 'short_model_f-pace', 'short_model_f-type', 'short_model_f1', 'short_model_f100', 'short_model_f350', 'short_model_f450', 'short_model_f450sd', 'short_model_f50', 'short_model_f550', 'short_model_f600', 'short_model_f700', 'short_model_f750', 'short_model_falcon', 'short_model_fe', 'short_model_fiero', 'short_model_fiesta', 'short_model_firebird', 'short_model_five', 'short_model_fj40', 'short_model_fleetmaster', 'short_model_fleetwood', 'short_model_flex', 'short_model_fords', 'short_model_forte5', 'short_model_foxbody', 'short_model_freestar', 'short_model_freestyle', 'short_model_freightliner', 'short_model_fx35', 'short_model_fx45', 'short_model_g-class', 'short_model_g.', 'short_model_g20', 'short_model_g30', 'short_model_g35', 'short_model_g35x', 'short_model_g37s', 'short_model_g37x', 'short_model_g4500', 'short_model_g5', 'short_model_g6', 'short_model_g8', 'short_model_galant', 'short_model_ghia', 'short_model_gl', 'short_model_gl-class', 'short_model_gl450', 'short_model_gla', 'short_model_gladiator', 'short_model_glc', 'short_model_glc-class', 'short_model_gle', 'short_model_gle-class', 'short_model_glk', 'short_model_glk-class', 'short_model_glk350', 'short_model_gls', 'short_model_gmc/chev', 'short_model_gmce', 'short_model_gmt-400', 'short_model_gr', 'short_model_grandville', 'short_model_grumman', 'short_model_gs', 'short_model_gs350', 'short_model_gs430', 'short_model_gt', 'short_model_gt-r', 'short_model_gti', 'short_model_gto', 'short_model_gx460', 'short_model_gx470', 'short_model_hardbody', 'short_model_hardtop', 'short_model_hearse', 'short_model_hhr', 'short_model_hiace', 'short_model_high', 'short_model_hr-v', 'short_model_hse', 'short_model_hyndai', 'short_model_i-miev', 'short_model_i30', 'short_model_i35', 'short_model_insight', 'short_model_international', 'short_model_ion', 'short_model_ioniq', 'short_model_is250', 'short_model_is300', 'short_model_isuzu', 'short_model_jeepster', 'short_model_jimmy', 'short_model_jouney', 'short_model_journey', 'short_model_juke', 'short_model_jx35', 'short_model_k10', 'short_model_k20', 'short_model_k30', 'short_model_k5', 'short_model_kicks', 'short_model_kodiak', 'short_model_l', 'short_model_l300', 'short_model_lacrosse', 'short_model_lancer', 'short_model_landcruiser', 'short_model_legacy', 'short_model_legend', 'short_model_lemans', 'short_model_lesabre', 'short_model_lifted', 'short_model_lightning', 'short_model_limousine', 'short_model_long', 'short_model_lr2', 'short_model_lr3', 'short_model_lucerne', 'short_model_lx', 'short_model_m', 'short_model_m-class', 'short_model_m35', 'short_model_m5', 'short_model_macan', 'short_model_magnum', 'short_model_mallinia', 'short_model_marineer,premier', 'short_model_mariner', 'short_model_mark', 'short_model_maserati', 'short_model_matrix', 'short_model_maximum', 'short_model_mazda2', 'short_model_mazda5', 'short_model_mazda6', 'short_model_mazda6i', 'short_model_md-x', 'short_model_mercades', 'short_model_mercedes-amg', 'short_model_metris', 'short_model_mg', 'short_model_miata', 'short_model_milan', 'short_model_mirage', 'short_model_mkc', 'short_model_mks', 'short_model_mkt', 'short_model_ml', 'short_model_ml350', 'short_model_ml500', 'short_model_model', 'short_model_monte', 'short_model_montero', 'short_model_mountaineer', 'short_model_mpv', 'short_model_mr2', 'short_model_murano', 'short_model_mx-5', 'short_model_nautilus', 'short_model_navigator', 'short_model_neon', 'short_model_new', 'short_model_newport', 'short_model_niro', 'short_model_nitro', 'short_model_nova', 'short_model_nv', 'short_model_nv1500', 'short_model_nv200', 'short_model_nv2500', 'short_model_nv2500hd', 'short_model_nx', 'short_model_nx300', 'short_model_oddyssey', 'short_model_oldsmobile', 'short_model_optima', 'short_model_optimia', 'short_model_outback', 'short_model_outlook', 'short_model_paceman', 'short_model_pacifica', 'short_model_panamera', 'short_model_panel', 'short_model_park', 'short_model_passat', 'short_model_passport', 'short_model_pathfinder', 'short_model_patriot', 'short_model_phaeton', 'short_model_pick', 'short_model_pickup', 'short_model_pontaic', 'short_model_prelude', 'short_model_prizm', 'short_model_protege', 'short_model_pt', 'short_model_putback', 'short_model_q3', 'short_model_q5', 'short_model_q50', 'short_model_q60', 'short_model_q70', 'short_model_quattro', 'short_model_quest', 'short_model_qx56', 'short_model_qx60', 'short_model_qx70', 'short_model_r-class', 'short_model_r32', 'short_model_rabbit', 'short_model_rainier', 'short_model_ram1500', 'short_model_ram2500', 'short_model_ramcharger', 'short_model_range', 'short_model_ranger', 'short_model_rat', 'short_model_rav', 'short_model_rc', 'short_model_rdx', 'short_model_reatta', 'short_model_rebel', 'short_model_rendezvous', 'short_model_replica', 'short_model_ridgeline', 'short_model_rio', 'short_model_rivera', 'short_model_riviera', 'short_model_rl', 'short_model_rlx', 'short_model_roadmaster', 'short_model_roadster', 'short_model_romeo', 'short_model_rondo', 'short_model_rouge', 'short_model_routan', 'short_model_rs', 'short_model_rsx', 'short_model_rx-8', 'short_model_rx300', 'short_model_rx330', 'short_model_rx350', 'short_model_rx400h', 'short_model_rx7', 'short_model_rx8', 'short_model_s', 'short_model_s-10', 'short_model_s/w', 'short_model_s10', 'short_model_s2000', 'short_model_s3', 'short_model_s320', 'short_model_s4', 'short_model_s40', 'short_model_s430', 'short_model_s500', 'short_model_s6', 'short_model_s60', 'short_model_s7', 'short_model_s70', 'short_model_s8', 'short_model_s90', 'short_model_saab', 'short_model_sable', 'short_model_sante', 'short_model_savana', 'short_model_sc2', 'short_model_sc300', 'short_model_school', 'short_model_scion', 'short_model_sebring', 'short_model_sedan', 'short_model_seirra', 'short_model_sequioa', 'short_model_sequoia', 'short_model_seville', 'short_model_shelby', 'short_model_sierra1500', 'short_model_sky', 'short_model_skylark', 'short_model_sl-class', 'short_model_sl2', 'short_model_sl500', 'short_model_sl55', 'short_model_sl550', 'short_model_slc', 'short_model_sle', 'short_model_slk', 'short_model_slk-class', 'short_model_slt', 'short_model_smart', 'short_model_solara', 'short_model_solstice', 'short_model_sonata', 'short_model_sonoma', 'short_model_sorento', 'short_model_sorrento', 'short_model_soul+', 'short_model_spectra', 'short_model_srx', 'short_model_srx-v6', 'short_model_srx4', 'short_model_srx~awesome', 'short_model_ss', 'short_model_starcraft', 'short_model_step-van', 'short_model_stinger', 'short_model_stratus', 'short_model_sts', 'short_model_studebaker', 'short_model_suburban', 'short_model_supra', 'short_model_suv', 'short_model_suzuki', 'short_model_svx', 'short_model_t', 'short_model_t-350', 'short_model_t-bucket', 'short_model_tarsus', 'short_model_taurus', 'short_model_tc5500', 'short_model_telluride', 'short_model_tercel', 'short_model_terrain', 'short_model_thing', 'short_model_thomas', 'short_model_thrift', 'short_model_thunderbird', 'short_model_tl', 'short_model_tlx', 'short_model_torrent', 'short_model_touareg', 'short_model_tracker', 'short_model_tractor', 'short_model_trailblazer', 'short_model_trans', 'short_model_traverse', 'short_model_tribute', 'short_model_triumph', 'short_model_truck', 'short_model_tsx', 'short_model_tt', 'short_model_tucson', 'short_model_tudor', 'short_model_uplander', 'short_model_utility', 'short_model_ux', 'short_model_v50', 'short_model_v6', 'short_model_v60', 'short_model_v90', 'short_model_van', 'short_model_vanagon', 'short_model_vandura', 'short_model_velar', 'short_model_veloster', 'short_model_venture', 'short_model_venza', 'short_model_veracruz', 'short_model_vibe', 'short_model_villager', 'short_model_vnl', 'short_model_volt', 'short_model_voyager', 'short_model_vtx1300c', 'short_model_vue', 'short_model_w350', 'short_model_willys', 'short_model_windstar', 'short_model_wrx', 'short_model_x-3', 'short_model_x-type', 'short_model_x1', 'short_model_x2', 'short_model_x3', 'short_model_x4', 'short_model_x6', 'short_model_xc', 'short_model_xc40', 'short_model_xc60', 'short_model_xc70', 'short_model_xe', 'short_model_xf', 'short_model_xj', 'short_model_xj-series', 'short_model_xj8', 'short_model_xk8', 'short_model_xt4', 'short_model_xt5', 'short_model_xt6', 'short_model_xterra', 'short_model_z', 'short_model_z3', 'short_model_zephyr', 'short_model_zx2', 'region_albany', 'region_altoona-johnstown', 'region_ames', 'region_ann arbor', 'region_annapolis', 'region_appleton-oshkosh-FDL', 'region_asheville', 'region_ashtabula', 'region_athens', 'region_atlanta', 'region_auburn', 'region_augusta', 'region_bakersfield', 'region_baltimore', 'region_baton rouge', 'region_battle creek', 'region_beaumont / port arthur', 'region_bellingham', 'region_bemidji', 'region_billings', 'region_binghamton', 'region_birmingham', 'region_bismarck', 'region_bloomington', 'region_bloomington-normal', 'region_boone', 'region_boston', 'region_brainerd', 'region_brunswick', 'region_butte', 'region_cape cod / islands', 'region_catskills', 'region_cedar rapids', 'region_central louisiana', 'region_central michigan', 'region_champaign urbana', 'region_charleston', 'region_charlottesville', 'region_chattanooga', 'region_chautauqua', 'region_chillicothe', 'region_clarksville', 'region_clovis / portales', 'region_college station', 'region_columbia', 'region_corpus christi', 'region_corvallis/albany', 'region_cumberland valley', 'region_danville', 'region_daytona beach', 'region_decatur', 'region_del rio / eagle pass', 'region_delaware', 'region_dothan', 'region_dubuque', 'region_duluth / superior', 'region_east oregon', 'region_eastern CO', 'region_eastern CT', 'region_eastern kentucky', 'region_eastern montana', 'region_eastern panhandle', 'region_eastern shore', 'region_eau claire', 'region_el paso', 'region_elko', 'region_eugene', 'region_evansville', 'region_fairbanks', 'region_fargo / moorhead', 'region_farmington', 'region_finger lakes', 'region_flagstaff / sedona', 'region_florence', 'region_florence / muscle shoals', 'region_florida keys', 'region_fort collins / north CO', 'region_fort dodge', 'region_fort smith', 'region_frederick', 'region_gadsden-anniston', 'region_galveston', 'region_glens falls', 'region_grand forks', 'region_grand island', 'region_grand rapids', 'region_great falls', 'region_green bay', 'region_greensboro', 'region_greenville / upstate', 'region_gulfport / biloxi', 'region_hanford-corcoran', 'region_harrisburg', 'region_harrisonburg', 'region_hattiesburg', 'region_hawaii', 'region_heartland florida', 'region_helena', 'region_hickory / lenoir', 'region_high rockies', 'region_holland', 'region_houma', 'region_hudson valley', 'region_humboldt county', 'region_huntington-ashland', 'region_imperial county', 'region_iowa city', 'region_ithaca', 'region_jackson', 'region_jacksonville', 'region_janesville', 'region_jersey shore', 'region_jonesboro', 'region_joplin', 'region_kenai peninsula', 'region_kennewick-pasco-richland', 'region_kenosha-racine', 'region_killeen / temple / ft hood', 'region_kirksville', 'region_klamath falls', 'region_kokomo', 'region_la salle co', 'region_lafayette', 'region_lafayette / west lafayette', 'region_lake charles', 'region_lake of the ozarks', 'region_lancaster', 'region_laredo', 'region_las cruces', 'region_lawton', 'region_lehigh valley', 'region_lewiston / clarkston', 'region_lima / findlay', 'region_lincoln', 'region_logan', 'region_louisville', 'region_lubbock', 'region_lynchburg', 'region_macon / warner robins', 'region_manhattan', 'region_mansfield', 'region_mason city', 'region_mattoon-charleston', 'region_mcallen / edinburg', 'region_meadville', 'region_medford-ashland', 'region_mendocino county', 'region_merced', 'region_milwaukee', 'region_mobile', 'region_modesto', 'region_mohave county', 'region_monroe', 'region_montgomery', 'region_morgantown', 'region_moses lake', 'region_muncie / anderson', 'region_muskegon', 'region_myrtle beach', 'region_new hampshire', 'region_new river valley', 'region_new york city', 'region_north central FL', 'region_north dakota', 'region_north jersey', 'region_north platte', 'region_northeast SD', 'region_northern WI', 'region_northern michigan', 'region_northern panhandle', 'region_northwest CT', 'region_northwest GA', 'region_northwest KS', 'region_northwest OK', 'region_ocala', 'region_odessa / midland', 'region_ogden-clearfield', 'region_okaloosa / walton', 'region_oklahoma city', 'region_oneonta', 'region_orange county', 'region_oregon coast', 'region_outer banks', 'region_owensboro', 'region_panama city', 'region_parkersburg-marietta', 'region_pensacola', 'region_peoria', 'region_philadelphia', 'region_pierre / central SD', 'region_plattsburgh-adirondacks', 'region_poconos', 'region_port huron', 'region_potsdam-canton-massena', 'region_prescott', 'region_pullman / moscow', 'region_quad cities, IA/IL', 'region_rapid city / west SD', 'region_reading', 'region_rhode island', 'region_rockford', 'region_roseburg', 'region_salina', 'region_salt lake city', 'region_san angelo', 'region_san luis obispo', 'region_san marcos', 'region_santa barbara', 'region_santa maria', 'region_savannah / hinesville', 'region_scottsbluff / panhandle', 'region_scranton / wilkes-barre', 'region_sheboygan', 'region_show low', 'region_shreveport', 'region_sierra vista', 'region_sioux city', 'region_sioux falls / SE SD', 'region_siskiyou county', 'region_skagit / island / SJI', 'region_south bend / michiana', 'region_south coast', 'region_southeast IA', 'region_southeast missouri', 'region_southern WV', 'region_southern maryland', 'region_southwest KS', 'region_southwest MN', 'region_southwest MS', 'region_southwest VA', 'region_southwest michigan', 'region_space coast', 'region_st augustine', 'region_st george', 'region_st joseph', 'region_state college', 'region_statesboro', 'region_stillwater', 'region_stockton', 'region_susanville', 'region_syracuse', 'region_tallahassee', 'region_terre haute', 'region_texoma', 'region_the thumb', 'region_toledo', 'region_topeka', 'region_treasure coast', 'region_tuscarawas co', 'region_twin tiers NY/PA', 'region_tyler / east TX', 'region_upper peninsula', 'region_utica-rome-oneida', 'region_valdosta', 'region_victoria', 'region_waco', 'region_washington, DC', 'region_waterloo / cedar falls', 'region_watertown', 'region_wausau', 'region_western KY', 'region_western maryland', 'region_western slope', 'region_wichita falls', 'region_williamsport', 'region_wilmington', 'region_winchester', 'region_wyoming', 'region_york', 'region_youngstown', 'region_yuma', 'manufacturer_alfa-romeo', 'manufacturer_audi', 'manufacturer_datsun', 'manufacturer_ferrari', 'manufacturer_harley-davidson', 'manufacturer_jaguar', 'manufacturer_mercury', 'manufacturer_mini', 'manufacturer_pontiac', 'manufacturer_porsche', 'manufacturer_saturn', 'manufacturer_subaru', 'manufacturer_tesla', 'state_ak', 'state_al', 'state_ar', 'state_dc', 'state_ga', 'state_in', 'state_la', 'state_nd', 'state_nv', 'state_ri', 'state_ut', 'state_wa', 'state_wy', 'title_status_missing', 'title_status_parts only']\n"
     ]
    }
   ],
   "source": [
    "f_imp_list_zero=[]\n",
    "for i in range(len(f_imp_list)):\n",
    "    if f_imp_list[i][1]==0:\n",
    "        f_imp_list_zero.append(f_imp_list[i][0])\n",
    "print(f_imp_list_zero)"
   ]
  },
  {
   "cell_type": "code",
   "execution_count": 23,
   "metadata": {
    "scrolled": true
   },
   "outputs": [
    {
     "data": {
      "text/plain": [
       "1461"
      ]
     },
     "execution_count": 23,
     "metadata": {},
     "output_type": "execute_result"
    }
   ],
   "source": [
    "len(df_prepared.columns)"
   ]
  },
  {
   "cell_type": "code",
   "execution_count": 24,
   "metadata": {},
   "outputs": [
    {
     "data": {
      "text/plain": [
       "1095"
      ]
     },
     "execution_count": 24,
     "metadata": {},
     "output_type": "execute_result"
    }
   ],
   "source": [
    "len(f_imp_list_zero)"
   ]
  },
  {
   "cell_type": "code",
   "execution_count": 25,
   "metadata": {},
   "outputs": [
    {
     "data": {
      "text/plain": [
       "1461"
      ]
     },
     "execution_count": 25,
     "metadata": {},
     "output_type": "execute_result"
    }
   ],
   "source": [
    "len(df_prepared.columns)"
   ]
  },
  {
   "cell_type": "code",
   "execution_count": 26,
   "metadata": {},
   "outputs": [],
   "source": [
    "s=f_imp_list"
   ]
  },
  {
   "cell_type": "code",
   "execution_count": 27,
   "metadata": {},
   "outputs": [],
   "source": [
    "\n",
    "df_prepared1 = df.copy()\n",
    "df_prepared1 = df_prepared.drop(f_imp_list_zero, axis=1)\n",
    "\n",
    "x = df_prepared1.drop(['price_category'], axis=1)\n",
    "y = df_prepared1['price_category']\n",
    "\n",
    "x_train, x_test, y_train, y_test = train_test_split(x, y, test_size=0.3, random_state=42)"
   ]
  },
  {
   "cell_type": "code",
   "execution_count": 28,
   "metadata": {},
   "outputs": [
    {
     "data": {
      "text/plain": [
       "DecisionTreeClassifier()"
      ]
     },
     "execution_count": 28,
     "metadata": {},
     "output_type": "execute_result"
    }
   ],
   "source": [
    "\n",
    "clf = DecisionTreeClassifier() \n",
    "clf.fit(x_train, y_train)"
   ]
  },
  {
   "cell_type": "code",
   "execution_count": 29,
   "metadata": {},
   "outputs": [],
   "source": [
    "predicted_train = clf.predict(x_train) \n",
    "predicted_test = clf.predict(x_test)"
   ]
  },
  {
   "cell_type": "code",
   "execution_count": 30,
   "metadata": {},
   "outputs": [
    {
     "name": "stdout",
     "output_type": "stream",
     "text": [
      "1.0\n",
      "0.6704781704781705\n"
     ]
    }
   ],
   "source": [
    "print(accuracy_score(y_train, predicted_train))\n",
    "print(accuracy_score(y_test, predicted_test))"
   ]
  },
  {
   "cell_type": "code",
   "execution_count": 31,
   "metadata": {},
   "outputs": [
    {
     "data": {
      "text/plain": [
       "array([[739,  55, 203],\n",
       "       [ 41, 675, 237],\n",
       "       [189, 226, 521]], dtype=int64)"
      ]
     },
     "execution_count": 31,
     "metadata": {},
     "output_type": "execute_result"
    }
   ],
   "source": [
    "confusion_matrix(y_test, predicted_test)"
   ]
  },
  {
   "cell_type": "markdown",
   "metadata": {
    "id": "SgN87pCNe9Sp"
   },
   "source": [
    "1. *Подготовка модели случайного леса*\n",
    "\n",
    "Обучите простую модель классификации с помощью RandomForestClassifier. Для этого сделайте следующие шаги:\n",
    "1. На новых урезанных семплах тренировочной и тестовой выборок обучите модель случайного леса с зафиксированным random_state=50. \n",
    "\n",
    "2. Сделайте предикт и посчитайте точность модели и матрицу ошибок. Сравните с предыдущей моделью дерева решений. Есть ли случаи, когда модель из пункта 1 отрабатывает лучше, чем модель случайного леса?"
   ]
  },
  {
   "cell_type": "code",
   "execution_count": 32,
   "metadata": {
    "id": "V-8MUDTbfxdS"
   },
   "outputs": [
    {
     "data": {
      "text/plain": [
       "RandomForestClassifier()"
      ]
     },
     "execution_count": 32,
     "metadata": {},
     "output_type": "execute_result"
    }
   ],
   "source": [
    "\n",
    "# Ваш код здесь \n",
    "from sklearn.ensemble import RandomForestClassifier\n",
    "x_train, x_test, y_train, y_test = train_test_split(x, y, test_size=0.3, random_state=50)\n",
    "rt_clf = RandomForestClassifier()\n",
    "rt_clf.fit(x_train, y_train)\n"
   ]
  },
  {
   "cell_type": "code",
   "execution_count": 33,
   "metadata": {},
   "outputs": [],
   "source": [
    "\n",
    "predicted_train_rf1 = rt_clf.predict(x_train)\n",
    "predicted_test_rf1 = rt_clf.predict(x_test)\n"
   ]
  },
  {
   "cell_type": "code",
   "execution_count": 34,
   "metadata": {},
   "outputs": [
    {
     "name": "stdout",
     "output_type": "stream",
     "text": [
      "1.0\n",
      "0.7557172557172557\n"
     ]
    }
   ],
   "source": [
    "\n",
    "print(accuracy_score(y_train, predicted_train_rf1))\n",
    "print(accuracy_score(y_test, predicted_test_rf1))"
   ]
  },
  {
   "cell_type": "code",
   "execution_count": 35,
   "metadata": {},
   "outputs": [
    {
     "data": {
      "text/plain": [
       "array([[301, 324, 321],\n",
       "       [319, 344, 312],\n",
       "       [349, 288, 328]], dtype=int64)"
      ]
     },
     "execution_count": 35,
     "metadata": {},
     "output_type": "execute_result"
    }
   ],
   "source": [
    "confusion_matrix(y_test, predicted_test)"
   ]
  },
  {
   "cell_type": "markdown",
   "metadata": {
    "id": "fwApI_vhkQE6"
   },
   "source": [
    "2. *Тюнинг модели случайного леса*\n",
    "\n",
    "Увеличьте точность модели на тестовом датасете RandomForestClassifier c помощью тюнинга параметров. \n",
    "\n",
    "Параметры, которые можно настраивать для увеличения точности:\n",
    "\n",
    "```\n",
    "    `bootstrap'\n",
    "    'max_depth'\n",
    "    'max_features'\n",
    "    'min_samples_leaf'\n",
    "    'min_samples_split'\n",
    "    'random_state'\n",
    "    'n_estimators'\n",
    "\n",
    "```\n",
    "\n",
    "\n",
    "\n",
    "С описанием каждого из параметров можно ознакомиться в документации:\n",
    "\n",
    "\n",
    "https://scikit-learn.org/stable/modules/generated/sklearn.ensemble.RandomForestClassifier.html\n",
    "\n",
    "Задание засчитывается, если значение метрики строго выше 0,76 на тестовом датасете."
   ]
  },
  {
   "cell_type": "code",
   "execution_count": null,
   "metadata": {},
   "outputs": [],
   "source": []
  },
  {
   "cell_type": "code",
   "execution_count": 36,
   "metadata": {
    "id": "idrArCdef3nr",
    "scrolled": true
   },
   "outputs": [
    {
     "data": {
      "text/plain": [
       "RandomForestClassifier()"
      ]
     },
     "execution_count": 36,
     "metadata": {},
     "output_type": "execute_result"
    }
   ],
   "source": [
    "# Ваш код здесь \n",
    "from sklearn.ensemble import RandomForestClassifier\n",
    "x_train, x_test, y_train, y_test = train_test_split(x, y, test_size=0.3,random_state=50)\n",
    "rt_clf2 = RandomForestClassifier(n_estimators=100)\n",
    "rt_clf2.fit(x_train, y_train)\n"
   ]
  },
  {
   "cell_type": "code",
   "execution_count": 37,
   "metadata": {},
   "outputs": [],
   "source": [
    "predicted_train_rf2 = rt_clf2.predict(x_train)\n",
    "predicted_test_rf2 = rt_clf2.predict(x_test)"
   ]
  },
  {
   "cell_type": "code",
   "execution_count": 38,
   "metadata": {},
   "outputs": [
    {
     "name": "stdout",
     "output_type": "stream",
     "text": [
      "1.0\n",
      "0.7557172557172557\n"
     ]
    }
   ],
   "source": [
    "\n",
    "print(accuracy_score(y_train, predicted_train_rf1))\n",
    "print(accuracy_score(y_test, predicted_test_rf1))"
   ]
  },
  {
   "cell_type": "code",
   "execution_count": 39,
   "metadata": {},
   "outputs": [
    {
     "name": "stdout",
     "output_type": "stream",
     "text": [
      "1.0\n",
      "0.7557172557172557\n"
     ]
    }
   ],
   "source": [
    "x_train, x_test, y_train, y_test = train_test_split(x, y, test_size=0.3,random_state=50)\n",
    "rt_clf2 = RandomForestClassifier(bootstrap=True,n_estimators=100)\n",
    "rt_clf2.fit(x_train, y_train)\n",
    "predicted_train_rf2 = rt_clf2.predict(x_train)\n",
    "predicted_test_rf2 = rt_clf2.predict(x_test)\n",
    "print(accuracy_score(y_train, predicted_train_rf1))\n",
    "print(accuracy_score(y_test, predicted_test_rf1))"
   ]
  },
  {
   "cell_type": "code",
   "execution_count": 40,
   "metadata": {},
   "outputs": [
    {
     "name": "stdout",
     "output_type": "stream",
     "text": [
      "1.0\n",
      "0.7557172557172557\n"
     ]
    }
   ],
   "source": [
    "rt_clf2 = RandomForestClassifier(max_features='sqrt',max_depth=None,bootstrap=True,n_estimators=100)\n",
    "rt_clf2.fit(x_train, y_train)\n",
    "predicted_train_rf2 = rt_clf2.predict(x_train)\n",
    "predicted_test_rf2 = rt_clf2.predict(x_test)\n",
    "print(accuracy_score(y_train, predicted_train_rf1))\n",
    "print(accuracy_score(y_test, predicted_test_rf1))"
   ]
  },
  {
   "cell_type": "code",
   "execution_count": 41,
   "metadata": {},
   "outputs": [
    {
     "name": "stdout",
     "output_type": "stream",
     "text": [
      "1.0\n",
      "0.7557172557172557\n"
     ]
    }
   ],
   "source": [
    "rt_clf2 = RandomForestClassifier(min_samples_leaf=1,max_features='sqrt',max_depth=None,bootstrap=True,n_estimators=100)\n",
    "rt_clf2.fit(x_train, y_train)\n",
    "predicted_train_rf2 = rt_clf2.predict(x_train)\n",
    "predicted_test_rf2 = rt_clf2.predict(x_test)\n",
    "print(accuracy_score(y_train, predicted_train_rf1))\n",
    "print(accuracy_score(y_test, predicted_test_rf1))"
   ]
  },
  {
   "cell_type": "code",
   "execution_count": 42,
   "metadata": {},
   "outputs": [
    {
     "name": "stdout",
     "output_type": "stream",
     "text": [
      "1.0\n",
      "0.7557172557172557\n"
     ]
    }
   ],
   "source": [
    "rt_clf2 = RandomForestClassifier(min_samples_split=2, min_samples_leaf=1,max_features='sqrt',max_depth=None,bootstrap=True,n_estimators=100)\n",
    "rt_clf2.fit(x_train, y_train)\n",
    "predicted_train_rf2 = rt_clf2.predict(x_train)\n",
    "predicted_test_rf2 = rt_clf2.predict(x_test)\n",
    "print(accuracy_score(y_train, predicted_train_rf1))\n",
    "print(accuracy_score(y_test, predicted_test_rf1))"
   ]
  },
  {
   "cell_type": "code",
   "execution_count": 43,
   "metadata": {},
   "outputs": [
    {
     "name": "stdout",
     "output_type": "stream",
     "text": [
      "1.0\n",
      "0.7557172557172557\n"
     ]
    }
   ],
   "source": [
    "rt_clf2 = RandomForestClassifier(random_state=None,min_samples_split=2, min_samples_leaf=1,max_features='sqrt',max_depth=None,bootstrap=True,n_estimators=100)\n",
    "rt_clf2.fit(x_train, y_train)\n",
    "predicted_train_rf2 = rt_clf2.predict(x_train)\n",
    "predicted_test_rf2 = rt_clf2.predict(x_test)\n",
    "print(accuracy_score(y_train, predicted_train_rf1))\n",
    "print(accuracy_score(y_test, predicted_test_rf1))"
   ]
  },
  {
   "cell_type": "markdown",
   "metadata": {
    "id": "IZaDD5F9h9iu"
   },
   "source": [
    "3. *Анализ влияния фичей на модель*\n",
    "\n",
    "Во всех задачах до вы работали над подготовленным датасетом, где фичи были заранее извлечены из текстовых переменных, отскейлены и пропущены через One Hot Encoder. Сравним, какой была бы предсказательная способность модели, если бы мы использовали только сырые данные из исходного датасета. Для этого проделайте следующие шаги:\n",
    "\n",
    "1. Загрузите датасет `vehicles_dataset_old.csv`.\n",
    "2. Удалите из него переменную `price` и все строковые колонки. Дерево решений и случайный лес не умеют самостоятельно работать со строковыми значениями.\n",
    "3. Сформируйте x_train и x_test так же, как они были сформированы в предыдущих заданиях.\n",
    "4. Обучите свою лучшую модель случайного леса на новых данных и замерьте качество. Убедитесь, что оно ухудшилось.\n",
    "5. Найдите три фичи, которые лучшим образом повлияли на предсказательную способность модели."
   ]
  },
  {
   "cell_type": "code",
   "execution_count": 44,
   "metadata": {
    "colab": {
     "base_uri": "https://localhost:8080/",
     "height": 530
    },
    "id": "ZU1RX06Fh-FM",
    "outputId": "b6e57d99-ced6-453f-b59a-1da6b37d9f67"
   },
   "outputs": [
    {
     "data": {
      "text/html": [
       "<div>\n",
       "<style scoped>\n",
       "    .dataframe tbody tr th:only-of-type {\n",
       "        vertical-align: middle;\n",
       "    }\n",
       "\n",
       "    .dataframe tbody tr th {\n",
       "        vertical-align: top;\n",
       "    }\n",
       "\n",
       "    .dataframe thead th {\n",
       "        text-align: right;\n",
       "    }\n",
       "</style>\n",
       "<table border=\"1\" class=\"dataframe\">\n",
       "  <thead>\n",
       "    <tr style=\"text-align: right;\">\n",
       "      <th></th>\n",
       "      <th>id</th>\n",
       "      <th>url</th>\n",
       "      <th>region</th>\n",
       "      <th>region_url</th>\n",
       "      <th>price</th>\n",
       "      <th>year</th>\n",
       "      <th>manufacturer</th>\n",
       "      <th>model</th>\n",
       "      <th>fuel</th>\n",
       "      <th>odometer</th>\n",
       "      <th>title_status</th>\n",
       "      <th>transmission</th>\n",
       "      <th>image_url</th>\n",
       "      <th>description</th>\n",
       "      <th>state</th>\n",
       "      <th>lat</th>\n",
       "      <th>long</th>\n",
       "      <th>posting_date</th>\n",
       "      <th>price_category</th>\n",
       "      <th>date</th>\n",
       "    </tr>\n",
       "  </thead>\n",
       "  <tbody>\n",
       "    <tr>\n",
       "      <th>0</th>\n",
       "      <td>7308295377</td>\n",
       "      <td>https://chattanooga.craigslist.org/ctd/d/chatt...</td>\n",
       "      <td>chattanooga</td>\n",
       "      <td>https://chattanooga.craigslist.org</td>\n",
       "      <td>54990</td>\n",
       "      <td>2020</td>\n",
       "      <td>ram</td>\n",
       "      <td>2500 crew cab big horn</td>\n",
       "      <td>diesel</td>\n",
       "      <td>27442</td>\n",
       "      <td>clean</td>\n",
       "      <td>other</td>\n",
       "      <td>https://images.craigslist.org/00N0N_1xMPvfxRAI...</td>\n",
       "      <td>Carvana is the safer way to buy a car During t...</td>\n",
       "      <td>tn</td>\n",
       "      <td>35.060000</td>\n",
       "      <td>-85.250000</td>\n",
       "      <td>2021-04-17T12:30:50-0400</td>\n",
       "      <td>high</td>\n",
       "      <td>2021-04-17 16:30:50+00:00</td>\n",
       "    </tr>\n",
       "    <tr>\n",
       "      <th>1</th>\n",
       "      <td>7316380095</td>\n",
       "      <td>https://newjersey.craigslist.org/ctd/d/carlsta...</td>\n",
       "      <td>north jersey</td>\n",
       "      <td>https://newjersey.craigslist.org</td>\n",
       "      <td>16942</td>\n",
       "      <td>2016</td>\n",
       "      <td>ford</td>\n",
       "      <td>explorer 4wd 4dr xlt</td>\n",
       "      <td>other</td>\n",
       "      <td>60023</td>\n",
       "      <td>clean</td>\n",
       "      <td>automatic</td>\n",
       "      <td>https://images.craigslist.org/00x0x_26jl9F0cnL...</td>\n",
       "      <td>***Call Us for more information at: 201-635-14...</td>\n",
       "      <td>nj</td>\n",
       "      <td>40.821805</td>\n",
       "      <td>-74.061962</td>\n",
       "      <td>2021-05-03T15:40:21-0400</td>\n",
       "      <td>medium</td>\n",
       "      <td>2021-05-03 19:40:21+00:00</td>\n",
       "    </tr>\n",
       "    <tr>\n",
       "      <th>2</th>\n",
       "      <td>7313733749</td>\n",
       "      <td>https://reno.craigslist.org/ctd/d/atlanta-2017...</td>\n",
       "      <td>reno / tahoe</td>\n",
       "      <td>https://reno.craigslist.org</td>\n",
       "      <td>35590</td>\n",
       "      <td>2017</td>\n",
       "      <td>volkswagen</td>\n",
       "      <td>golf r hatchback</td>\n",
       "      <td>gas</td>\n",
       "      <td>14048</td>\n",
       "      <td>clean</td>\n",
       "      <td>other</td>\n",
       "      <td>https://images.craigslist.org/00y0y_eeZjWeiSfb...</td>\n",
       "      <td>Carvana is the safer way to buy a car During t...</td>\n",
       "      <td>ca</td>\n",
       "      <td>33.779214</td>\n",
       "      <td>-84.411811</td>\n",
       "      <td>2021-04-28T03:52:20-0700</td>\n",
       "      <td>high</td>\n",
       "      <td>2021-04-28 10:52:20+00:00</td>\n",
       "    </tr>\n",
       "    <tr>\n",
       "      <th>3</th>\n",
       "      <td>7308210929</td>\n",
       "      <td>https://fayetteville.craigslist.org/ctd/d/rale...</td>\n",
       "      <td>fayetteville</td>\n",
       "      <td>https://fayetteville.craigslist.org</td>\n",
       "      <td>14500</td>\n",
       "      <td>2013</td>\n",
       "      <td>toyota</td>\n",
       "      <td>rav4</td>\n",
       "      <td>gas</td>\n",
       "      <td>117291</td>\n",
       "      <td>clean</td>\n",
       "      <td>automatic</td>\n",
       "      <td>https://images.craigslist.org/00606_iGe5iXidib...</td>\n",
       "      <td>2013 Toyota RAV4 XLE 4dr SUV     Offered by: R...</td>\n",
       "      <td>nc</td>\n",
       "      <td>35.715954</td>\n",
       "      <td>-78.655304</td>\n",
       "      <td>2021-04-17T10:08:57-0400</td>\n",
       "      <td>medium</td>\n",
       "      <td>2021-04-17 14:08:57+00:00</td>\n",
       "    </tr>\n",
       "    <tr>\n",
       "      <th>4</th>\n",
       "      <td>7303797340</td>\n",
       "      <td>https://knoxville.craigslist.org/ctd/d/knoxvil...</td>\n",
       "      <td>knoxville</td>\n",
       "      <td>https://knoxville.craigslist.org</td>\n",
       "      <td>14590</td>\n",
       "      <td>2012</td>\n",
       "      <td>bmw</td>\n",
       "      <td>1 series 128i coupe 2d</td>\n",
       "      <td>other</td>\n",
       "      <td>80465</td>\n",
       "      <td>clean</td>\n",
       "      <td>other</td>\n",
       "      <td>https://images.craigslist.org/00F0F_5UAXmOzC18...</td>\n",
       "      <td>Carvana is the safer way to buy a car During t...</td>\n",
       "      <td>tn</td>\n",
       "      <td>35.970000</td>\n",
       "      <td>-83.940000</td>\n",
       "      <td>2021-04-08T15:10:56-0400</td>\n",
       "      <td>medium</td>\n",
       "      <td>2021-04-08 19:10:56+00:00</td>\n",
       "    </tr>\n",
       "  </tbody>\n",
       "</table>\n",
       "</div>"
      ],
      "text/plain": [
       "           id                                                url  \\\n",
       "0  7308295377  https://chattanooga.craigslist.org/ctd/d/chatt...   \n",
       "1  7316380095  https://newjersey.craigslist.org/ctd/d/carlsta...   \n",
       "2  7313733749  https://reno.craigslist.org/ctd/d/atlanta-2017...   \n",
       "3  7308210929  https://fayetteville.craigslist.org/ctd/d/rale...   \n",
       "4  7303797340  https://knoxville.craigslist.org/ctd/d/knoxvil...   \n",
       "\n",
       "         region                           region_url  price  year  \\\n",
       "0   chattanooga   https://chattanooga.craigslist.org  54990  2020   \n",
       "1  north jersey     https://newjersey.craigslist.org  16942  2016   \n",
       "2  reno / tahoe          https://reno.craigslist.org  35590  2017   \n",
       "3  fayetteville  https://fayetteville.craigslist.org  14500  2013   \n",
       "4     knoxville     https://knoxville.craigslist.org  14590  2012   \n",
       "\n",
       "  manufacturer                   model    fuel  odometer title_status  \\\n",
       "0          ram  2500 crew cab big horn  diesel     27442        clean   \n",
       "1         ford    explorer 4wd 4dr xlt   other     60023        clean   \n",
       "2   volkswagen        golf r hatchback     gas     14048        clean   \n",
       "3       toyota                    rav4     gas    117291        clean   \n",
       "4          bmw  1 series 128i coupe 2d   other     80465        clean   \n",
       "\n",
       "  transmission                                          image_url  \\\n",
       "0        other  https://images.craigslist.org/00N0N_1xMPvfxRAI...   \n",
       "1    automatic  https://images.craigslist.org/00x0x_26jl9F0cnL...   \n",
       "2        other  https://images.craigslist.org/00y0y_eeZjWeiSfb...   \n",
       "3    automatic  https://images.craigslist.org/00606_iGe5iXidib...   \n",
       "4        other  https://images.craigslist.org/00F0F_5UAXmOzC18...   \n",
       "\n",
       "                                         description state        lat  \\\n",
       "0  Carvana is the safer way to buy a car During t...    tn  35.060000   \n",
       "1  ***Call Us for more information at: 201-635-14...    nj  40.821805   \n",
       "2  Carvana is the safer way to buy a car During t...    ca  33.779214   \n",
       "3  2013 Toyota RAV4 XLE 4dr SUV     Offered by: R...    nc  35.715954   \n",
       "4  Carvana is the safer way to buy a car During t...    tn  35.970000   \n",
       "\n",
       "        long              posting_date price_category  \\\n",
       "0 -85.250000  2021-04-17T12:30:50-0400           high   \n",
       "1 -74.061962  2021-05-03T15:40:21-0400         medium   \n",
       "2 -84.411811  2021-04-28T03:52:20-0700           high   \n",
       "3 -78.655304  2021-04-17T10:08:57-0400         medium   \n",
       "4 -83.940000  2021-04-08T15:10:56-0400         medium   \n",
       "\n",
       "                        date  \n",
       "0  2021-04-17 16:30:50+00:00  \n",
       "1  2021-05-03 19:40:21+00:00  \n",
       "2  2021-04-28 10:52:20+00:00  \n",
       "3  2021-04-17 14:08:57+00:00  \n",
       "4  2021-04-08 19:10:56+00:00  "
      ]
     },
     "execution_count": 44,
     "metadata": {},
     "output_type": "execute_result"
    }
   ],
   "source": [
    "df_old = pd.read_csv(r'C:\\Users\\user\\vehicles_dataset_old.csv')\n",
    "df_old.head()"
   ]
  },
  {
   "cell_type": "code",
   "execution_count": 45,
   "metadata": {
    "id": "zfvSGcFlqi-j"
   },
   "outputs": [],
   "source": [
    "# Ваш код здесь \n",
    "df_old= df_old.drop(['price'], axis=1)"
   ]
  },
  {
   "cell_type": "code",
   "execution_count": 46,
   "metadata": {},
   "outputs": [
    {
     "name": "stdout",
     "output_type": "stream",
     "text": [
      "<class 'pandas.core.frame.DataFrame'>\n",
      "RangeIndex: 9619 entries, 0 to 9618\n",
      "Data columns (total 19 columns):\n",
      " #   Column          Non-Null Count  Dtype  \n",
      "---  ------          --------------  -----  \n",
      " 0   id              9619 non-null   int64  \n",
      " 1   url             9619 non-null   object \n",
      " 2   region          9619 non-null   object \n",
      " 3   region_url      9619 non-null   object \n",
      " 4   year            9619 non-null   int64  \n",
      " 5   manufacturer    9619 non-null   object \n",
      " 6   model           9619 non-null   object \n",
      " 7   fuel            9619 non-null   object \n",
      " 8   odometer        9619 non-null   int64  \n",
      " 9   title_status    9619 non-null   object \n",
      " 10  transmission    9619 non-null   object \n",
      " 11  image_url       9619 non-null   object \n",
      " 12  description     9619 non-null   object \n",
      " 13  state           9619 non-null   object \n",
      " 14  lat             9619 non-null   float64\n",
      " 15  long            9619 non-null   float64\n",
      " 16  posting_date    9619 non-null   object \n",
      " 17  price_category  9619 non-null   object \n",
      " 18  date            9619 non-null   object \n",
      "dtypes: float64(2), int64(3), object(14)\n",
      "memory usage: 1.4+ MB\n"
     ]
    }
   ],
   "source": [
    "df_old.info()"
   ]
  },
  {
   "cell_type": "code",
   "execution_count": 47,
   "metadata": {},
   "outputs": [],
   "source": [
    "df_old = df_old.select_dtypes(exclude=['object'])"
   ]
  },
  {
   "cell_type": "code",
   "execution_count": 48,
   "metadata": {},
   "outputs": [
    {
     "data": {
      "text/html": [
       "<div>\n",
       "<style scoped>\n",
       "    .dataframe tbody tr th:only-of-type {\n",
       "        vertical-align: middle;\n",
       "    }\n",
       "\n",
       "    .dataframe tbody tr th {\n",
       "        vertical-align: top;\n",
       "    }\n",
       "\n",
       "    .dataframe thead th {\n",
       "        text-align: right;\n",
       "    }\n",
       "</style>\n",
       "<table border=\"1\" class=\"dataframe\">\n",
       "  <thead>\n",
       "    <tr style=\"text-align: right;\">\n",
       "      <th></th>\n",
       "      <th>id</th>\n",
       "      <th>year</th>\n",
       "      <th>odometer</th>\n",
       "      <th>lat</th>\n",
       "      <th>long</th>\n",
       "    </tr>\n",
       "  </thead>\n",
       "  <tbody>\n",
       "    <tr>\n",
       "      <th>0</th>\n",
       "      <td>7308295377</td>\n",
       "      <td>2020</td>\n",
       "      <td>27442</td>\n",
       "      <td>35.060000</td>\n",
       "      <td>-85.250000</td>\n",
       "    </tr>\n",
       "    <tr>\n",
       "      <th>1</th>\n",
       "      <td>7316380095</td>\n",
       "      <td>2016</td>\n",
       "      <td>60023</td>\n",
       "      <td>40.821805</td>\n",
       "      <td>-74.061962</td>\n",
       "    </tr>\n",
       "    <tr>\n",
       "      <th>2</th>\n",
       "      <td>7313733749</td>\n",
       "      <td>2017</td>\n",
       "      <td>14048</td>\n",
       "      <td>33.779214</td>\n",
       "      <td>-84.411811</td>\n",
       "    </tr>\n",
       "    <tr>\n",
       "      <th>3</th>\n",
       "      <td>7308210929</td>\n",
       "      <td>2013</td>\n",
       "      <td>117291</td>\n",
       "      <td>35.715954</td>\n",
       "      <td>-78.655304</td>\n",
       "    </tr>\n",
       "    <tr>\n",
       "      <th>4</th>\n",
       "      <td>7303797340</td>\n",
       "      <td>2012</td>\n",
       "      <td>80465</td>\n",
       "      <td>35.970000</td>\n",
       "      <td>-83.940000</td>\n",
       "    </tr>\n",
       "    <tr>\n",
       "      <th>...</th>\n",
       "      <td>...</td>\n",
       "      <td>...</td>\n",
       "      <td>...</td>\n",
       "      <td>...</td>\n",
       "      <td>...</td>\n",
       "    </tr>\n",
       "    <tr>\n",
       "      <th>9614</th>\n",
       "      <td>7304876387</td>\n",
       "      <td>2002</td>\n",
       "      <td>150000</td>\n",
       "      <td>42.123900</td>\n",
       "      <td>-79.189500</td>\n",
       "    </tr>\n",
       "    <tr>\n",
       "      <th>9615</th>\n",
       "      <td>7316152972</td>\n",
       "      <td>2008</td>\n",
       "      <td>113573</td>\n",
       "      <td>43.216990</td>\n",
       "      <td>-77.755610</td>\n",
       "    </tr>\n",
       "    <tr>\n",
       "      <th>9616</th>\n",
       "      <td>7310993818</td>\n",
       "      <td>2011</td>\n",
       "      <td>150184</td>\n",
       "      <td>44.925908</td>\n",
       "      <td>-122.982753</td>\n",
       "    </tr>\n",
       "    <tr>\n",
       "      <th>9617</th>\n",
       "      <td>7306637427</td>\n",
       "      <td>2015</td>\n",
       "      <td>61943</td>\n",
       "      <td>43.029559</td>\n",
       "      <td>-89.397796</td>\n",
       "    </tr>\n",
       "    <tr>\n",
       "      <th>9618</th>\n",
       "      <td>7311960763</td>\n",
       "      <td>2017</td>\n",
       "      <td>35921</td>\n",
       "      <td>36.670000</td>\n",
       "      <td>-76.300000</td>\n",
       "    </tr>\n",
       "  </tbody>\n",
       "</table>\n",
       "<p>9619 rows × 5 columns</p>\n",
       "</div>"
      ],
      "text/plain": [
       "              id  year  odometer        lat        long\n",
       "0     7308295377  2020     27442  35.060000  -85.250000\n",
       "1     7316380095  2016     60023  40.821805  -74.061962\n",
       "2     7313733749  2017     14048  33.779214  -84.411811\n",
       "3     7308210929  2013    117291  35.715954  -78.655304\n",
       "4     7303797340  2012     80465  35.970000  -83.940000\n",
       "...          ...   ...       ...        ...         ...\n",
       "9614  7304876387  2002    150000  42.123900  -79.189500\n",
       "9615  7316152972  2008    113573  43.216990  -77.755610\n",
       "9616  7310993818  2011    150184  44.925908 -122.982753\n",
       "9617  7306637427  2015     61943  43.029559  -89.397796\n",
       "9618  7311960763  2017     35921  36.670000  -76.300000\n",
       "\n",
       "[9619 rows x 5 columns]"
      ]
     },
     "execution_count": 48,
     "metadata": {},
     "output_type": "execute_result"
    }
   ],
   "source": [
    "df_old"
   ]
  },
  {
   "cell_type": "code",
   "execution_count": 49,
   "metadata": {},
   "outputs": [],
   "source": [
    "df_prepared = df_old.copy()\n",
    "\n",
    "x = df_prepared\n",
    "\n",
    "x_train1, x_test1 = train_test_split(x, test_size=0.5, random_state=42)"
   ]
  },
  {
   "cell_type": "code",
   "execution_count": 50,
   "metadata": {},
   "outputs": [
    {
     "ename": "ValueError",
     "evalue": "Found input variables with inconsistent numbers of samples: [4809, 4810]",
     "output_type": "error",
     "traceback": [
      "\u001b[1;31m---------------------------------------------------------------------------\u001b[0m",
      "\u001b[1;31mValueError\u001b[0m                                Traceback (most recent call last)",
      "\u001b[1;32m~\\AppData\\Local\\Temp\\ipykernel_8572\\3299864584.py\u001b[0m in \u001b[0;36m<module>\u001b[1;34m\u001b[0m\n\u001b[1;32m----> 1\u001b[1;33m \u001b[0mrt_clf2\u001b[0m\u001b[1;33m.\u001b[0m\u001b[0mfit\u001b[0m\u001b[1;33m(\u001b[0m\u001b[0mx_train1\u001b[0m\u001b[1;33m,\u001b[0m \u001b[0mx_test1\u001b[0m\u001b[1;33m)\u001b[0m\u001b[1;33m\u001b[0m\u001b[1;33m\u001b[0m\u001b[0m\n\u001b[0m\u001b[0;32m      2\u001b[0m \u001b[1;33m\u001b[0m\u001b[0m\n\u001b[0;32m      3\u001b[0m \u001b[0mpredicted_train_rf2\u001b[0m \u001b[1;33m=\u001b[0m \u001b[0mrt_clf2\u001b[0m\u001b[1;33m.\u001b[0m\u001b[0mpredict\u001b[0m\u001b[1;33m(\u001b[0m\u001b[0mx_train1\u001b[0m\u001b[1;33m)\u001b[0m\u001b[1;33m\u001b[0m\u001b[1;33m\u001b[0m\u001b[0m\n\u001b[0;32m      4\u001b[0m \u001b[0mpredicted_test_rf2\u001b[0m \u001b[1;33m=\u001b[0m \u001b[0mrt_clf2\u001b[0m\u001b[1;33m.\u001b[0m\u001b[0mpredict\u001b[0m\u001b[1;33m(\u001b[0m\u001b[0mx_test1\u001b[0m\u001b[1;33m)\u001b[0m\u001b[1;33m\u001b[0m\u001b[1;33m\u001b[0m\u001b[0m\n\u001b[0;32m      5\u001b[0m \u001b[1;33m\u001b[0m\u001b[0m\n",
      "\u001b[1;32m~\\anaconda3\\lib\\site-packages\\sklearn\\ensemble\\_forest.py\u001b[0m in \u001b[0;36mfit\u001b[1;34m(self, X, y, sample_weight)\u001b[0m\n\u001b[0;32m    325\u001b[0m         \u001b[1;32mif\u001b[0m \u001b[0missparse\u001b[0m\u001b[1;33m(\u001b[0m\u001b[0my\u001b[0m\u001b[1;33m)\u001b[0m\u001b[1;33m:\u001b[0m\u001b[1;33m\u001b[0m\u001b[1;33m\u001b[0m\u001b[0m\n\u001b[0;32m    326\u001b[0m             \u001b[1;32mraise\u001b[0m \u001b[0mValueError\u001b[0m\u001b[1;33m(\u001b[0m\u001b[1;34m\"sparse multilabel-indicator for y is not supported.\"\u001b[0m\u001b[1;33m)\u001b[0m\u001b[1;33m\u001b[0m\u001b[1;33m\u001b[0m\u001b[0m\n\u001b[1;32m--> 327\u001b[1;33m         X, y = self._validate_data(\n\u001b[0m\u001b[0;32m    328\u001b[0m             \u001b[0mX\u001b[0m\u001b[1;33m,\u001b[0m \u001b[0my\u001b[0m\u001b[1;33m,\u001b[0m \u001b[0mmulti_output\u001b[0m\u001b[1;33m=\u001b[0m\u001b[1;32mTrue\u001b[0m\u001b[1;33m,\u001b[0m \u001b[0maccept_sparse\u001b[0m\u001b[1;33m=\u001b[0m\u001b[1;34m\"csc\"\u001b[0m\u001b[1;33m,\u001b[0m \u001b[0mdtype\u001b[0m\u001b[1;33m=\u001b[0m\u001b[0mDTYPE\u001b[0m\u001b[1;33m\u001b[0m\u001b[1;33m\u001b[0m\u001b[0m\n\u001b[0;32m    329\u001b[0m         )\n",
      "\u001b[1;32m~\\anaconda3\\lib\\site-packages\\sklearn\\base.py\u001b[0m in \u001b[0;36m_validate_data\u001b[1;34m(self, X, y, reset, validate_separately, **check_params)\u001b[0m\n\u001b[0;32m    579\u001b[0m                 \u001b[0my\u001b[0m \u001b[1;33m=\u001b[0m \u001b[0mcheck_array\u001b[0m\u001b[1;33m(\u001b[0m\u001b[0my\u001b[0m\u001b[1;33m,\u001b[0m \u001b[1;33m**\u001b[0m\u001b[0mcheck_y_params\u001b[0m\u001b[1;33m)\u001b[0m\u001b[1;33m\u001b[0m\u001b[1;33m\u001b[0m\u001b[0m\n\u001b[0;32m    580\u001b[0m             \u001b[1;32melse\u001b[0m\u001b[1;33m:\u001b[0m\u001b[1;33m\u001b[0m\u001b[1;33m\u001b[0m\u001b[0m\n\u001b[1;32m--> 581\u001b[1;33m                 \u001b[0mX\u001b[0m\u001b[1;33m,\u001b[0m \u001b[0my\u001b[0m \u001b[1;33m=\u001b[0m \u001b[0mcheck_X_y\u001b[0m\u001b[1;33m(\u001b[0m\u001b[0mX\u001b[0m\u001b[1;33m,\u001b[0m \u001b[0my\u001b[0m\u001b[1;33m,\u001b[0m \u001b[1;33m**\u001b[0m\u001b[0mcheck_params\u001b[0m\u001b[1;33m)\u001b[0m\u001b[1;33m\u001b[0m\u001b[1;33m\u001b[0m\u001b[0m\n\u001b[0m\u001b[0;32m    582\u001b[0m             \u001b[0mout\u001b[0m \u001b[1;33m=\u001b[0m \u001b[0mX\u001b[0m\u001b[1;33m,\u001b[0m \u001b[0my\u001b[0m\u001b[1;33m\u001b[0m\u001b[1;33m\u001b[0m\u001b[0m\n\u001b[0;32m    583\u001b[0m \u001b[1;33m\u001b[0m\u001b[0m\n",
      "\u001b[1;32m~\\anaconda3\\lib\\site-packages\\sklearn\\utils\\validation.py\u001b[0m in \u001b[0;36mcheck_X_y\u001b[1;34m(X, y, accept_sparse, accept_large_sparse, dtype, order, copy, force_all_finite, ensure_2d, allow_nd, multi_output, ensure_min_samples, ensure_min_features, y_numeric, estimator)\u001b[0m\n\u001b[0;32m    979\u001b[0m     \u001b[0my\u001b[0m \u001b[1;33m=\u001b[0m \u001b[0m_check_y\u001b[0m\u001b[1;33m(\u001b[0m\u001b[0my\u001b[0m\u001b[1;33m,\u001b[0m \u001b[0mmulti_output\u001b[0m\u001b[1;33m=\u001b[0m\u001b[0mmulti_output\u001b[0m\u001b[1;33m,\u001b[0m \u001b[0my_numeric\u001b[0m\u001b[1;33m=\u001b[0m\u001b[0my_numeric\u001b[0m\u001b[1;33m)\u001b[0m\u001b[1;33m\u001b[0m\u001b[1;33m\u001b[0m\u001b[0m\n\u001b[0;32m    980\u001b[0m \u001b[1;33m\u001b[0m\u001b[0m\n\u001b[1;32m--> 981\u001b[1;33m     \u001b[0mcheck_consistent_length\u001b[0m\u001b[1;33m(\u001b[0m\u001b[0mX\u001b[0m\u001b[1;33m,\u001b[0m \u001b[0my\u001b[0m\u001b[1;33m)\u001b[0m\u001b[1;33m\u001b[0m\u001b[1;33m\u001b[0m\u001b[0m\n\u001b[0m\u001b[0;32m    982\u001b[0m \u001b[1;33m\u001b[0m\u001b[0m\n\u001b[0;32m    983\u001b[0m     \u001b[1;32mreturn\u001b[0m \u001b[0mX\u001b[0m\u001b[1;33m,\u001b[0m \u001b[0my\u001b[0m\u001b[1;33m\u001b[0m\u001b[1;33m\u001b[0m\u001b[0m\n",
      "\u001b[1;32m~\\anaconda3\\lib\\site-packages\\sklearn\\utils\\validation.py\u001b[0m in \u001b[0;36mcheck_consistent_length\u001b[1;34m(*arrays)\u001b[0m\n\u001b[0;32m    330\u001b[0m     \u001b[0muniques\u001b[0m \u001b[1;33m=\u001b[0m \u001b[0mnp\u001b[0m\u001b[1;33m.\u001b[0m\u001b[0munique\u001b[0m\u001b[1;33m(\u001b[0m\u001b[0mlengths\u001b[0m\u001b[1;33m)\u001b[0m\u001b[1;33m\u001b[0m\u001b[1;33m\u001b[0m\u001b[0m\n\u001b[0;32m    331\u001b[0m     \u001b[1;32mif\u001b[0m \u001b[0mlen\u001b[0m\u001b[1;33m(\u001b[0m\u001b[0muniques\u001b[0m\u001b[1;33m)\u001b[0m \u001b[1;33m>\u001b[0m \u001b[1;36m1\u001b[0m\u001b[1;33m:\u001b[0m\u001b[1;33m\u001b[0m\u001b[1;33m\u001b[0m\u001b[0m\n\u001b[1;32m--> 332\u001b[1;33m         raise ValueError(\n\u001b[0m\u001b[0;32m    333\u001b[0m             \u001b[1;34m\"Found input variables with inconsistent numbers of samples: %r\"\u001b[0m\u001b[1;33m\u001b[0m\u001b[1;33m\u001b[0m\u001b[0m\n\u001b[0;32m    334\u001b[0m             \u001b[1;33m%\u001b[0m \u001b[1;33m[\u001b[0m\u001b[0mint\u001b[0m\u001b[1;33m(\u001b[0m\u001b[0ml\u001b[0m\u001b[1;33m)\u001b[0m \u001b[1;32mfor\u001b[0m \u001b[0ml\u001b[0m \u001b[1;32min\u001b[0m \u001b[0mlengths\u001b[0m\u001b[1;33m]\u001b[0m\u001b[1;33m\u001b[0m\u001b[1;33m\u001b[0m\u001b[0m\n",
      "\u001b[1;31mValueError\u001b[0m: Found input variables with inconsistent numbers of samples: [4809, 4810]"
     ]
    }
   ],
   "source": [
    "rt_clf2.fit(x_train1, x_test1)\n",
    "\n",
    "predicted_train_rf2 = rt_clf2.predict(x_train1)\n",
    "predicted_test_rf2 = rt_clf2.predict(x_test1)\n",
    "\n",
    "print(accuracy_score(x_train1, predicted_train_rf2))\n",
    "print(accuracy_score(x_test1, predicted_test_rf2))"
   ]
  },
  {
   "cell_type": "code",
   "execution_count": 52,
   "metadata": {},
   "outputs": [
    {
     "name": "stdout",
     "output_type": "stream",
     "text": [
      "Top 3 important features:\n",
      "                 Feature  Importance\n",
      "10   std_scaled_odometer    0.084224\n",
      "364       diff_years_std    0.073007\n",
      "357             year_std    0.071558\n"
     ]
    }
   ],
   "source": [
    "feature_importance = pd.DataFrame(columns=['Feature', 'Importance'])\n",
    "feature_importance['Feature'] = x_train.columns.tolist()\n",
    "feature_importance['Importance'] = rt_clf.feature_importances_\n",
    "feature_importance = feature_importance.sort_values(by='Importance', ascending=False)\n",
    "\n",
    "# Вывод трех наиболее важных фичей\n",
    "print(\"Top 3 important features:\")\n",
    "print(feature_importance.head(3))\n"
   ]
  },
  {
   "cell_type": "code",
   "execution_count": null,
   "metadata": {},
   "outputs": [],
   "source": []
  },
  {
   "cell_type": "code",
   "execution_count": null,
   "metadata": {},
   "outputs": [],
   "source": []
  }
 ],
 "metadata": {
  "colab": {
   "name": "Модуль 22. Практика.ipynb",
   "provenance": []
  },
  "kernelspec": {
   "display_name": "Python 3 (ipykernel)",
   "language": "python",
   "name": "python3"
  },
  "language_info": {
   "codemirror_mode": {
    "name": "ipython",
    "version": 3
   },
   "file_extension": ".py",
   "mimetype": "text/x-python",
   "name": "python",
   "nbconvert_exporter": "python",
   "pygments_lexer": "ipython3",
   "version": "3.9.13"
  }
 },
 "nbformat": 4,
 "nbformat_minor": 1
}
